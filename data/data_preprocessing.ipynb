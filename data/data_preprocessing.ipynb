{
  "cells": [
    {
      "attachments": {},
      "cell_type": "markdown",
      "metadata": {
        "id": "CLZ2WvhudP7c"
      },
      "source": [
        "# Сбор фичей\n",
        "\n",
        "Cобираем все данные (исходную таблицу и сгенерированные фичи) вместе и делим на тренировочную, валидационную и тестовую выборки в двух вариантах: со сбалансированными и несбалансированными классами"
      ]
    },
    {
      "cell_type": "code",
      "execution_count": 119,
      "metadata": {
        "id": "4tMfbnuUdP7m"
      },
      "outputs": [],
      "source": [
        "import pandas as pd\n",
        "from sklearn.model_selection import train_test_split\n",
        "import matplotlib.pyplot as plt\n",
        "\n",
        "from pymorphy2 import MorphAnalyzer\n",
        "import nltk\n",
        "from nltk.corpus import stopwords\n",
        "import numpy as np\n",
        "\n",
        "import re"
      ]
    },
    {
      "cell_type": "code",
      "execution_count": 134,
      "metadata": {
        "id": "TqOJNRe_dP7q"
      },
      "outputs": [],
      "source": [
        "data = \"../data/wb_school_task_2.csv.gzip\"\n",
        "data = pd.read_csv(data, compression='gzip')\n",
        "data = data.drop_duplicates(ignore_index=True)"
      ]
    },
    {
      "cell_type": "code",
      "execution_count": 135,
      "metadata": {},
      "outputs": [],
      "source": [
        "data = data.drop(['f2', 'f4'], axis=1)"
      ]
    },
    {
      "attachments": {},
      "cell_type": "markdown",
      "metadata": {
        "id": "hbGPdzs1dP7t"
      },
      "source": [
        "## Общие текстовые фичи"
      ]
    },
    {
      "cell_type": "code",
      "execution_count": 136,
      "metadata": {
        "id": "CYYF2neRdP7u",
        "outputId": "0a539365-b609-4d54-d3f3-36d9d63dc216"
      },
      "outputs": [
        {
          "data": {
            "text/html": [
              "<div>\n",
              "<style scoped>\n",
              "    .dataframe tbody tr th:only-of-type {\n",
              "        vertical-align: middle;\n",
              "    }\n",
              "\n",
              "    .dataframe tbody tr th {\n",
              "        vertical-align: top;\n",
              "    }\n",
              "\n",
              "    .dataframe thead th {\n",
              "        text-align: right;\n",
              "    }\n",
              "</style>\n",
              "<table border=\"1\" class=\"dataframe\">\n",
              "  <thead>\n",
              "    <tr style=\"text-align: right;\">\n",
              "      <th></th>\n",
              "      <th>id1</th>\n",
              "      <th>id2</th>\n",
              "      <th>id3</th>\n",
              "      <th>text</th>\n",
              "      <th>label</th>\n",
              "      <th>text_len</th>\n",
              "      <th>words_count</th>\n",
              "      <th>sentence_count</th>\n",
              "      <th>number_percentage</th>\n",
              "      <th>caps_percentage</th>\n",
              "      <th>is_empty</th>\n",
              "    </tr>\n",
              "  </thead>\n",
              "  <tbody>\n",
              "    <tr>\n",
              "      <th>0</th>\n",
              "      <td>7596126584852021591</td>\n",
              "      <td>173777575861152844</td>\n",
              "      <td>18254136755182295358</td>\n",
              "      <td>Хотела купить на замену старых,по итогу эти  у...</td>\n",
              "      <td>0</td>\n",
              "      <td>96</td>\n",
              "      <td>16</td>\n",
              "      <td>2</td>\n",
              "      <td>0.000000</td>\n",
              "      <td>0.062500</td>\n",
              "      <td>0</td>\n",
              "    </tr>\n",
              "    <tr>\n",
              "      <th>1</th>\n",
              "      <td>5327406586753254371</td>\n",
              "      <td>14366783259208998381</td>\n",
              "      <td>2324030737335224220</td>\n",
              "      <td>Запах по сравнению с обычным DOVE никакой. Оно...</td>\n",
              "      <td>1</td>\n",
              "      <td>99</td>\n",
              "      <td>15</td>\n",
              "      <td>3</td>\n",
              "      <td>0.000000</td>\n",
              "      <td>0.266667</td>\n",
              "      <td>0</td>\n",
              "    </tr>\n",
              "    <tr>\n",
              "      <th>2</th>\n",
              "      <td>2636757786779776109</td>\n",
              "      <td>16985421652518589249</td>\n",
              "      <td>4904562693381133981</td>\n",
              "      <td>Кабель подошёл, хорошо работает.</td>\n",
              "      <td>0</td>\n",
              "      <td>32</td>\n",
              "      <td>5</td>\n",
              "      <td>2</td>\n",
              "      <td>0.000000</td>\n",
              "      <td>0.200000</td>\n",
              "      <td>0</td>\n",
              "    </tr>\n",
              "    <tr>\n",
              "      <th>3</th>\n",
              "      <td>15432976385014516263</td>\n",
              "      <td>2629180387521298831</td>\n",
              "      <td>13541353053200353836</td>\n",
              "      <td>Восторг! Очень приятный аромат, держится долго...</td>\n",
              "      <td>1</td>\n",
              "      <td>81</td>\n",
              "      <td>11</td>\n",
              "      <td>3</td>\n",
              "      <td>0.000000</td>\n",
              "      <td>0.181818</td>\n",
              "      <td>0</td>\n",
              "    </tr>\n",
              "    <tr>\n",
              "      <th>4</th>\n",
              "      <td>11933982800034911890</td>\n",
              "      <td>14531191561111600318</td>\n",
              "      <td>9121890650636487522</td>\n",
              "      <td>Визуально все хорошо. Не пробовали. Купили в п...</td>\n",
              "      <td>0</td>\n",
              "      <td>52</td>\n",
              "      <td>8</td>\n",
              "      <td>3</td>\n",
              "      <td>0.000000</td>\n",
              "      <td>0.375000</td>\n",
              "      <td>0</td>\n",
              "    </tr>\n",
              "    <tr>\n",
              "      <th>...</th>\n",
              "      <td>...</td>\n",
              "      <td>...</td>\n",
              "      <td>...</td>\n",
              "      <td>...</td>\n",
              "      <td>...</td>\n",
              "      <td>...</td>\n",
              "      <td>...</td>\n",
              "      <td>...</td>\n",
              "      <td>...</td>\n",
              "      <td>...</td>\n",
              "      <td>...</td>\n",
              "    </tr>\n",
              "    <tr>\n",
              "      <th>3117</th>\n",
              "      <td>764513678578182418</td>\n",
              "      <td>15635360211325277203</td>\n",
              "      <td>6836784353719029392</td>\n",
              "      <td>Стекло не плохое,но есть один минус на техно с...</td>\n",
              "      <td>0</td>\n",
              "      <td>66</td>\n",
              "      <td>13</td>\n",
              "      <td>2</td>\n",
              "      <td>0.076923</td>\n",
              "      <td>0.076923</td>\n",
              "      <td>0</td>\n",
              "    </tr>\n",
              "    <tr>\n",
              "      <th>3118</th>\n",
              "      <td>6838893897482150395</td>\n",
              "      <td>13016265854619171030</td>\n",
              "      <td>12090430373311552618</td>\n",
              "      <td>Всё пришло запаковано, ничего не сломано. Лучш...</td>\n",
              "      <td>0</td>\n",
              "      <td>63</td>\n",
              "      <td>10</td>\n",
              "      <td>2</td>\n",
              "      <td>0.000000</td>\n",
              "      <td>0.200000</td>\n",
              "      <td>0</td>\n",
              "    </tr>\n",
              "    <tr>\n",
              "      <th>3119</th>\n",
              "      <td>3080528623596565085</td>\n",
              "      <td>17787644417937804433</td>\n",
              "      <td>18003133089489520237</td>\n",
              "      <td>Мне нравятся 👍🏻 я очень аллергичная, посоветов...</td>\n",
              "      <td>0</td>\n",
              "      <td>101</td>\n",
              "      <td>13</td>\n",
              "      <td>1</td>\n",
              "      <td>0.000000</td>\n",
              "      <td>0.076923</td>\n",
              "      <td>0</td>\n",
              "    </tr>\n",
              "    <tr>\n",
              "      <th>3120</th>\n",
              "      <td>13059704988549832630</td>\n",
              "      <td>997055248102065549</td>\n",
              "      <td>12214993272083833542</td>\n",
              "      <td>Спасибо,  целая пришла. Хорошо упаковано</td>\n",
              "      <td>0</td>\n",
              "      <td>40</td>\n",
              "      <td>5</td>\n",
              "      <td>2</td>\n",
              "      <td>0.000000</td>\n",
              "      <td>0.400000</td>\n",
              "      <td>0</td>\n",
              "    </tr>\n",
              "    <tr>\n",
              "      <th>3121</th>\n",
              "      <td>11429810966213467017</td>\n",
              "      <td>1380541878847684914</td>\n",
              "      <td>11716132433518331197</td>\n",
              "      <td>Бур нормальный, но выбрал другую модель</td>\n",
              "      <td>0</td>\n",
              "      <td>39</td>\n",
              "      <td>6</td>\n",
              "      <td>1</td>\n",
              "      <td>0.000000</td>\n",
              "      <td>0.166667</td>\n",
              "      <td>0</td>\n",
              "    </tr>\n",
              "  </tbody>\n",
              "</table>\n",
              "<p>3122 rows × 11 columns</p>\n",
              "</div>"
            ],
            "text/plain": [
              "                       id1                   id2                   id3  \\\n",
              "0      7596126584852021591    173777575861152844  18254136755182295358   \n",
              "1      5327406586753254371  14366783259208998381   2324030737335224220   \n",
              "2      2636757786779776109  16985421652518589249   4904562693381133981   \n",
              "3     15432976385014516263   2629180387521298831  13541353053200353836   \n",
              "4     11933982800034911890  14531191561111600318   9121890650636487522   \n",
              "...                    ...                   ...                   ...   \n",
              "3117    764513678578182418  15635360211325277203   6836784353719029392   \n",
              "3118   6838893897482150395  13016265854619171030  12090430373311552618   \n",
              "3119   3080528623596565085  17787644417937804433  18003133089489520237   \n",
              "3120  13059704988549832630    997055248102065549  12214993272083833542   \n",
              "3121  11429810966213467017   1380541878847684914  11716132433518331197   \n",
              "\n",
              "                                                   text  label  text_len  \\\n",
              "0     Хотела купить на замену старых,по итогу эти  у...      0        96   \n",
              "1     Запах по сравнению с обычным DOVE никакой. Оно...      1        99   \n",
              "2                      Кабель подошёл, хорошо работает.      0        32   \n",
              "3     Восторг! Очень приятный аромат, держится долго...      1        81   \n",
              "4     Визуально все хорошо. Не пробовали. Купили в п...      0        52   \n",
              "...                                                 ...    ...       ...   \n",
              "3117  Стекло не плохое,но есть один минус на техно с...      0        66   \n",
              "3118  Всё пришло запаковано, ничего не сломано. Лучш...      0        63   \n",
              "3119  Мне нравятся 👍🏻 я очень аллергичная, посоветов...      0       101   \n",
              "3120           Спасибо,  целая пришла. Хорошо упаковано      0        40   \n",
              "3121            Бур нормальный, но выбрал другую модель      0        39   \n",
              "\n",
              "      words_count  sentence_count  number_percentage  caps_percentage  \\\n",
              "0              16               2           0.000000         0.062500   \n",
              "1              15               3           0.000000         0.266667   \n",
              "2               5               2           0.000000         0.200000   \n",
              "3              11               3           0.000000         0.181818   \n",
              "4               8               3           0.000000         0.375000   \n",
              "...           ...             ...                ...              ...   \n",
              "3117           13               2           0.076923         0.076923   \n",
              "3118           10               2           0.000000         0.200000   \n",
              "3119           13               1           0.000000         0.076923   \n",
              "3120            5               2           0.000000         0.400000   \n",
              "3121            6               1           0.000000         0.166667   \n",
              "\n",
              "      is_empty  \n",
              "0            0  \n",
              "1            0  \n",
              "2            0  \n",
              "3            0  \n",
              "4            0  \n",
              "...        ...  \n",
              "3117         0  \n",
              "3118         0  \n",
              "3119         0  \n",
              "3120         0  \n",
              "3121         0  \n",
              "\n",
              "[3122 rows x 11 columns]"
            ]
          },
          "execution_count": 136,
          "metadata": {},
          "output_type": "execute_result"
        }
      ],
      "source": [
        "def extract_features(s: pd.Series):\n",
        "    text = s['text']\n",
        "    word_count = len(re.findall(r'[а-яА-Яa-zA-Z]+', text))\n",
        "    # есть отзывы, состоящие из смайликов, пробелов или нижних подчеркиваний\n",
        "    if word_count == 0:\n",
        "            return pd.Series({\n",
        "            'id1': s['id1'],\n",
        "            'id2': s['id2'],\n",
        "            'id3': s['id3'],\n",
        "            'text': text,\n",
        "            'label': s['label'],\n",
        "            'text_len': len(text),\n",
        "            'words_count': 0,\n",
        "            'sentence_count': 0,\n",
        "            'number_percentage': 0,\n",
        "            'caps_percentage': 0,\n",
        "            'is_empty': 1\n",
        "        })\n",
        "\n",
        "    return pd.Series({\n",
        "        'id1': s['id1'],\n",
        "        'id2': s['id2'],\n",
        "        'id3': s['id3'],\n",
        "        'text': text,\n",
        "        'label': s['label'],\n",
        "        'text_len': len(text),\n",
        "        'words_count': word_count,\n",
        "        'sentence_count': len(re.split(r'[.!?]+', text)),\n",
        "        'number_percentage': len(re.findall(r'\\d+', text)) / word_count,\n",
        "        'caps_percentage': len(re.findall(r'[А-ЯA-Z]+', text)) / word_count,\n",
        "        'is_empty': 0\n",
        "    })\n",
        "\n",
        "text_features = data.apply(extract_features, axis=1)\n",
        "text_features"
      ]
    },
    {
      "cell_type": "code",
      "execution_count": 137,
      "metadata": {
        "id": "ry4Q7-pJdP7x",
        "outputId": "33689c21-112e-4178-fef1-819122010757"
      },
      "outputs": [
        {
          "data": {
            "text/html": [
              "<div>\n",
              "<style scoped>\n",
              "    .dataframe tbody tr th:only-of-type {\n",
              "        vertical-align: middle;\n",
              "    }\n",
              "\n",
              "    .dataframe tbody tr th {\n",
              "        vertical-align: top;\n",
              "    }\n",
              "\n",
              "    .dataframe thead th {\n",
              "        text-align: right;\n",
              "    }\n",
              "</style>\n",
              "<table border=\"1\" class=\"dataframe\">\n",
              "  <thead>\n",
              "    <tr style=\"text-align: right;\">\n",
              "      <th></th>\n",
              "      <th>id1</th>\n",
              "      <th>id2</th>\n",
              "      <th>id3</th>\n",
              "      <th>text</th>\n",
              "      <th>f1</th>\n",
              "      <th>f3</th>\n",
              "      <th>f5</th>\n",
              "      <th>f6</th>\n",
              "      <th>f7</th>\n",
              "      <th>f8</th>\n",
              "      <th>label</th>\n",
              "      <th>text_len</th>\n",
              "      <th>words_count</th>\n",
              "      <th>sentence_count</th>\n",
              "      <th>number_percentage</th>\n",
              "      <th>caps_percentage</th>\n",
              "      <th>is_empty</th>\n",
              "    </tr>\n",
              "  </thead>\n",
              "  <tbody>\n",
              "    <tr>\n",
              "      <th>0</th>\n",
              "      <td>7596126584852021591</td>\n",
              "      <td>173777575861152844</td>\n",
              "      <td>18254136755182295358</td>\n",
              "      <td>Хотела купить на замену старых,по итогу эти  у...</td>\n",
              "      <td>1</td>\n",
              "      <td>1.000000</td>\n",
              "      <td>13</td>\n",
              "      <td>4.272727</td>\n",
              "      <td>18</td>\n",
              "      <td>36</td>\n",
              "      <td>0</td>\n",
              "      <td>96</td>\n",
              "      <td>16</td>\n",
              "      <td>2</td>\n",
              "      <td>0.000000</td>\n",
              "      <td>0.062500</td>\n",
              "      <td>0</td>\n",
              "    </tr>\n",
              "    <tr>\n",
              "      <th>1</th>\n",
              "      <td>5327406586753254371</td>\n",
              "      <td>14366783259208998381</td>\n",
              "      <td>2324030737335224220</td>\n",
              "      <td>Запах по сравнению с обычным DOVE никакой. Оно...</td>\n",
              "      <td>10</td>\n",
              "      <td>2.700000</td>\n",
              "      <td>4</td>\n",
              "      <td>4.434783</td>\n",
              "      <td>90</td>\n",
              "      <td>109</td>\n",
              "      <td>1</td>\n",
              "      <td>99</td>\n",
              "      <td>15</td>\n",
              "      <td>3</td>\n",
              "      <td>0.000000</td>\n",
              "      <td>0.266667</td>\n",
              "      <td>0</td>\n",
              "    </tr>\n",
              "    <tr>\n",
              "      <th>2</th>\n",
              "      <td>2636757786779776109</td>\n",
              "      <td>16985421652518589249</td>\n",
              "      <td>4904562693381133981</td>\n",
              "      <td>Кабель подошёл, хорошо работает.</td>\n",
              "      <td>4</td>\n",
              "      <td>4.000000</td>\n",
              "      <td>0</td>\n",
              "      <td>4.500000</td>\n",
              "      <td>4</td>\n",
              "      <td>6</td>\n",
              "      <td>0</td>\n",
              "      <td>32</td>\n",
              "      <td>5</td>\n",
              "      <td>2</td>\n",
              "      <td>0.000000</td>\n",
              "      <td>0.200000</td>\n",
              "      <td>0</td>\n",
              "    </tr>\n",
              "    <tr>\n",
              "      <th>3</th>\n",
              "      <td>15432976385014516263</td>\n",
              "      <td>2629180387521298831</td>\n",
              "      <td>13541353053200353836</td>\n",
              "      <td>Восторг! Очень приятный аромат, держится долго...</td>\n",
              "      <td>6</td>\n",
              "      <td>5.000000</td>\n",
              "      <td>30</td>\n",
              "      <td>4.772727</td>\n",
              "      <td>14</td>\n",
              "      <td>15</td>\n",
              "      <td>1</td>\n",
              "      <td>81</td>\n",
              "      <td>11</td>\n",
              "      <td>3</td>\n",
              "      <td>0.000000</td>\n",
              "      <td>0.181818</td>\n",
              "      <td>0</td>\n",
              "    </tr>\n",
              "    <tr>\n",
              "      <th>4</th>\n",
              "      <td>11933982800034911890</td>\n",
              "      <td>14531191561111600318</td>\n",
              "      <td>9121890650636487522</td>\n",
              "      <td>Визуально все хорошо. Не пробовали. Купили в п...</td>\n",
              "      <td>19</td>\n",
              "      <td>5.000000</td>\n",
              "      <td>4</td>\n",
              "      <td>5.000000</td>\n",
              "      <td>26</td>\n",
              "      <td>33</td>\n",
              "      <td>0</td>\n",
              "      <td>52</td>\n",
              "      <td>8</td>\n",
              "      <td>3</td>\n",
              "      <td>0.000000</td>\n",
              "      <td>0.375000</td>\n",
              "      <td>0</td>\n",
              "    </tr>\n",
              "    <tr>\n",
              "      <th>...</th>\n",
              "      <td>...</td>\n",
              "      <td>...</td>\n",
              "      <td>...</td>\n",
              "      <td>...</td>\n",
              "      <td>...</td>\n",
              "      <td>...</td>\n",
              "      <td>...</td>\n",
              "      <td>...</td>\n",
              "      <td>...</td>\n",
              "      <td>...</td>\n",
              "      <td>...</td>\n",
              "      <td>...</td>\n",
              "      <td>...</td>\n",
              "      <td>...</td>\n",
              "      <td>...</td>\n",
              "      <td>...</td>\n",
              "      <td>...</td>\n",
              "    </tr>\n",
              "    <tr>\n",
              "      <th>3117</th>\n",
              "      <td>764513678578182418</td>\n",
              "      <td>15635360211325277203</td>\n",
              "      <td>6836784353719029392</td>\n",
              "      <td>Стекло не плохое,но есть один минус на техно с...</td>\n",
              "      <td>2</td>\n",
              "      <td>3.000000</td>\n",
              "      <td>1</td>\n",
              "      <td>4.263158</td>\n",
              "      <td>9</td>\n",
              "      <td>9</td>\n",
              "      <td>0</td>\n",
              "      <td>66</td>\n",
              "      <td>13</td>\n",
              "      <td>2</td>\n",
              "      <td>0.076923</td>\n",
              "      <td>0.076923</td>\n",
              "      <td>0</td>\n",
              "    </tr>\n",
              "    <tr>\n",
              "      <th>3118</th>\n",
              "      <td>6838893897482150395</td>\n",
              "      <td>13016265854619171030</td>\n",
              "      <td>12090430373311552618</td>\n",
              "      <td>Всё пришло запаковано, ничего не сломано. Лучш...</td>\n",
              "      <td>8</td>\n",
              "      <td>4.375000</td>\n",
              "      <td>83</td>\n",
              "      <td>4.183206</td>\n",
              "      <td>18</td>\n",
              "      <td>18</td>\n",
              "      <td>0</td>\n",
              "      <td>63</td>\n",
              "      <td>10</td>\n",
              "      <td>2</td>\n",
              "      <td>0.000000</td>\n",
              "      <td>0.200000</td>\n",
              "      <td>0</td>\n",
              "    </tr>\n",
              "    <tr>\n",
              "      <th>3119</th>\n",
              "      <td>3080528623596565085</td>\n",
              "      <td>17787644417937804433</td>\n",
              "      <td>18003133089489520237</td>\n",
              "      <td>Мне нравятся 👍🏻 я очень аллергичная, посоветов...</td>\n",
              "      <td>13</td>\n",
              "      <td>5.000000</td>\n",
              "      <td>2</td>\n",
              "      <td>4.944828</td>\n",
              "      <td>12</td>\n",
              "      <td>14</td>\n",
              "      <td>0</td>\n",
              "      <td>101</td>\n",
              "      <td>13</td>\n",
              "      <td>1</td>\n",
              "      <td>0.000000</td>\n",
              "      <td>0.076923</td>\n",
              "      <td>0</td>\n",
              "    </tr>\n",
              "    <tr>\n",
              "      <th>3120</th>\n",
              "      <td>13059704988549832630</td>\n",
              "      <td>997055248102065549</td>\n",
              "      <td>12214993272083833542</td>\n",
              "      <td>Спасибо,  целая пришла. Хорошо упаковано</td>\n",
              "      <td>3</td>\n",
              "      <td>5.000000</td>\n",
              "      <td>19</td>\n",
              "      <td>4.648780</td>\n",
              "      <td>103</td>\n",
              "      <td>155</td>\n",
              "      <td>0</td>\n",
              "      <td>40</td>\n",
              "      <td>5</td>\n",
              "      <td>2</td>\n",
              "      <td>0.000000</td>\n",
              "      <td>0.400000</td>\n",
              "      <td>0</td>\n",
              "    </tr>\n",
              "    <tr>\n",
              "      <th>3121</th>\n",
              "      <td>11429810966213467017</td>\n",
              "      <td>1380541878847684914</td>\n",
              "      <td>11716132433518331197</td>\n",
              "      <td>Бур нормальный, но выбрал другую модель</td>\n",
              "      <td>42</td>\n",
              "      <td>4.809524</td>\n",
              "      <td>17</td>\n",
              "      <td>4.655738</td>\n",
              "      <td>54</td>\n",
              "      <td>101</td>\n",
              "      <td>0</td>\n",
              "      <td>39</td>\n",
              "      <td>6</td>\n",
              "      <td>1</td>\n",
              "      <td>0.000000</td>\n",
              "      <td>0.166667</td>\n",
              "      <td>0</td>\n",
              "    </tr>\n",
              "  </tbody>\n",
              "</table>\n",
              "<p>3122 rows × 17 columns</p>\n",
              "</div>"
            ],
            "text/plain": [
              "                       id1                   id2                   id3  \\\n",
              "0      7596126584852021591    173777575861152844  18254136755182295358   \n",
              "1      5327406586753254371  14366783259208998381   2324030737335224220   \n",
              "2      2636757786779776109  16985421652518589249   4904562693381133981   \n",
              "3     15432976385014516263   2629180387521298831  13541353053200353836   \n",
              "4     11933982800034911890  14531191561111600318   9121890650636487522   \n",
              "...                    ...                   ...                   ...   \n",
              "3117    764513678578182418  15635360211325277203   6836784353719029392   \n",
              "3118   6838893897482150395  13016265854619171030  12090430373311552618   \n",
              "3119   3080528623596565085  17787644417937804433  18003133089489520237   \n",
              "3120  13059704988549832630    997055248102065549  12214993272083833542   \n",
              "3121  11429810966213467017   1380541878847684914  11716132433518331197   \n",
              "\n",
              "                                                   text  f1        f3  f5  \\\n",
              "0     Хотела купить на замену старых,по итогу эти  у...   1  1.000000  13   \n",
              "1     Запах по сравнению с обычным DOVE никакой. Оно...  10  2.700000   4   \n",
              "2                      Кабель подошёл, хорошо работает.   4  4.000000   0   \n",
              "3     Восторг! Очень приятный аромат, держится долго...   6  5.000000  30   \n",
              "4     Визуально все хорошо. Не пробовали. Купили в п...  19  5.000000   4   \n",
              "...                                                 ...  ..       ...  ..   \n",
              "3117  Стекло не плохое,но есть один минус на техно с...   2  3.000000   1   \n",
              "3118  Всё пришло запаковано, ничего не сломано. Лучш...   8  4.375000  83   \n",
              "3119  Мне нравятся 👍🏻 я очень аллергичная, посоветов...  13  5.000000   2   \n",
              "3120           Спасибо,  целая пришла. Хорошо упаковано   3  5.000000  19   \n",
              "3121            Бур нормальный, но выбрал другую модель  42  4.809524  17   \n",
              "\n",
              "            f6   f7   f8  label  text_len  words_count  sentence_count  \\\n",
              "0     4.272727   18   36      0        96           16               2   \n",
              "1     4.434783   90  109      1        99           15               3   \n",
              "2     4.500000    4    6      0        32            5               2   \n",
              "3     4.772727   14   15      1        81           11               3   \n",
              "4     5.000000   26   33      0        52            8               3   \n",
              "...        ...  ...  ...    ...       ...          ...             ...   \n",
              "3117  4.263158    9    9      0        66           13               2   \n",
              "3118  4.183206   18   18      0        63           10               2   \n",
              "3119  4.944828   12   14      0       101           13               1   \n",
              "3120  4.648780  103  155      0        40            5               2   \n",
              "3121  4.655738   54  101      0        39            6               1   \n",
              "\n",
              "      number_percentage  caps_percentage  is_empty  \n",
              "0              0.000000         0.062500         0  \n",
              "1              0.000000         0.266667         0  \n",
              "2              0.000000         0.200000         0  \n",
              "3              0.000000         0.181818         0  \n",
              "4              0.000000         0.375000         0  \n",
              "...                 ...              ...       ...  \n",
              "3117           0.076923         0.076923         0  \n",
              "3118           0.000000         0.200000         0  \n",
              "3119           0.000000         0.076923         0  \n",
              "3120           0.000000         0.400000         0  \n",
              "3121           0.000000         0.166667         0  \n",
              "\n",
              "[3122 rows x 17 columns]"
            ]
          },
          "execution_count": 137,
          "metadata": {},
          "output_type": "execute_result"
        }
      ],
      "source": [
        "merged_dataset = pd.merge(data, text_features, on=['text', 'label', 'id1', 'id2', 'id3'], how='left')\n",
        "merged_dataset"
      ]
    },
    {
      "attachments": {},
      "cell_type": "markdown",
      "metadata": {
        "id": "9NwvYVqhdP7y"
      },
      "source": [
        "## Фичи из ID"
      ]
    },
    {
      "cell_type": "code",
      "execution_count": 138,
      "metadata": {
        "id": "wzAzovNEdP7z"
      },
      "outputs": [],
      "source": [
        "def id_analize(id_col: str, data: pd.DataFrame):\n",
        "    df = data[[id_col, \"label\"]]\n",
        "    df = df.groupby(by=id_col)\n",
        "    col0 = id_col + \"_0\"\n",
        "    col1 = id_col + \"_1\"\n",
        "    result = pd.DataFrame(data = {id_col: data[id_col].unique()}, columns=[id_col, col0, col1])\n",
        "    for idn, table in df:\n",
        "        if table.shape[0] < 3: \n",
        "            result.loc[result[id_col]==idn, col0] = 0\n",
        "            result.loc[result[id_col]==idn, col1] = 0\n",
        "            continue\n",
        "        result.loc[result[id_col]==idn, col0] = (table['label'] == 0).sum()/table.shape[0]\n",
        "        result.loc[result[id_col]==idn, col1] = (table['label'] == 1).sum()/table.shape[0]\n",
        "    return result\n",
        "\n",
        "\n",
        "#for col in ['id1', 'id2']:\n",
        "    #id_analized = id_analize(col, data)\n",
        "    #id_analized.to_csv(f\"./{col}_data.csv\", index=False)\n",
        "    #merged_dataset = merged_dataset.merge(id_analized, how='left', on=col)"
      ]
    },
    {
      "cell_type": "code",
      "execution_count": 139,
      "metadata": {},
      "outputs": [],
      "source": [
        "def id_analize2(id_col: str, data: pd.DataFrame):\n",
        "    df = data[[id_col, \"label\"]]\n",
        "    df = df.groupby(by=id_col)\n",
        "    col0 = id_col+\"_pred\"\n",
        "    col1 = id_col+\"_in_database\"\n",
        "    result = pd.DataFrame(data = {id_col: data[id_col].unique()}, columns=[id_col, col0, col1])\n",
        "    for idn, table in df:\n",
        "        if table.shape[0] < 3: \n",
        "            result.loc[result[id_col]==idn, col0] = 0\n",
        "            result.loc[result[id_col]==idn, col1] = 0\n",
        "            continue\n",
        "        result.loc[result[id_col]==idn, col0] = (table['label'] == 1).sum()/table.shape[0]\n",
        "        result.loc[result[id_col]==idn, col1] = 1\n",
        "    return result\n",
        "\n",
        "\n",
        "for col in ['id1', 'id2']:\n",
        "    id_analized = id_analize2(col, data)\n",
        "    id_analized.to_csv(f\"./{col}_data.csv\", index=False)\n",
        "    merged_dataset = merged_dataset.merge(id_analized, how='left', on=col)"
      ]
    },
    {
      "cell_type": "code",
      "execution_count": 141,
      "metadata": {},
      "outputs": [
        {
          "data": {
            "text/html": [
              "<div>\n",
              "<style scoped>\n",
              "    .dataframe tbody tr th:only-of-type {\n",
              "        vertical-align: middle;\n",
              "    }\n",
              "\n",
              "    .dataframe tbody tr th {\n",
              "        vertical-align: top;\n",
              "    }\n",
              "\n",
              "    .dataframe thead th {\n",
              "        text-align: right;\n",
              "    }\n",
              "</style>\n",
              "<table border=\"1\" class=\"dataframe\">\n",
              "  <thead>\n",
              "    <tr style=\"text-align: right;\">\n",
              "      <th></th>\n",
              "      <th>id2</th>\n",
              "      <th>id2_pred</th>\n",
              "      <th>id2_in_database</th>\n",
              "    </tr>\n",
              "  </thead>\n",
              "  <tbody>\n",
              "    <tr>\n",
              "      <th>0</th>\n",
              "      <td>173777575861152844</td>\n",
              "      <td>0</td>\n",
              "      <td>0</td>\n",
              "    </tr>\n",
              "    <tr>\n",
              "      <th>1</th>\n",
              "      <td>14366783259208998381</td>\n",
              "      <td>0</td>\n",
              "      <td>0</td>\n",
              "    </tr>\n",
              "    <tr>\n",
              "      <th>2</th>\n",
              "      <td>16985421652518589249</td>\n",
              "      <td>0</td>\n",
              "      <td>0</td>\n",
              "    </tr>\n",
              "    <tr>\n",
              "      <th>3</th>\n",
              "      <td>2629180387521298831</td>\n",
              "      <td>0</td>\n",
              "      <td>0</td>\n",
              "    </tr>\n",
              "    <tr>\n",
              "      <th>4</th>\n",
              "      <td>14531191561111600318</td>\n",
              "      <td>0</td>\n",
              "      <td>0</td>\n",
              "    </tr>\n",
              "    <tr>\n",
              "      <th>...</th>\n",
              "      <td>...</td>\n",
              "      <td>...</td>\n",
              "      <td>...</td>\n",
              "    </tr>\n",
              "    <tr>\n",
              "      <th>3001</th>\n",
              "      <td>15635360211325277203</td>\n",
              "      <td>0</td>\n",
              "      <td>0</td>\n",
              "    </tr>\n",
              "    <tr>\n",
              "      <th>3002</th>\n",
              "      <td>13016265854619171030</td>\n",
              "      <td>0</td>\n",
              "      <td>0</td>\n",
              "    </tr>\n",
              "    <tr>\n",
              "      <th>3003</th>\n",
              "      <td>17787644417937804433</td>\n",
              "      <td>0</td>\n",
              "      <td>0</td>\n",
              "    </tr>\n",
              "    <tr>\n",
              "      <th>3004</th>\n",
              "      <td>997055248102065549</td>\n",
              "      <td>0</td>\n",
              "      <td>0</td>\n",
              "    </tr>\n",
              "    <tr>\n",
              "      <th>3005</th>\n",
              "      <td>1380541878847684914</td>\n",
              "      <td>0</td>\n",
              "      <td>0</td>\n",
              "    </tr>\n",
              "  </tbody>\n",
              "</table>\n",
              "<p>2992 rows × 3 columns</p>\n",
              "</div>"
            ],
            "text/plain": [
              "                       id2 id2_pred id2_in_database\n",
              "0       173777575861152844        0               0\n",
              "1     14366783259208998381        0               0\n",
              "2     16985421652518589249        0               0\n",
              "3      2629180387521298831        0               0\n",
              "4     14531191561111600318        0               0\n",
              "...                    ...      ...             ...\n",
              "3001  15635360211325277203        0               0\n",
              "3002  13016265854619171030        0               0\n",
              "3003  17787644417937804433        0               0\n",
              "3004    997055248102065549        0               0\n",
              "3005   1380541878847684914        0               0\n",
              "\n",
              "[2992 rows x 3 columns]"
            ]
          },
          "execution_count": 141,
          "metadata": {},
          "output_type": "execute_result"
        }
      ],
      "source": [
        "id_analized[id_analized['id2_in_database'] == 0]"
      ]
    },
    {
      "cell_type": "code",
      "execution_count": 142,
      "metadata": {},
      "outputs": [
        {
          "data": {
            "text/html": [
              "<div>\n",
              "<style scoped>\n",
              "    .dataframe tbody tr th:only-of-type {\n",
              "        vertical-align: middle;\n",
              "    }\n",
              "\n",
              "    .dataframe tbody tr th {\n",
              "        vertical-align: top;\n",
              "    }\n",
              "\n",
              "    .dataframe thead th {\n",
              "        text-align: right;\n",
              "    }\n",
              "</style>\n",
              "<table border=\"1\" class=\"dataframe\">\n",
              "  <thead>\n",
              "    <tr style=\"text-align: right;\">\n",
              "      <th></th>\n",
              "      <th>id1</th>\n",
              "      <th>id2</th>\n",
              "      <th>id3</th>\n",
              "      <th>text</th>\n",
              "      <th>f1</th>\n",
              "      <th>f3</th>\n",
              "      <th>f5</th>\n",
              "      <th>f6</th>\n",
              "      <th>f7</th>\n",
              "      <th>f8</th>\n",
              "      <th>...</th>\n",
              "      <th>text_len</th>\n",
              "      <th>words_count</th>\n",
              "      <th>sentence_count</th>\n",
              "      <th>number_percentage</th>\n",
              "      <th>caps_percentage</th>\n",
              "      <th>is_empty</th>\n",
              "      <th>id1_pred</th>\n",
              "      <th>id1_in_database</th>\n",
              "      <th>id2_pred</th>\n",
              "      <th>id2_in_database</th>\n",
              "    </tr>\n",
              "  </thead>\n",
              "  <tbody>\n",
              "    <tr>\n",
              "      <th>0</th>\n",
              "      <td>7596126584852021591</td>\n",
              "      <td>173777575861152844</td>\n",
              "      <td>18254136755182295358</td>\n",
              "      <td>Хотела купить на замену старых,по итогу эти  у...</td>\n",
              "      <td>1</td>\n",
              "      <td>1.0</td>\n",
              "      <td>13</td>\n",
              "      <td>4.272727</td>\n",
              "      <td>18</td>\n",
              "      <td>36</td>\n",
              "      <td>...</td>\n",
              "      <td>96</td>\n",
              "      <td>16</td>\n",
              "      <td>2</td>\n",
              "      <td>0.0</td>\n",
              "      <td>0.062500</td>\n",
              "      <td>0</td>\n",
              "      <td>0</td>\n",
              "      <td>0</td>\n",
              "      <td>0</td>\n",
              "      <td>0</td>\n",
              "    </tr>\n",
              "    <tr>\n",
              "      <th>1</th>\n",
              "      <td>5327406586753254371</td>\n",
              "      <td>14366783259208998381</td>\n",
              "      <td>2324030737335224220</td>\n",
              "      <td>Запах по сравнению с обычным DOVE никакой. Оно...</td>\n",
              "      <td>10</td>\n",
              "      <td>2.7</td>\n",
              "      <td>4</td>\n",
              "      <td>4.434783</td>\n",
              "      <td>90</td>\n",
              "      <td>109</td>\n",
              "      <td>...</td>\n",
              "      <td>99</td>\n",
              "      <td>15</td>\n",
              "      <td>3</td>\n",
              "      <td>0.0</td>\n",
              "      <td>0.266667</td>\n",
              "      <td>0</td>\n",
              "      <td>0</td>\n",
              "      <td>0</td>\n",
              "      <td>0</td>\n",
              "      <td>0</td>\n",
              "    </tr>\n",
              "    <tr>\n",
              "      <th>2</th>\n",
              "      <td>2636757786779776109</td>\n",
              "      <td>16985421652518589249</td>\n",
              "      <td>4904562693381133981</td>\n",
              "      <td>Кабель подошёл, хорошо работает.</td>\n",
              "      <td>4</td>\n",
              "      <td>4.0</td>\n",
              "      <td>0</td>\n",
              "      <td>4.500000</td>\n",
              "      <td>4</td>\n",
              "      <td>6</td>\n",
              "      <td>...</td>\n",
              "      <td>32</td>\n",
              "      <td>5</td>\n",
              "      <td>2</td>\n",
              "      <td>0.0</td>\n",
              "      <td>0.200000</td>\n",
              "      <td>0</td>\n",
              "      <td>0</td>\n",
              "      <td>0</td>\n",
              "      <td>0</td>\n",
              "      <td>0</td>\n",
              "    </tr>\n",
              "    <tr>\n",
              "      <th>3</th>\n",
              "      <td>15432976385014516263</td>\n",
              "      <td>2629180387521298831</td>\n",
              "      <td>13541353053200353836</td>\n",
              "      <td>Восторг! Очень приятный аромат, держится долго...</td>\n",
              "      <td>6</td>\n",
              "      <td>5.0</td>\n",
              "      <td>30</td>\n",
              "      <td>4.772727</td>\n",
              "      <td>14</td>\n",
              "      <td>15</td>\n",
              "      <td>...</td>\n",
              "      <td>81</td>\n",
              "      <td>11</td>\n",
              "      <td>3</td>\n",
              "      <td>0.0</td>\n",
              "      <td>0.181818</td>\n",
              "      <td>0</td>\n",
              "      <td>0</td>\n",
              "      <td>0</td>\n",
              "      <td>0</td>\n",
              "      <td>0</td>\n",
              "    </tr>\n",
              "    <tr>\n",
              "      <th>4</th>\n",
              "      <td>11933982800034911890</td>\n",
              "      <td>14531191561111600318</td>\n",
              "      <td>9121890650636487522</td>\n",
              "      <td>Визуально все хорошо. Не пробовали. Купили в п...</td>\n",
              "      <td>19</td>\n",
              "      <td>5.0</td>\n",
              "      <td>4</td>\n",
              "      <td>5.000000</td>\n",
              "      <td>26</td>\n",
              "      <td>33</td>\n",
              "      <td>...</td>\n",
              "      <td>52</td>\n",
              "      <td>8</td>\n",
              "      <td>3</td>\n",
              "      <td>0.0</td>\n",
              "      <td>0.375000</td>\n",
              "      <td>0</td>\n",
              "      <td>0</td>\n",
              "      <td>0</td>\n",
              "      <td>0</td>\n",
              "      <td>0</td>\n",
              "    </tr>\n",
              "  </tbody>\n",
              "</table>\n",
              "<p>5 rows × 21 columns</p>\n",
              "</div>"
            ],
            "text/plain": [
              "                    id1                   id2                   id3  \\\n",
              "0   7596126584852021591    173777575861152844  18254136755182295358   \n",
              "1   5327406586753254371  14366783259208998381   2324030737335224220   \n",
              "2   2636757786779776109  16985421652518589249   4904562693381133981   \n",
              "3  15432976385014516263   2629180387521298831  13541353053200353836   \n",
              "4  11933982800034911890  14531191561111600318   9121890650636487522   \n",
              "\n",
              "                                                text  f1   f3  f5        f6  \\\n",
              "0  Хотела купить на замену старых,по итогу эти  у...   1  1.0  13  4.272727   \n",
              "1  Запах по сравнению с обычным DOVE никакой. Оно...  10  2.7   4  4.434783   \n",
              "2                   Кабель подошёл, хорошо работает.   4  4.0   0  4.500000   \n",
              "3  Восторг! Очень приятный аромат, держится долго...   6  5.0  30  4.772727   \n",
              "4  Визуально все хорошо. Не пробовали. Купили в п...  19  5.0   4  5.000000   \n",
              "\n",
              "   f7   f8  ...  text_len  words_count  sentence_count  number_percentage  \\\n",
              "0  18   36  ...        96           16               2                0.0   \n",
              "1  90  109  ...        99           15               3                0.0   \n",
              "2   4    6  ...        32            5               2                0.0   \n",
              "3  14   15  ...        81           11               3                0.0   \n",
              "4  26   33  ...        52            8               3                0.0   \n",
              "\n",
              "   caps_percentage  is_empty  id1_pred id1_in_database id2_pred  \\\n",
              "0         0.062500         0         0               0        0   \n",
              "1         0.266667         0         0               0        0   \n",
              "2         0.200000         0         0               0        0   \n",
              "3         0.181818         0         0               0        0   \n",
              "4         0.375000         0         0               0        0   \n",
              "\n",
              "  id2_in_database  \n",
              "0               0  \n",
              "1               0  \n",
              "2               0  \n",
              "3               0  \n",
              "4               0  \n",
              "\n",
              "[5 rows x 21 columns]"
            ]
          },
          "execution_count": 142,
          "metadata": {},
          "output_type": "execute_result"
        }
      ],
      "source": [
        "merged_dataset.head()"
      ]
    },
    {
      "attachments": {},
      "cell_type": "markdown",
      "metadata": {
        "id": "ADe8haA3dP72"
      },
      "source": [
        "## Классификация текстов\n",
        "\n",
        "Вместо того, чтобы конкатенировать векторизированные слова вместе с основными фичами, просто сделаем отдельную классификацию текстов"
      ]
    },
    {
      "cell_type": "code",
      "execution_count": 143,
      "metadata": {
        "id": "SxctlucodP73"
      },
      "outputs": [],
      "source": [
        "from gensim.test.utils import common_texts\n",
        "from gensim.models import Word2Vec, KeyedVectors\n",
        "\n",
        "from navec import Navec\n",
        "\n",
        "navec = Navec.load(\"../model/navec_hudlit_v1_12B_500K_300d_100q.tar\")\n",
        "\n",
        "patterns = \"[A-Za-z0-9!#$%&'()*+,./:;<=>?@[\\]^_`{|}~—\\\"\\-]+\"\n",
        "stopwords_ru = stopwords.words(\"russian\")\n",
        "morph = MorphAnalyzer()"
      ]
    },
    {
      "cell_type": "code",
      "execution_count": 144,
      "metadata": {
        "id": "18wxgCI7dP75"
      },
      "outputs": [],
      "source": [
        "import pickle\n",
        "with open(\"../model/text_cl.pkl\", 'rb') as f:\n",
        "    text_classifier = pickle.load(f) \n",
        "\n",
        "with open(\"../model/tf_idf.pkl\", 'rb') as f:\n",
        "    tf_idf = pickle.load(f)"
      ]
    },
    {
      "cell_type": "code",
      "execution_count": 145,
      "metadata": {
        "id": "JklmQOaqdP76"
      },
      "outputs": [],
      "source": [
        "def text_classification(doc):\n",
        "    local_falls = 0\n",
        "    doc = re.sub(patterns, ' ', doc)\n",
        "    vector = tf_idf.transform([doc])\n",
        "    proba = text_classifier.predict_proba(vector)[0]\n",
        "    for token in doc.split():\n",
        "        token = re.sub(\"[^А-Яа-я]\", '', token)\n",
        "        if token and token not in stopwords_ru:\n",
        "            token = token.strip()\n",
        "            token = morph.normal_forms(token)[0]\n",
        "            try:\n",
        "                navec[token]\n",
        "            except:\n",
        "                local_falls += 1\n",
        "    return *proba, local_falls\n",
        "\n",
        "vector_data = data.apply(lambda x: text_classification(x['text']), axis=1)"
      ]
    },
    {
      "cell_type": "code",
      "execution_count": 146,
      "metadata": {
        "id": "ld0jTqALdP78",
        "outputId": "24abfb94-4011-4391-c77f-38770b852b9d"
      },
      "outputs": [
        {
          "data": {
            "text/plain": [
              "0     (0.4412327999466402, 0.5587672000533598, 2)\n",
              "1    (0.48205227866352807, 0.5179477213364719, 1)\n",
              "2     (0.5875346499393287, 0.4124653500606713, 1)\n",
              "3     (0.4951146734684083, 0.5048853265315917, 0)\n",
              "4    (0.5327510653776146, 0.46724893462238537, 0)\n",
              "dtype: object"
            ]
          },
          "execution_count": 146,
          "metadata": {},
          "output_type": "execute_result"
        }
      ],
      "source": [
        "vector_data.head()"
      ]
    },
    {
      "cell_type": "code",
      "execution_count": 147,
      "metadata": {
        "id": "KkhvTiLLdP79"
      },
      "outputs": [],
      "source": [
        "text_data = vector_data.apply(lambda x: pd.Series(x, index=['text_0', 'text_1', 'falls_count']))"
      ]
    },
    {
      "cell_type": "code",
      "execution_count": 148,
      "metadata": {
        "id": "wL_xGHpxdP7-",
        "outputId": "6624b76e-e475-43ff-8145-2f2f0d7e1552"
      },
      "outputs": [
        {
          "data": {
            "text/html": [
              "<div>\n",
              "<style scoped>\n",
              "    .dataframe tbody tr th:only-of-type {\n",
              "        vertical-align: middle;\n",
              "    }\n",
              "\n",
              "    .dataframe tbody tr th {\n",
              "        vertical-align: top;\n",
              "    }\n",
              "\n",
              "    .dataframe thead th {\n",
              "        text-align: right;\n",
              "    }\n",
              "</style>\n",
              "<table border=\"1\" class=\"dataframe\">\n",
              "  <thead>\n",
              "    <tr style=\"text-align: right;\">\n",
              "      <th></th>\n",
              "      <th>text_0</th>\n",
              "      <th>text_1</th>\n",
              "      <th>falls_count</th>\n",
              "    </tr>\n",
              "  </thead>\n",
              "  <tbody>\n",
              "    <tr>\n",
              "      <th>0</th>\n",
              "      <td>0.441233</td>\n",
              "      <td>0.558767</td>\n",
              "      <td>2.0</td>\n",
              "    </tr>\n",
              "    <tr>\n",
              "      <th>1</th>\n",
              "      <td>0.482052</td>\n",
              "      <td>0.517948</td>\n",
              "      <td>1.0</td>\n",
              "    </tr>\n",
              "    <tr>\n",
              "      <th>2</th>\n",
              "      <td>0.587535</td>\n",
              "      <td>0.412465</td>\n",
              "      <td>1.0</td>\n",
              "    </tr>\n",
              "    <tr>\n",
              "      <th>3</th>\n",
              "      <td>0.495115</td>\n",
              "      <td>0.504885</td>\n",
              "      <td>0.0</td>\n",
              "    </tr>\n",
              "    <tr>\n",
              "      <th>4</th>\n",
              "      <td>0.532751</td>\n",
              "      <td>0.467249</td>\n",
              "      <td>0.0</td>\n",
              "    </tr>\n",
              "  </tbody>\n",
              "</table>\n",
              "</div>"
            ],
            "text/plain": [
              "     text_0    text_1  falls_count\n",
              "0  0.441233  0.558767          2.0\n",
              "1  0.482052  0.517948          1.0\n",
              "2  0.587535  0.412465          1.0\n",
              "3  0.495115  0.504885          0.0\n",
              "4  0.532751  0.467249          0.0"
            ]
          },
          "execution_count": 148,
          "metadata": {},
          "output_type": "execute_result"
        }
      ],
      "source": [
        "text_data.head()"
      ]
    },
    {
      "cell_type": "code",
      "execution_count": 149,
      "metadata": {
        "id": "oBJs6xgAdP8A"
      },
      "outputs": [],
      "source": [
        "full_data = merged_dataset.merge(text_data, left_index=True, right_index=True)"
      ]
    },
    {
      "cell_type": "code",
      "execution_count": 150,
      "metadata": {},
      "outputs": [
        {
          "data": {
            "text/html": [
              "<div>\n",
              "<style scoped>\n",
              "    .dataframe tbody tr th:only-of-type {\n",
              "        vertical-align: middle;\n",
              "    }\n",
              "\n",
              "    .dataframe tbody tr th {\n",
              "        vertical-align: top;\n",
              "    }\n",
              "\n",
              "    .dataframe thead th {\n",
              "        text-align: right;\n",
              "    }\n",
              "</style>\n",
              "<table border=\"1\" class=\"dataframe\">\n",
              "  <thead>\n",
              "    <tr style=\"text-align: right;\">\n",
              "      <th></th>\n",
              "      <th>id1</th>\n",
              "      <th>id2</th>\n",
              "      <th>id3</th>\n",
              "      <th>text</th>\n",
              "      <th>f1</th>\n",
              "      <th>f3</th>\n",
              "      <th>f5</th>\n",
              "      <th>f6</th>\n",
              "      <th>f7</th>\n",
              "      <th>f8</th>\n",
              "      <th>...</th>\n",
              "      <th>number_percentage</th>\n",
              "      <th>caps_percentage</th>\n",
              "      <th>is_empty</th>\n",
              "      <th>id1_pred</th>\n",
              "      <th>id1_in_database</th>\n",
              "      <th>id2_pred</th>\n",
              "      <th>id2_in_database</th>\n",
              "      <th>text_0</th>\n",
              "      <th>text_1</th>\n",
              "      <th>falls_count</th>\n",
              "    </tr>\n",
              "  </thead>\n",
              "  <tbody>\n",
              "    <tr>\n",
              "      <th>0</th>\n",
              "      <td>7596126584852021591</td>\n",
              "      <td>173777575861152844</td>\n",
              "      <td>18254136755182295358</td>\n",
              "      <td>Хотела купить на замену старых,по итогу эти  у...</td>\n",
              "      <td>1</td>\n",
              "      <td>1.0</td>\n",
              "      <td>13</td>\n",
              "      <td>4.272727</td>\n",
              "      <td>18</td>\n",
              "      <td>36</td>\n",
              "      <td>...</td>\n",
              "      <td>0.0</td>\n",
              "      <td>0.062500</td>\n",
              "      <td>0</td>\n",
              "      <td>0</td>\n",
              "      <td>0</td>\n",
              "      <td>0</td>\n",
              "      <td>0</td>\n",
              "      <td>0.441233</td>\n",
              "      <td>0.558767</td>\n",
              "      <td>2.0</td>\n",
              "    </tr>\n",
              "    <tr>\n",
              "      <th>1</th>\n",
              "      <td>5327406586753254371</td>\n",
              "      <td>14366783259208998381</td>\n",
              "      <td>2324030737335224220</td>\n",
              "      <td>Запах по сравнению с обычным DOVE никакой. Оно...</td>\n",
              "      <td>10</td>\n",
              "      <td>2.7</td>\n",
              "      <td>4</td>\n",
              "      <td>4.434783</td>\n",
              "      <td>90</td>\n",
              "      <td>109</td>\n",
              "      <td>...</td>\n",
              "      <td>0.0</td>\n",
              "      <td>0.266667</td>\n",
              "      <td>0</td>\n",
              "      <td>0</td>\n",
              "      <td>0</td>\n",
              "      <td>0</td>\n",
              "      <td>0</td>\n",
              "      <td>0.482052</td>\n",
              "      <td>0.517948</td>\n",
              "      <td>1.0</td>\n",
              "    </tr>\n",
              "    <tr>\n",
              "      <th>2</th>\n",
              "      <td>2636757786779776109</td>\n",
              "      <td>16985421652518589249</td>\n",
              "      <td>4904562693381133981</td>\n",
              "      <td>Кабель подошёл, хорошо работает.</td>\n",
              "      <td>4</td>\n",
              "      <td>4.0</td>\n",
              "      <td>0</td>\n",
              "      <td>4.500000</td>\n",
              "      <td>4</td>\n",
              "      <td>6</td>\n",
              "      <td>...</td>\n",
              "      <td>0.0</td>\n",
              "      <td>0.200000</td>\n",
              "      <td>0</td>\n",
              "      <td>0</td>\n",
              "      <td>0</td>\n",
              "      <td>0</td>\n",
              "      <td>0</td>\n",
              "      <td>0.587535</td>\n",
              "      <td>0.412465</td>\n",
              "      <td>1.0</td>\n",
              "    </tr>\n",
              "    <tr>\n",
              "      <th>3</th>\n",
              "      <td>15432976385014516263</td>\n",
              "      <td>2629180387521298831</td>\n",
              "      <td>13541353053200353836</td>\n",
              "      <td>Восторг! Очень приятный аромат, держится долго...</td>\n",
              "      <td>6</td>\n",
              "      <td>5.0</td>\n",
              "      <td>30</td>\n",
              "      <td>4.772727</td>\n",
              "      <td>14</td>\n",
              "      <td>15</td>\n",
              "      <td>...</td>\n",
              "      <td>0.0</td>\n",
              "      <td>0.181818</td>\n",
              "      <td>0</td>\n",
              "      <td>0</td>\n",
              "      <td>0</td>\n",
              "      <td>0</td>\n",
              "      <td>0</td>\n",
              "      <td>0.495115</td>\n",
              "      <td>0.504885</td>\n",
              "      <td>0.0</td>\n",
              "    </tr>\n",
              "    <tr>\n",
              "      <th>4</th>\n",
              "      <td>11933982800034911890</td>\n",
              "      <td>14531191561111600318</td>\n",
              "      <td>9121890650636487522</td>\n",
              "      <td>Визуально все хорошо. Не пробовали. Купили в п...</td>\n",
              "      <td>19</td>\n",
              "      <td>5.0</td>\n",
              "      <td>4</td>\n",
              "      <td>5.000000</td>\n",
              "      <td>26</td>\n",
              "      <td>33</td>\n",
              "      <td>...</td>\n",
              "      <td>0.0</td>\n",
              "      <td>0.375000</td>\n",
              "      <td>0</td>\n",
              "      <td>0</td>\n",
              "      <td>0</td>\n",
              "      <td>0</td>\n",
              "      <td>0</td>\n",
              "      <td>0.532751</td>\n",
              "      <td>0.467249</td>\n",
              "      <td>0.0</td>\n",
              "    </tr>\n",
              "  </tbody>\n",
              "</table>\n",
              "<p>5 rows × 24 columns</p>\n",
              "</div>"
            ],
            "text/plain": [
              "                    id1                   id2                   id3  \\\n",
              "0   7596126584852021591    173777575861152844  18254136755182295358   \n",
              "1   5327406586753254371  14366783259208998381   2324030737335224220   \n",
              "2   2636757786779776109  16985421652518589249   4904562693381133981   \n",
              "3  15432976385014516263   2629180387521298831  13541353053200353836   \n",
              "4  11933982800034911890  14531191561111600318   9121890650636487522   \n",
              "\n",
              "                                                text  f1   f3  f5        f6  \\\n",
              "0  Хотела купить на замену старых,по итогу эти  у...   1  1.0  13  4.272727   \n",
              "1  Запах по сравнению с обычным DOVE никакой. Оно...  10  2.7   4  4.434783   \n",
              "2                   Кабель подошёл, хорошо работает.   4  4.0   0  4.500000   \n",
              "3  Восторг! Очень приятный аромат, держится долго...   6  5.0  30  4.772727   \n",
              "4  Визуально все хорошо. Не пробовали. Купили в п...  19  5.0   4  5.000000   \n",
              "\n",
              "   f7   f8  ...  number_percentage  caps_percentage  is_empty  id1_pred  \\\n",
              "0  18   36  ...                0.0         0.062500         0         0   \n",
              "1  90  109  ...                0.0         0.266667         0         0   \n",
              "2   4    6  ...                0.0         0.200000         0         0   \n",
              "3  14   15  ...                0.0         0.181818         0         0   \n",
              "4  26   33  ...                0.0         0.375000         0         0   \n",
              "\n",
              "   id1_in_database  id2_pred  id2_in_database    text_0    text_1 falls_count  \n",
              "0                0         0                0  0.441233  0.558767         2.0  \n",
              "1                0         0                0  0.482052  0.517948         1.0  \n",
              "2                0         0                0  0.587535  0.412465         1.0  \n",
              "3                0         0                0  0.495115  0.504885         0.0  \n",
              "4                0         0                0  0.532751  0.467249         0.0  \n",
              "\n",
              "[5 rows x 24 columns]"
            ]
          },
          "execution_count": 150,
          "metadata": {},
          "output_type": "execute_result"
        }
      ],
      "source": [
        "full_data.head()"
      ]
    },
    {
      "cell_type": "code",
      "execution_count": 151,
      "metadata": {
        "id": "BhYOiW2pdP8C"
      },
      "outputs": [],
      "source": [
        "full_data.to_csv(\"./unbalanced_data/full_data.csv\", index=False)"
      ]
    },
    {
      "attachments": {},
      "cell_type": "markdown",
      "metadata": {
        "id": "R6pjV7ODdP8D"
      },
      "source": [
        "# Разделение данных"
      ]
    },
    {
      "cell_type": "code",
      "execution_count": 152,
      "metadata": {
        "id": "gJIqiEd6dP8D",
        "outputId": "8a9b56c7-f57b-4683-baeb-62725515656d"
      },
      "outputs": [
        {
          "data": {
            "text/plain": [
              "(2497, 625)"
            ]
          },
          "execution_count": 152,
          "metadata": {},
          "output_type": "execute_result"
        }
      ],
      "source": [
        "X_train, X_test = train_test_split(full_data, test_size=0.2, stratify=full_data['label'])\n",
        "len(X_train), len(X_test)"
      ]
    },
    {
      "cell_type": "code",
      "execution_count": 153,
      "metadata": {
        "id": "e4-oWNX-dP8E",
        "outputId": "743bb04b-30c4-43e3-b4d2-5ebb34e46441"
      },
      "outputs": [
        {
          "data": {
            "text/plain": [
              "(1997, 500)"
            ]
          },
          "execution_count": 153,
          "metadata": {},
          "output_type": "execute_result"
        }
      ],
      "source": [
        "X_train, X_valid = train_test_split(X_train, test_size=0.2, stratify=X_train['label'])\n",
        "len(X_train), len(X_valid)"
      ]
    },
    {
      "cell_type": "code",
      "execution_count": 154,
      "metadata": {
        "id": "4ZYvCApmdP8J"
      },
      "outputs": [],
      "source": [
        "X_train.to_csv('./unbalanced_data/train_data.csv', index=False)\n",
        "X_test.to_csv('./unbalanced_data/test_data.csv', index=False)\n",
        "X_valid.to_csv('./unbalanced_data/valid_data.csv', index=False)"
      ]
    },
    {
      "attachments": {},
      "cell_type": "markdown",
      "metadata": {
        "id": "1mo9xorjdP8K"
      },
      "source": [
        "### Сбалансированные классы"
      ]
    },
    {
      "cell_type": "code",
      "execution_count": 155,
      "metadata": {
        "id": "WEm4ZejsdP8L",
        "outputId": "24a5b8bb-5c18-4fdf-a870-6980f0279336"
      },
      "outputs": [
        {
          "data": {
            "text/plain": [
              "528"
            ]
          },
          "execution_count": 155,
          "metadata": {},
          "output_type": "execute_result"
        }
      ],
      "source": [
        "(X_train['label']==1).sum()"
      ]
    },
    {
      "cell_type": "code",
      "execution_count": 156,
      "metadata": {
        "id": "IMTjs8HOdP8M"
      },
      "outputs": [],
      "source": [
        "cutted_x = X_train.sort_values(by='label', ascending=False, ignore_index=True).loc[:(X_train['label']==1).sum()*2]\n",
        "cutted_x = cutted_x.sample(frac=1).reset_index(drop=True)\n",
        "cutted_x.to_csv('./cutted_data/train_data.csv', index=False)"
      ]
    },
    {
      "cell_type": "code",
      "execution_count": 157,
      "metadata": {
        "id": "5rCW9-hSdP8M"
      },
      "outputs": [],
      "source": [
        "cutted_x = X_valid.sort_values(by='label', ascending=False, ignore_index=True).loc[:(X_valid['label']==1).sum()*2]\n",
        "cutted_x = cutted_x.sample(frac=1).reset_index(drop=True)\n",
        "cutted_x.to_csv('./cutted_data/valid_data.csv', index=False)"
      ]
    },
    {
      "cell_type": "code",
      "execution_count": 158,
      "metadata": {
        "id": "Nta7HSCydP8N"
      },
      "outputs": [],
      "source": [
        "cutted_x = X_test.sort_values(by='label', ascending=False, ignore_index=True).loc[:(X_test['label']==1).sum()*2]\n",
        "cutted_x = cutted_x.sample(frac=1).reset_index(drop=True)\n",
        "cutted_x.to_csv('./cutted_data/test_data.csv', index=False)"
      ]
    },
    {
      "attachments": {},
      "cell_type": "markdown",
      "metadata": {
        "id": "01ju81FldP8O"
      },
      "source": [
        "# CatBoost"
      ]
    },
    {
      "cell_type": "code",
      "execution_count": 451,
      "metadata": {
        "id": "axSTSlbwdP8P"
      },
      "outputs": [],
      "source": [
        "from catboost import CatBoostClassifier\n",
        "import optuna\n",
        "import pandas as pd\n",
        "from sklearn.metrics import f1_score, recall_score, precision_score"
      ]
    },
    {
      "cell_type": "code",
      "execution_count": 452,
      "metadata": {
        "id": "r-892cqadP8Q",
        "outputId": "0ec2fc29-70f8-4f0e-ed8e-b0b1313682ce"
      },
      "outputs": [
        {
          "data": {
            "text/plain": [
              "1997"
            ]
          },
          "execution_count": 452,
          "metadata": {},
          "output_type": "execute_result"
        }
      ],
      "source": [
        "data_train = pd.read_csv('./unbalanced_data/train_data.csv')\n",
        "Y_train = data_train['label']\n",
        "X_train = data_train.drop(['label', 'id1', 'id2', 'id3', 'text'], axis=1)\n",
        "len(X_train)"
      ]
    },
    {
      "cell_type": "code",
      "execution_count": 453,
      "metadata": {},
      "outputs": [
        {
          "data": {
            "text/html": [
              "<div>\n",
              "<style scoped>\n",
              "    .dataframe tbody tr th:only-of-type {\n",
              "        vertical-align: middle;\n",
              "    }\n",
              "\n",
              "    .dataframe tbody tr th {\n",
              "        vertical-align: top;\n",
              "    }\n",
              "\n",
              "    .dataframe thead th {\n",
              "        text-align: right;\n",
              "    }\n",
              "</style>\n",
              "<table border=\"1\" class=\"dataframe\">\n",
              "  <thead>\n",
              "    <tr style=\"text-align: right;\">\n",
              "      <th></th>\n",
              "      <th>f1</th>\n",
              "      <th>f3</th>\n",
              "      <th>f5</th>\n",
              "      <th>f6</th>\n",
              "      <th>f7</th>\n",
              "      <th>f8</th>\n",
              "      <th>text_len</th>\n",
              "      <th>words_count</th>\n",
              "      <th>sentence_count</th>\n",
              "      <th>number_percentage</th>\n",
              "      <th>caps_percentage</th>\n",
              "      <th>is_empty</th>\n",
              "      <th>id1_pred</th>\n",
              "      <th>id1_in_database</th>\n",
              "      <th>id2_pred</th>\n",
              "      <th>id2_in_database</th>\n",
              "      <th>text_0</th>\n",
              "      <th>text_1</th>\n",
              "      <th>falls_count</th>\n",
              "    </tr>\n",
              "  </thead>\n",
              "  <tbody>\n",
              "    <tr>\n",
              "      <th>0</th>\n",
              "      <td>4</td>\n",
              "      <td>2.750000</td>\n",
              "      <td>3</td>\n",
              "      <td>5.000000</td>\n",
              "      <td>7</td>\n",
              "      <td>8</td>\n",
              "      <td>96</td>\n",
              "      <td>16</td>\n",
              "      <td>5</td>\n",
              "      <td>0.0</td>\n",
              "      <td>0.250000</td>\n",
              "      <td>0</td>\n",
              "      <td>0.0</td>\n",
              "      <td>0</td>\n",
              "      <td>0.000000</td>\n",
              "      <td>0</td>\n",
              "      <td>0.469859</td>\n",
              "      <td>0.530141</td>\n",
              "      <td>1.0</td>\n",
              "    </tr>\n",
              "    <tr>\n",
              "      <th>1</th>\n",
              "      <td>37</td>\n",
              "      <td>4.945946</td>\n",
              "      <td>3070</td>\n",
              "      <td>4.157873</td>\n",
              "      <td>71</td>\n",
              "      <td>74</td>\n",
              "      <td>81</td>\n",
              "      <td>12</td>\n",
              "      <td>5</td>\n",
              "      <td>0.0</td>\n",
              "      <td>0.333333</td>\n",
              "      <td>0</td>\n",
              "      <td>0.0</td>\n",
              "      <td>0</td>\n",
              "      <td>0.666667</td>\n",
              "      <td>1</td>\n",
              "      <td>0.560994</td>\n",
              "      <td>0.439006</td>\n",
              "      <td>0.0</td>\n",
              "    </tr>\n",
              "    <tr>\n",
              "      <th>2</th>\n",
              "      <td>3</td>\n",
              "      <td>5.000000</td>\n",
              "      <td>907</td>\n",
              "      <td>4.751469</td>\n",
              "      <td>12</td>\n",
              "      <td>15</td>\n",
              "      <td>49</td>\n",
              "      <td>7</td>\n",
              "      <td>1</td>\n",
              "      <td>0.0</td>\n",
              "      <td>0.142857</td>\n",
              "      <td>0</td>\n",
              "      <td>0.0</td>\n",
              "      <td>0</td>\n",
              "      <td>0.000000</td>\n",
              "      <td>0</td>\n",
              "      <td>0.596021</td>\n",
              "      <td>0.403979</td>\n",
              "      <td>0.0</td>\n",
              "    </tr>\n",
              "    <tr>\n",
              "      <th>3</th>\n",
              "      <td>530</td>\n",
              "      <td>4.349057</td>\n",
              "      <td>0</td>\n",
              "      <td>5.000000</td>\n",
              "      <td>873</td>\n",
              "      <td>2123</td>\n",
              "      <td>87</td>\n",
              "      <td>13</td>\n",
              "      <td>4</td>\n",
              "      <td>0.0</td>\n",
              "      <td>0.307692</td>\n",
              "      <td>0</td>\n",
              "      <td>1.0</td>\n",
              "      <td>1</td>\n",
              "      <td>0.000000</td>\n",
              "      <td>0</td>\n",
              "      <td>0.436426</td>\n",
              "      <td>0.563574</td>\n",
              "      <td>1.0</td>\n",
              "    </tr>\n",
              "    <tr>\n",
              "      <th>4</th>\n",
              "      <td>55</td>\n",
              "      <td>4.600000</td>\n",
              "      <td>217</td>\n",
              "      <td>4.380795</td>\n",
              "      <td>156</td>\n",
              "      <td>980</td>\n",
              "      <td>21</td>\n",
              "      <td>3</td>\n",
              "      <td>3</td>\n",
              "      <td>0.0</td>\n",
              "      <td>0.666667</td>\n",
              "      <td>0</td>\n",
              "      <td>0.0</td>\n",
              "      <td>0</td>\n",
              "      <td>0.000000</td>\n",
              "      <td>0</td>\n",
              "      <td>0.604840</td>\n",
              "      <td>0.395160</td>\n",
              "      <td>0.0</td>\n",
              "    </tr>\n",
              "  </tbody>\n",
              "</table>\n",
              "</div>"
            ],
            "text/plain": [
              "    f1        f3    f5        f6   f7    f8  text_len  words_count  \\\n",
              "0    4  2.750000     3  5.000000    7     8        96           16   \n",
              "1   37  4.945946  3070  4.157873   71    74        81           12   \n",
              "2    3  5.000000   907  4.751469   12    15        49            7   \n",
              "3  530  4.349057     0  5.000000  873  2123        87           13   \n",
              "4   55  4.600000   217  4.380795  156   980        21            3   \n",
              "\n",
              "   sentence_count  number_percentage  caps_percentage  is_empty  id1_pred  \\\n",
              "0               5                0.0         0.250000         0       0.0   \n",
              "1               5                0.0         0.333333         0       0.0   \n",
              "2               1                0.0         0.142857         0       0.0   \n",
              "3               4                0.0         0.307692         0       1.0   \n",
              "4               3                0.0         0.666667         0       0.0   \n",
              "\n",
              "   id1_in_database  id2_pred  id2_in_database    text_0    text_1  falls_count  \n",
              "0                0  0.000000                0  0.469859  0.530141          1.0  \n",
              "1                0  0.666667                1  0.560994  0.439006          0.0  \n",
              "2                0  0.000000                0  0.596021  0.403979          0.0  \n",
              "3                1  0.000000                0  0.436426  0.563574          1.0  \n",
              "4                0  0.000000                0  0.604840  0.395160          0.0  "
            ]
          },
          "execution_count": 453,
          "metadata": {},
          "output_type": "execute_result"
        }
      ],
      "source": [
        "X_train.head()"
      ]
    },
    {
      "cell_type": "code",
      "execution_count": 454,
      "metadata": {
        "id": "bHUcVb7tdP8R",
        "outputId": "9554d407-36a9-4743-ba0e-b970557164f0"
      },
      "outputs": [
        {
          "data": {
            "text/plain": [
              "(528, 1469)"
            ]
          },
          "execution_count": 454,
          "metadata": {},
          "output_type": "execute_result"
        }
      ],
      "source": [
        "cl_train_0 = sum(Y_train==0)\n",
        "cl_train_1 = sum(Y_train==1)\n",
        "sum(Y_train==1), sum(Y_train==0)"
      ]
    },
    {
      "cell_type": "code",
      "execution_count": 455,
      "metadata": {
        "id": "OXBt-RHcdP8S",
        "outputId": "902e93ff-71af-4cca-8479-123b982bbb0e"
      },
      "outputs": [
        {
          "data": {
            "text/plain": [
              "500"
            ]
          },
          "execution_count": 455,
          "metadata": {},
          "output_type": "execute_result"
        }
      ],
      "source": [
        "data_valid = pd.read_csv('./unbalanced_data/valid_data.csv')\n",
        "Y_valid = data_valid['label']\n",
        "X_valid = data_valid.drop(['label', 'id1', 'id2', 'id3', 'text'], axis=1)\n",
        "len(X_valid)"
      ]
    },
    {
      "cell_type": "code",
      "execution_count": 456,
      "metadata": {},
      "outputs": [
        {
          "data": {
            "text/html": [
              "<div>\n",
              "<style scoped>\n",
              "    .dataframe tbody tr th:only-of-type {\n",
              "        vertical-align: middle;\n",
              "    }\n",
              "\n",
              "    .dataframe tbody tr th {\n",
              "        vertical-align: top;\n",
              "    }\n",
              "\n",
              "    .dataframe thead th {\n",
              "        text-align: right;\n",
              "    }\n",
              "</style>\n",
              "<table border=\"1\" class=\"dataframe\">\n",
              "  <thead>\n",
              "    <tr style=\"text-align: right;\">\n",
              "      <th></th>\n",
              "      <th>f1</th>\n",
              "      <th>f3</th>\n",
              "      <th>f5</th>\n",
              "      <th>f6</th>\n",
              "      <th>f7</th>\n",
              "      <th>f8</th>\n",
              "      <th>text_len</th>\n",
              "      <th>words_count</th>\n",
              "      <th>sentence_count</th>\n",
              "      <th>number_percentage</th>\n",
              "      <th>caps_percentage</th>\n",
              "      <th>is_empty</th>\n",
              "      <th>id1_pred</th>\n",
              "      <th>id1_in_database</th>\n",
              "      <th>id2_pred</th>\n",
              "      <th>id2_in_database</th>\n",
              "      <th>text_0</th>\n",
              "      <th>text_1</th>\n",
              "      <th>falls_count</th>\n",
              "    </tr>\n",
              "  </thead>\n",
              "  <tbody>\n",
              "    <tr>\n",
              "      <th>0</th>\n",
              "      <td>1</td>\n",
              "      <td>1.000000</td>\n",
              "      <td>17</td>\n",
              "      <td>4.651316</td>\n",
              "      <td>2</td>\n",
              "      <td>6</td>\n",
              "      <td>175</td>\n",
              "      <td>28</td>\n",
              "      <td>7</td>\n",
              "      <td>0.000000</td>\n",
              "      <td>0.214286</td>\n",
              "      <td>0</td>\n",
              "      <td>0.0</td>\n",
              "      <td>0</td>\n",
              "      <td>0.0</td>\n",
              "      <td>0</td>\n",
              "      <td>0.435405</td>\n",
              "      <td>0.564595</td>\n",
              "      <td>2.0</td>\n",
              "    </tr>\n",
              "    <tr>\n",
              "      <th>1</th>\n",
              "      <td>2</td>\n",
              "      <td>4.000000</td>\n",
              "      <td>2</td>\n",
              "      <td>5.000000</td>\n",
              "      <td>4</td>\n",
              "      <td>7</td>\n",
              "      <td>917</td>\n",
              "      <td>133</td>\n",
              "      <td>7</td>\n",
              "      <td>0.135338</td>\n",
              "      <td>0.105263</td>\n",
              "      <td>0</td>\n",
              "      <td>0.0</td>\n",
              "      <td>0</td>\n",
              "      <td>0.0</td>\n",
              "      <td>0</td>\n",
              "      <td>0.488095</td>\n",
              "      <td>0.511905</td>\n",
              "      <td>3.0</td>\n",
              "    </tr>\n",
              "    <tr>\n",
              "      <th>2</th>\n",
              "      <td>1</td>\n",
              "      <td>5.000000</td>\n",
              "      <td>34</td>\n",
              "      <td>4.651786</td>\n",
              "      <td>1</td>\n",
              "      <td>3</td>\n",
              "      <td>55</td>\n",
              "      <td>10</td>\n",
              "      <td>1</td>\n",
              "      <td>0.100000</td>\n",
              "      <td>0.100000</td>\n",
              "      <td>0</td>\n",
              "      <td>0.0</td>\n",
              "      <td>0</td>\n",
              "      <td>0.0</td>\n",
              "      <td>0</td>\n",
              "      <td>0.454640</td>\n",
              "      <td>0.545360</td>\n",
              "      <td>1.0</td>\n",
              "    </tr>\n",
              "    <tr>\n",
              "      <th>3</th>\n",
              "      <td>19</td>\n",
              "      <td>4.894737</td>\n",
              "      <td>26</td>\n",
              "      <td>4.821429</td>\n",
              "      <td>51</td>\n",
              "      <td>124</td>\n",
              "      <td>240</td>\n",
              "      <td>41</td>\n",
              "      <td>5</td>\n",
              "      <td>0.024390</td>\n",
              "      <td>0.097561</td>\n",
              "      <td>0</td>\n",
              "      <td>0.0</td>\n",
              "      <td>0</td>\n",
              "      <td>0.0</td>\n",
              "      <td>0</td>\n",
              "      <td>0.475857</td>\n",
              "      <td>0.524143</td>\n",
              "      <td>0.0</td>\n",
              "    </tr>\n",
              "    <tr>\n",
              "      <th>4</th>\n",
              "      <td>2</td>\n",
              "      <td>5.000000</td>\n",
              "      <td>149</td>\n",
              "      <td>4.816749</td>\n",
              "      <td>2</td>\n",
              "      <td>2</td>\n",
              "      <td>87</td>\n",
              "      <td>12</td>\n",
              "      <td>1</td>\n",
              "      <td>0.000000</td>\n",
              "      <td>0.083333</td>\n",
              "      <td>0</td>\n",
              "      <td>0.0</td>\n",
              "      <td>0</td>\n",
              "      <td>0.0</td>\n",
              "      <td>0</td>\n",
              "      <td>0.529561</td>\n",
              "      <td>0.470439</td>\n",
              "      <td>0.0</td>\n",
              "    </tr>\n",
              "  </tbody>\n",
              "</table>\n",
              "</div>"
            ],
            "text/plain": [
              "   f1        f3   f5        f6  f7   f8  text_len  words_count  \\\n",
              "0   1  1.000000   17  4.651316   2    6       175           28   \n",
              "1   2  4.000000    2  5.000000   4    7       917          133   \n",
              "2   1  5.000000   34  4.651786   1    3        55           10   \n",
              "3  19  4.894737   26  4.821429  51  124       240           41   \n",
              "4   2  5.000000  149  4.816749   2    2        87           12   \n",
              "\n",
              "   sentence_count  number_percentage  caps_percentage  is_empty  id1_pred  \\\n",
              "0               7           0.000000         0.214286         0       0.0   \n",
              "1               7           0.135338         0.105263         0       0.0   \n",
              "2               1           0.100000         0.100000         0       0.0   \n",
              "3               5           0.024390         0.097561         0       0.0   \n",
              "4               1           0.000000         0.083333         0       0.0   \n",
              "\n",
              "   id1_in_database  id2_pred  id2_in_database    text_0    text_1  falls_count  \n",
              "0                0       0.0                0  0.435405  0.564595          2.0  \n",
              "1                0       0.0                0  0.488095  0.511905          3.0  \n",
              "2                0       0.0                0  0.454640  0.545360          1.0  \n",
              "3                0       0.0                0  0.475857  0.524143          0.0  \n",
              "4                0       0.0                0  0.529561  0.470439          0.0  "
            ]
          },
          "execution_count": 456,
          "metadata": {},
          "output_type": "execute_result"
        }
      ],
      "source": [
        "X_valid.head()"
      ]
    },
    {
      "cell_type": "code",
      "execution_count": 457,
      "metadata": {
        "id": "H_OkyBhudP8T",
        "outputId": "598048f8-58a3-4eff-ab26-9fdd5566d1bf"
      },
      "outputs": [
        {
          "data": {
            "text/plain": [
              "(132, 368)"
            ]
          },
          "execution_count": 457,
          "metadata": {},
          "output_type": "execute_result"
        }
      ],
      "source": [
        "sum(Y_valid==1), sum(Y_valid==0)"
      ]
    },
    {
      "cell_type": "code",
      "execution_count": 477,
      "metadata": {
        "id": "hSH9OXjNdP8U"
      },
      "outputs": [],
      "source": [
        "def objective(trial):\n",
        "    model = CatBoostClassifier(\n",
        "        iterations=trial.suggest_int(\"iterations\", 90, 150),\n",
        "        learning_rate=trial.suggest_float(\"learning_rate\", 1e-3, 1e-1),\n",
        "        depth=trial.suggest_int(\"depth\", 10, 20),\n",
        "        l2_leaf_reg=trial.suggest_float(\"l2_leaf_reg\", 1e-8, 100.0, log=True),\n",
        "        random_strength=trial.suggest_float(\"random_strength\", 1e-8, 10.0),\n",
        "        eval_metric='F1',\n",
        "        class_weights=(cl_train_1, cl_train_0),\n",
        "        verbose=False,\n",
        "        random_state = 42,\n",
        "        thread_count=-1\n",
        "    )\n",
        "    model.fit(X_train, Y_train,\n",
        "              verbose=False)\n",
        "    pred = model.predict(X_valid)\n",
        "    return f1_score(Y_valid, pred, average='weighted')"
      ]
    },
    {
      "cell_type": "code",
      "execution_count": null,
      "metadata": {
        "id": "vPrzRIqAdP8V",
        "outputId": "3a608341-8532-4e9d-9e04-e424ec2532ba"
      },
      "outputs": [],
      "source": [
        "study = optuna.create_study(direction='maximize', study_name='classifier_CatBoost')\n",
        "study.optimize(objective, n_trials=30)"
      ]
    },
    {
      "cell_type": "code",
      "execution_count": 462,
      "metadata": {
        "id": "gPHaEZxNdP8W",
        "outputId": "24df5814-575f-42dc-9115-6d9cb3fbd670"
      },
      "outputs": [
        {
          "data": {
            "text/plain": [
              "{'iterations': 96,\n",
              " 'learning_rate': 0.09975268746932525,\n",
              " 'depth': 15,\n",
              " 'l2_leaf_reg': 0.5908593533847338,\n",
              " 'random_strength': 4.264579397542064}"
            ]
          },
          "execution_count": 462,
          "metadata": {},
          "output_type": "execute_result"
        }
      ],
      "source": [
        "study.best_params"
      ]
    },
    {
      "cell_type": "code",
      "execution_count": 463,
      "metadata": {
        "id": "kouo0z76dP8W"
      },
      "outputs": [],
      "source": [
        "params = {'iterations': 96,\n",
        " 'learning_rate': 0.09975268746932525,\n",
        " 'depth': 15,\n",
        " 'l2_leaf_reg': 0.5908593533847338,\n",
        " 'random_strength': 4.264579397542064}"
      ]
    },
    {
      "cell_type": "code",
      "execution_count": 464,
      "metadata": {},
      "outputs": [
        {
          "data": {
            "text/plain": [
              "Index(['f1', 'f3', 'f5', 'f6', 'f7', 'f8', 'text_len', 'words_count',\n",
              "       'sentence_count', 'number_percentage', 'caps_percentage', 'is_empty',\n",
              "       'id1_pred', 'id1_in_database', 'id2_pred', 'id2_in_database', 'text_0',\n",
              "       'text_1', 'falls_count'],\n",
              "      dtype='object')"
            ]
          },
          "execution_count": 464,
          "metadata": {},
          "output_type": "execute_result"
        }
      ],
      "source": [
        "X_train.columns"
      ]
    },
    {
      "cell_type": "code",
      "execution_count": 465,
      "metadata": {
        "id": "zg6YZkqGdP8X"
      },
      "outputs": [],
      "source": [
        "model = CatBoostClassifier(**params,\n",
        "                           random_state = 42, \n",
        "                           thread_count=-1,\n",
        "                           class_weights=(cl_train_1, cl_train_0),\n",
        "                           eval_metric = 'F1',\n",
        "                           custom_metric='F1')"
      ]
    },
    {
      "cell_type": "code",
      "execution_count": 466,
      "metadata": {
        "id": "wNtHJVZIdP8i",
        "outputId": "615db9a9-083e-4070-f562-32bc0f82f208"
      },
      "outputs": [
        {
          "name": "stdout",
          "output_type": "stream",
          "text": [
            "0:\tlearn: 0.7429699\ttest: 0.6946209\tbest: 0.6946209 (0)\ttotal: 7.12s\tremaining: 11m 16s\n",
            "1:\tlearn: 0.7137455\ttest: 0.7315910\tbest: 0.7315910 (1)\ttotal: 7.27s\tremaining: 5m 41s\n",
            "2:\tlearn: 0.7111108\ttest: 0.7340324\tbest: 0.7340324 (2)\ttotal: 7.42s\tremaining: 3m 50s\n",
            "3:\tlearn: 0.7040654\ttest: 0.7350750\tbest: 0.7350750 (3)\ttotal: 7.49s\tremaining: 2m 52s\n",
            "4:\tlearn: 0.7229714\ttest: 0.7228403\tbest: 0.7350750 (3)\ttotal: 13.2s\tremaining: 4m\n",
            "5:\tlearn: 0.7406288\ttest: 0.7178032\tbest: 0.7350750 (3)\ttotal: 18.3s\tremaining: 4m 35s\n",
            "6:\tlearn: 0.7590570\ttest: 0.7327966\tbest: 0.7350750 (3)\ttotal: 23.1s\tremaining: 4m 54s\n",
            "7:\tlearn: 0.7415551\ttest: 0.7259153\tbest: 0.7350750 (3)\ttotal: 27.9s\tremaining: 5m 6s\n",
            "8:\tlearn: 0.7459693\ttest: 0.7218211\tbest: 0.7350750 (3)\ttotal: 27.9s\tremaining: 4m 29s\n",
            "9:\tlearn: 0.7550532\ttest: 0.7177728\tbest: 0.7350750 (3)\ttotal: 29.1s\tremaining: 4m 10s\n",
            "10:\tlearn: 0.7689087\ttest: 0.7147662\tbest: 0.7350750 (3)\ttotal: 33.7s\tremaining: 4m 20s\n",
            "11:\tlearn: 0.7693655\ttest: 0.7208047\tbest: 0.7350750 (3)\ttotal: 38.6s\tremaining: 4m 29s\n",
            "12:\tlearn: 0.7786180\ttest: 0.7157739\tbest: 0.7350750 (3)\ttotal: 42.8s\tremaining: 4m 33s\n",
            "13:\tlearn: 0.7847530\ttest: 0.7227552\tbest: 0.7350750 (3)\ttotal: 47.6s\tremaining: 4m 39s\n",
            "14:\tlearn: 0.7882642\ttest: 0.7217472\tbest: 0.7350750 (3)\ttotal: 52.1s\tremaining: 4m 41s\n",
            "15:\tlearn: 0.7928846\ttest: 0.7297296\tbest: 0.7350750 (3)\ttotal: 56.3s\tremaining: 4m 41s\n",
            "16:\tlearn: 0.8008975\ttest: 0.7384925\tbest: 0.7384925 (16)\ttotal: 1m\tremaining: 4m 40s\n",
            "17:\tlearn: 0.8023895\ttest: 0.7374729\tbest: 0.7384925 (16)\ttotal: 1m 4s\tremaining: 4m 40s\n",
            "18:\tlearn: 0.8057299\ttest: 0.7346411\tbest: 0.7384925 (16)\ttotal: 1m 9s\tremaining: 4m 40s\n",
            "19:\tlearn: 0.8118514\ttest: 0.7356635\tbest: 0.7384925 (16)\ttotal: 1m 9s\tremaining: 4m 24s\n",
            "20:\tlearn: 0.8185036\ttest: 0.7356635\tbest: 0.7384925 (16)\ttotal: 1m 14s\tremaining: 4m 27s\n",
            "21:\tlearn: 0.8220941\ttest: 0.7346411\tbest: 0.7384925 (16)\ttotal: 1m 14s\tremaining: 4m 11s\n",
            "22:\tlearn: 0.8190626\ttest: 0.7295716\tbest: 0.7384925 (16)\ttotal: 1m 19s\tremaining: 4m 12s\n",
            "23:\tlearn: 0.8221017\ttest: 0.7384925\tbest: 0.7384925 (16)\ttotal: 1m 24s\tremaining: 4m 13s\n",
            "24:\tlearn: 0.8248740\ttest: 0.7326049\tbest: 0.7384925 (16)\ttotal: 1m 29s\tremaining: 4m 12s\n",
            "25:\tlearn: 0.8287348\ttest: 0.7395148\tbest: 0.7395148 (25)\ttotal: 1m 29s\tremaining: 4m 1s\n",
            "26:\tlearn: 0.8347920\ttest: 0.7356635\tbest: 0.7395148 (25)\ttotal: 1m 34s\tremaining: 4m 1s\n",
            "27:\tlearn: 0.8394622\ttest: 0.7387478\tbest: 0.7395148 (25)\ttotal: 1m 39s\tremaining: 4m 1s\n",
            "28:\tlearn: 0.8406844\ttest: 0.7377168\tbest: 0.7395148 (25)\ttotal: 1m 44s\tremaining: 4m 1s\n",
            "29:\tlearn: 0.8389829\ttest: 0.7366887\tbest: 0.7395148 (25)\ttotal: 1m 49s\tremaining: 4m\n",
            "30:\tlearn: 0.8403547\ttest: 0.7366887\tbest: 0.7395148 (25)\ttotal: 1m 50s\tremaining: 3m 51s\n",
            "31:\tlearn: 0.8415377\ttest: 0.7327966\tbest: 0.7395148 (25)\ttotal: 1m 52s\tremaining: 3m 44s\n",
            "32:\tlearn: 0.8443946\ttest: 0.7348557\tbest: 0.7395148 (25)\ttotal: 1m 57s\tremaining: 3m 43s\n",
            "33:\tlearn: 0.8457719\ttest: 0.7358896\tbest: 0.7395148 (25)\ttotal: 1m 58s\tremaining: 3m 36s\n",
            "34:\tlearn: 0.8493850\ttest: 0.7309220\tbest: 0.7395148 (25)\ttotal: 2m 3s\tremaining: 3m 34s\n",
            "35:\tlearn: 0.8572253\ttest: 0.7319559\tbest: 0.7395148 (25)\ttotal: 2m 7s\tremaining: 3m 32s\n",
            "36:\tlearn: 0.8620755\ttest: 0.7309220\tbest: 0.7395148 (25)\ttotal: 2m 12s\tremaining: 3m 31s\n",
            "37:\tlearn: 0.8621706\ttest: 0.7319559\tbest: 0.7395148 (25)\ttotal: 2m 17s\tremaining: 3m 29s\n",
            "38:\tlearn: 0.8625574\ttest: 0.7350750\tbest: 0.7395148 (25)\ttotal: 2m 21s\tremaining: 3m 26s\n",
            "39:\tlearn: 0.8679090\ttest: 0.7340324\tbest: 0.7395148 (25)\ttotal: 2m 26s\tremaining: 3m 24s\n",
            "40:\tlearn: 0.8715079\ttest: 0.7198981\tbest: 0.7395148 (25)\ttotal: 2m 30s\tremaining: 3m 21s\n",
            "41:\tlearn: 0.8720979\ttest: 0.7310988\tbest: 0.7395148 (25)\ttotal: 2m 30s\tremaining: 3m 13s\n",
            "42:\tlearn: 0.8739232\ttest: 0.7290165\tbest: 0.7395148 (25)\ttotal: 2m 36s\tremaining: 3m 12s\n",
            "43:\tlearn: 0.8770888\ttest: 0.7239608\tbest: 0.7395148 (25)\ttotal: 2m 40s\tremaining: 3m 9s\n",
            "44:\tlearn: 0.8760355\ttest: 0.7239608\tbest: 0.7395148 (25)\ttotal: 2m 40s\tremaining: 3m 1s\n",
            "45:\tlearn: 0.8796199\ttest: 0.7251098\tbest: 0.7395148 (25)\ttotal: 2m 45s\tremaining: 3m\n",
            "46:\tlearn: 0.8788648\ttest: 0.7240614\tbest: 0.7395148 (25)\ttotal: 2m 50s\tremaining: 2m 57s\n",
            "47:\tlearn: 0.8835007\ttest: 0.7312796\tbest: 0.7395148 (25)\ttotal: 2m 55s\tremaining: 2m 55s\n",
            "48:\tlearn: 0.8854415\ttest: 0.7302250\tbest: 0.7395148 (25)\ttotal: 3m\tremaining: 2m 52s\n",
            "49:\tlearn: 0.8879814\ttest: 0.7281249\tbest: 0.7395148 (25)\ttotal: 3m 5s\tremaining: 2m 50s\n",
            "50:\tlearn: 0.8888811\ttest: 0.7312796\tbest: 0.7395148 (25)\ttotal: 3m 9s\tremaining: 2m 47s\n",
            "51:\tlearn: 0.8924694\ttest: 0.7272157\tbest: 0.7395148 (25)\ttotal: 3m 14s\tremaining: 2m 44s\n",
            "52:\tlearn: 0.8956239\ttest: 0.7210015\tbest: 0.7395148 (25)\ttotal: 3m 19s\tremaining: 2m 41s\n",
            "53:\tlearn: 0.8966619\ttest: 0.7199533\tbest: 0.7395148 (25)\ttotal: 3m 19s\tremaining: 2m 34s\n",
            "54:\tlearn: 0.8969649\ttest: 0.7220527\tbest: 0.7395148 (25)\ttotal: 3m 23s\tremaining: 2m 31s\n",
            "55:\tlearn: 0.8995195\ttest: 0.7157997\tbest: 0.7395148 (25)\ttotal: 3m 25s\tremaining: 2m 27s\n",
            "56:\tlearn: 0.8998238\ttest: 0.7168476\tbest: 0.7395148 (25)\ttotal: 3m 25s\tremaining: 2m 20s\n",
            "57:\tlearn: 0.9020087\ttest: 0.7168476\tbest: 0.7395148 (25)\ttotal: 3m 30s\tremaining: 2m 17s\n",
            "58:\tlearn: 0.9032263\ttest: 0.7168476\tbest: 0.7395148 (25)\ttotal: 3m 35s\tremaining: 2m 15s\n",
            "59:\tlearn: 0.9044472\ttest: 0.7168476\tbest: 0.7395148 (25)\ttotal: 3m 35s\tremaining: 2m 9s\n",
            "60:\tlearn: 0.9041417\ttest: 0.7189526\tbest: 0.7395148 (25)\ttotal: 3m 40s\tremaining: 2m 6s\n",
            "61:\tlearn: 0.9048653\ttest: 0.7210701\tbest: 0.7395148 (25)\ttotal: 3m 44s\tremaining: 2m 3s\n",
            "62:\tlearn: 0.9037219\ttest: 0.7262885\tbest: 0.7395148 (25)\ttotal: 3m 49s\tremaining: 2m\n",
            "63:\tlearn: 0.9040278\ttest: 0.7241644\tbest: 0.7395148 (25)\ttotal: 3m 53s\tremaining: 1m 56s\n",
            "64:\tlearn: 0.9040278\ttest: 0.7262885\tbest: 0.7395148 (25)\ttotal: 3m 53s\tremaining: 1m 51s\n",
            "65:\tlearn: 0.9095713\ttest: 0.7158088\tbest: 0.7395148 (25)\ttotal: 3m 58s\tremaining: 1m 48s\n",
            "66:\tlearn: 0.9098792\ttest: 0.7158088\tbest: 0.7395148 (25)\ttotal: 4m 3s\tremaining: 1m 45s\n",
            "67:\tlearn: 0.9124481\ttest: 0.7158088\tbest: 0.7395148 (25)\ttotal: 4m 8s\tremaining: 1m 42s\n",
            "68:\tlearn: 0.9118303\ttest: 0.7168687\tbest: 0.7395148 (25)\ttotal: 4m 8s\tremaining: 1m 37s\n",
            "69:\tlearn: 0.9121391\ttest: 0.7168687\tbest: 0.7395148 (25)\ttotal: 4m 8s\tremaining: 1m 32s\n",
            "70:\tlearn: 0.9124481\ttest: 0.7094506\tbest: 0.7395148 (25)\ttotal: 4m 13s\tremaining: 1m 29s\n",
            "71:\tlearn: 0.9127574\ttest: 0.7105040\tbest: 0.7395148 (25)\ttotal: 4m 14s\tremaining: 1m 24s\n",
            "72:\tlearn: 0.9144008\ttest: 0.7158088\tbest: 0.7395148 (25)\ttotal: 4m 18s\tremaining: 1m 21s\n",
            "73:\tlearn: 0.9152389\ttest: 0.7136829\tbest: 0.7395148 (25)\ttotal: 4m 23s\tremaining: 1m 18s\n",
            "74:\tlearn: 0.9162635\ttest: 0.7072641\tbest: 0.7395148 (25)\ttotal: 4m 27s\tremaining: 1m 15s\n",
            "75:\tlearn: 0.9171978\ttest: 0.7168687\tbest: 0.7395148 (25)\ttotal: 4m 30s\tremaining: 1m 11s\n",
            "76:\tlearn: 0.9168861\ttest: 0.7158088\tbest: 0.7395148 (25)\ttotal: 4m 34s\tremaining: 1m 7s\n",
            "77:\tlearn: 0.9171978\ttest: 0.7158088\tbest: 0.7395148 (25)\ttotal: 4m 35s\tremaining: 1m 3s\n",
            "78:\tlearn: 0.9171978\ttest: 0.7179319\tbest: 0.7395148 (25)\ttotal: 4m 39s\tremaining: 1m\n",
            "79:\tlearn: 0.9171978\ttest: 0.7179319\tbest: 0.7395148 (25)\ttotal: 4m 39s\tremaining: 56s\n",
            "80:\tlearn: 0.9175096\ttest: 0.7126201\tbest: 0.7395148 (25)\ttotal: 4m 45s\tremaining: 52.8s\n",
            "81:\tlearn: 0.9195535\ttest: 0.7115604\tbest: 0.7395148 (25)\ttotal: 4m 50s\tremaining: 49.7s\n",
            "82:\tlearn: 0.9185325\ttest: 0.7126201\tbest: 0.7395148 (25)\ttotal: 4m 52s\tremaining: 45.7s\n",
            "83:\tlearn: 0.9198657\ttest: 0.7189982\tbest: 0.7395148 (25)\ttotal: 4m 57s\tremaining: 42.5s\n",
            "84:\tlearn: 0.9198657\ttest: 0.7136829\tbest: 0.7395148 (25)\ttotal: 4m 57s\tremaining: 38.5s\n",
            "85:\tlearn: 0.9197822\ttest: 0.6974690\tbest: 0.7395148 (25)\ttotal: 5m 2s\tremaining: 35.2s\n",
            "86:\tlearn: 0.9204083\ttest: 0.7029189\tbest: 0.7395148 (25)\ttotal: 5m 7s\tremaining: 31.8s\n",
            "87:\tlearn: 0.9214296\ttest: 0.7029189\tbest: 0.7395148 (25)\ttotal: 5m 12s\tremaining: 28.4s\n",
            "88:\tlearn: 0.9217430\ttest: 0.7029189\tbest: 0.7395148 (25)\ttotal: 5m 15s\tremaining: 24.8s\n",
            "89:\tlearn: 0.9207216\ttest: 0.7029189\tbest: 0.7395148 (25)\ttotal: 5m 15s\tremaining: 21s\n",
            "90:\tlearn: 0.9237041\ttest: 0.7093857\tbest: 0.7395148 (25)\ttotal: 5m 21s\tremaining: 17.6s\n",
            "91:\tlearn: 0.9233900\ttest: 0.7158180\tbest: 0.7395148 (25)\ttotal: 5m 26s\tremaining: 14.2s\n",
            "92:\tlearn: 0.9254233\ttest: 0.7147488\tbest: 0.7395148 (25)\ttotal: 5m 27s\tremaining: 10.6s\n",
            "93:\tlearn: 0.9257375\ttest: 0.7158180\tbest: 0.7395148 (25)\ttotal: 5m 28s\tremaining: 6.98s\n",
            "94:\tlearn: 0.9257375\ttest: 0.7136672\tbest: 0.7395148 (25)\ttotal: 5m 34s\tremaining: 3.52s\n",
            "95:\tlearn: 0.9263666\ttest: 0.7136672\tbest: 0.7395148 (25)\ttotal: 5m 34s\tremaining: 0us\n",
            "\n",
            "bestTest = 0.739514835\n",
            "bestIteration = 25\n",
            "\n",
            "Shrink model to first 26 iterations.\n"
          ]
        },
        {
          "data": {
            "text/plain": [
              "<catboost.core.CatBoostClassifier at 0x189041bf760>"
            ]
          },
          "execution_count": 466,
          "metadata": {},
          "output_type": "execute_result"
        }
      ],
      "source": [
        "model.fit(X_train, Y_train, eval_set=(X_valid, Y_valid))"
      ]
    },
    {
      "cell_type": "code",
      "execution_count": 467,
      "metadata": {
        "id": "lQloeCCgdP8j",
        "outputId": "394f2474-ce23-461f-a18a-855a7d8fcb7c"
      },
      "outputs": [
        {
          "data": {
            "text/plain": [
              "{'learn': {'F1:use_weights=false': 0.8680248007085917,\n",
              "  'Logloss': 0.278121290977475,\n",
              "  'F1': 0.9263665905215405,\n",
              "  'F1:use_weights=true': 0.9263665905215405},\n",
              " 'validation': {'F1:use_weights=false': 0.6180555555555556,\n",
              "  'Logloss': 0.5402830474707951,\n",
              "  'F1': 0.7395148349746721,\n",
              "  'F1:use_weights=true': 0.7395148349746721}}"
            ]
          },
          "execution_count": 467,
          "metadata": {},
          "output_type": "execute_result"
        }
      ],
      "source": [
        "model.best_score_"
      ]
    },
    {
      "cell_type": "code",
      "execution_count": 468,
      "metadata": {
        "id": "tNhCgf6rdP8k"
      },
      "outputs": [],
      "source": [
        "data_test = pd.read_csv('./unbalanced_data/test_data.csv')\n",
        "Y_test = data_test['label']\n",
        "X_test = data_test.drop(['label', 'id1', 'id2', 'id3', 'text'], axis=1)"
      ]
    },
    {
      "cell_type": "code",
      "execution_count": 469,
      "metadata": {
        "id": "xIWbVHCBdP8k",
        "outputId": "a0f3cf71-4949-4ba1-856b-2f4a7038365b"
      },
      "outputs": [
        {
          "data": {
            "text/plain": [
              "0.8222333500250375"
            ]
          },
          "execution_count": 469,
          "metadata": {},
          "output_type": "execute_result"
        }
      ],
      "source": [
        "model.score(X_train, Y_train)"
      ]
    },
    {
      "cell_type": "code",
      "execution_count": 470,
      "metadata": {
        "id": "5PnVOZR5dP8l",
        "outputId": "5ad3b515-d8fd-48c8-bcce-7f8ec6427614"
      },
      "outputs": [
        {
          "data": {
            "text/plain": [
              "0.752"
            ]
          },
          "execution_count": 470,
          "metadata": {},
          "output_type": "execute_result"
        }
      ],
      "source": [
        "model.score(X_valid, Y_valid)"
      ]
    },
    {
      "cell_type": "code",
      "execution_count": 471,
      "metadata": {
        "id": "vd7U6gtQdP8m",
        "outputId": "3d552505-13df-4d03-df8b-d1023945e267"
      },
      "outputs": [
        {
          "data": {
            "text/plain": [
              "0.7376"
            ]
          },
          "execution_count": 471,
          "metadata": {},
          "output_type": "execute_result"
        }
      ],
      "source": [
        "model.score(X_test, Y_test)"
      ]
    },
    {
      "cell_type": "code",
      "execution_count": 473,
      "metadata": {},
      "outputs": [
        {
          "data": {
            "text/plain": [
              "0.7501555602368748"
            ]
          },
          "execution_count": 473,
          "metadata": {},
          "output_type": "execute_result"
        }
      ],
      "source": [
        "f1_score(Y_test, model.predict(X_test), average='weighted')"
      ]
    },
    {
      "cell_type": "code",
      "execution_count": 474,
      "metadata": {},
      "outputs": [
        {
          "data": {
            "text/plain": [
              "0.7136672144030863"
            ]
          },
          "execution_count": 474,
          "metadata": {},
          "output_type": "execute_result"
        }
      ],
      "source": [
        "model.get_evals_result()['validation']['F1'][-1]"
      ]
    },
    {
      "cell_type": "code",
      "execution_count": 475,
      "metadata": {
        "id": "naD1ZYlkdP8m",
        "outputId": "2e3ab36b-3051-410a-c86f-08028e1afef6"
      },
      "outputs": [
        {
          "data": {
            "text/plain": [
              "(array([0, 0, 0, 0, 0, 1, 0, 0, 1, 0, 1, 0, 0, 0, 1, 1], dtype=int64),\n",
              " array([0, 0, 0, 0, 0, 0, 0, 0, 0, 0, 1, 0, 0, 1, 0, 1], dtype=int64))"
            ]
          },
          "execution_count": 475,
          "metadata": {},
          "output_type": "execute_result"
        }
      ],
      "source": [
        "model.predict(X_test.loc[30:45]), Y_test.loc[30:45].to_numpy()"
      ]
    },
    {
      "cell_type": "code",
      "execution_count": 476,
      "metadata": {},
      "outputs": [
        {
          "data": {
            "text/plain": [
              "array([1, 0, 1, 1, 1, 1, 1, 1, 0, 1, 1, 1, 1, 1, 1, 0, 1, 1, 1, 0],\n",
              "      dtype=int64)"
            ]
          },
          "execution_count": 476,
          "metadata": {},
          "output_type": "execute_result"
        }
      ],
      "source": [
        "# рассмотрим конкретно малочисленный класс\n",
        "mask = Y_test==1\n",
        "model.predict(X_test.loc[mask])[:20]"
      ]
    },
    {
      "cell_type": "code",
      "execution_count": 401,
      "metadata": {
        "id": "xwpXDaWXdP8n"
      },
      "outputs": [],
      "source": [
        "model.save_model(\"../model/catboost_with_id.model\")"
      ]
    },
    {
      "cell_type": "code",
      "execution_count": 311,
      "metadata": {
        "id": "vrIp3IyMdP8o"
      },
      "outputs": [],
      "source": [
        "feature_importance = {}\n",
        "for name, val in zip(X_train.columns, model.get_feature_importance()):\n",
        "    feature_importance[name] = val"
      ]
    },
    {
      "cell_type": "code",
      "execution_count": 312,
      "metadata": {
        "id": "DT2cFrDLdP8p",
        "outputId": "60999c1c-08d1-42c8-b5a5-dd8c32d1d24b"
      },
      "outputs": [
        {
          "data": {
            "image/png": "[encoded data removed]",
            "text/plain": [
              "<Figure size 640x480 with 1 Axes>"
            ]
          },
          "metadata": {},
          "output_type": "display_data"
        }
      ],
      "source": [
        "plt.bar(feature_importance.keys(), feature_importance.values())\n",
        "plt.xticks(rotation=90)\n",
        "plt.show()"
      ]
    },
    {
      "cell_type": "code",
      "execution_count": null,
      "metadata": {},
      "outputs": [],
      "source": []
    }
  ],
  "metadata": {
    "colab": {
      "provenance": []
    },
    "kernelspec": {
      "display_name": "Python 3",
      "language": "python",
      "name": "python3"
    },
    "language_info": {
      "codemirror_mode": {
        "name": "ipython",
        "version": 3
      },
      "file_extension": ".py",
      "mimetype": "text/x-python",
      "name": "python",
      "nbconvert_exporter": "python",
      "pygments_lexer": "ipython3",
      "version": "3.9.12"
    },
    "orig_nbformat": 4
  },
  "nbformat": 4,
  "nbformat_minor": 0
}
