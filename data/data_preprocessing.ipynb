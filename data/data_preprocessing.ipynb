{
  "cells": [
    {
      "attachments": {},
      "cell_type": "markdown",
      "metadata": {
        "id": "CLZ2WvhudP7c"
      },
      "source": [
        "# Сбор фичей\n",
        "\n",
        "Cобираем все данные (исходную таблицу и сгенерированные фичи) вместе и делим на тренировочную, валидационную и тестовую выборки в двух вариантах: со сбалансированными и несбалансированными классами"
      ]
    },
    {
      "cell_type": "code",
      "execution_count": 80,
      "metadata": {
        "id": "4tMfbnuUdP7m"
      },
      "outputs": [],
      "source": [
        "import pandas as pd\n",
        "from sklearn.model_selection import train_test_split\n",
        "import matplotlib.pyplot as plt\n",
        "\n",
        "from pymorphy2 import MorphAnalyzer\n",
        "import nltk\n",
        "from nltk.corpus import stopwords\n",
        "import numpy as np\n",
        "\n",
        "import re"
      ]
    },
    {
      "cell_type": "code",
      "execution_count": 154,
      "metadata": {
        "id": "TqOJNRe_dP7q"
      },
      "outputs": [],
      "source": [
        "data = \"../data/wb_school_task_2.csv.gzip\"\n",
        "data = pd.read_csv(data, compression='gzip')\n",
        "data = data.drop_duplicates(ignore_index=True)"
      ]
    },
    {
      "cell_type": "code",
      "execution_count": 82,
      "metadata": {},
      "outputs": [],
      "source": [
        "#data = data.drop(['f2', 'f4'], axis=1)"
      ]
    },
    {
      "attachments": {},
      "cell_type": "markdown",
      "metadata": {
        "id": "hbGPdzs1dP7t"
      },
      "source": [
        "## Общие текстовые фичи"
      ]
    },
    {
      "cell_type": "code",
      "execution_count": 155,
      "metadata": {
        "id": "CYYF2neRdP7u",
        "outputId": "0a539365-b609-4d54-d3f3-36d9d63dc216"
      },
      "outputs": [
        {
          "data": {
            "text/html": [
              "<div>\n",
              "<style scoped>\n",
              "    .dataframe tbody tr th:only-of-type {\n",
              "        vertical-align: middle;\n",
              "    }\n",
              "\n",
              "    .dataframe tbody tr th {\n",
              "        vertical-align: top;\n",
              "    }\n",
              "\n",
              "    .dataframe thead th {\n",
              "        text-align: right;\n",
              "    }\n",
              "</style>\n",
              "<table border=\"1\" class=\"dataframe\">\n",
              "  <thead>\n",
              "    <tr style=\"text-align: right;\">\n",
              "      <th></th>\n",
              "      <th>id1</th>\n",
              "      <th>id2</th>\n",
              "      <th>id3</th>\n",
              "      <th>text</th>\n",
              "      <th>label</th>\n",
              "      <th>text_len</th>\n",
              "      <th>words_count</th>\n",
              "      <th>sentence_count</th>\n",
              "      <th>number_percentage</th>\n",
              "      <th>caps_percentage</th>\n",
              "      <th>is_empty</th>\n",
              "    </tr>\n",
              "  </thead>\n",
              "  <tbody>\n",
              "    <tr>\n",
              "      <th>0</th>\n",
              "      <td>7596126584852021591</td>\n",
              "      <td>173777575861152844</td>\n",
              "      <td>18254136755182295358</td>\n",
              "      <td>Хотела купить на замену старых,по итогу эти  у...</td>\n",
              "      <td>0</td>\n",
              "      <td>96</td>\n",
              "      <td>16</td>\n",
              "      <td>2</td>\n",
              "      <td>0.000000</td>\n",
              "      <td>0.062500</td>\n",
              "      <td>0</td>\n",
              "    </tr>\n",
              "    <tr>\n",
              "      <th>1</th>\n",
              "      <td>5327406586753254371</td>\n",
              "      <td>14366783259208998381</td>\n",
              "      <td>2324030737335224220</td>\n",
              "      <td>Запах по сравнению с обычным DOVE никакой. Оно...</td>\n",
              "      <td>1</td>\n",
              "      <td>99</td>\n",
              "      <td>15</td>\n",
              "      <td>3</td>\n",
              "      <td>0.000000</td>\n",
              "      <td>0.266667</td>\n",
              "      <td>0</td>\n",
              "    </tr>\n",
              "    <tr>\n",
              "      <th>2</th>\n",
              "      <td>2636757786779776109</td>\n",
              "      <td>16985421652518589249</td>\n",
              "      <td>4904562693381133981</td>\n",
              "      <td>Кабель подошёл, хорошо работает.</td>\n",
              "      <td>0</td>\n",
              "      <td>32</td>\n",
              "      <td>5</td>\n",
              "      <td>2</td>\n",
              "      <td>0.000000</td>\n",
              "      <td>0.200000</td>\n",
              "      <td>0</td>\n",
              "    </tr>\n",
              "    <tr>\n",
              "      <th>3</th>\n",
              "      <td>15432976385014516263</td>\n",
              "      <td>2629180387521298831</td>\n",
              "      <td>13541353053200353836</td>\n",
              "      <td>Восторг! Очень приятный аромат, держится долго...</td>\n",
              "      <td>1</td>\n",
              "      <td>81</td>\n",
              "      <td>11</td>\n",
              "      <td>3</td>\n",
              "      <td>0.000000</td>\n",
              "      <td>0.181818</td>\n",
              "      <td>0</td>\n",
              "    </tr>\n",
              "    <tr>\n",
              "      <th>4</th>\n",
              "      <td>11933982800034911890</td>\n",
              "      <td>14531191561111600318</td>\n",
              "      <td>9121890650636487522</td>\n",
              "      <td>Визуально все хорошо. Не пробовали. Купили в п...</td>\n",
              "      <td>0</td>\n",
              "      <td>52</td>\n",
              "      <td>8</td>\n",
              "      <td>3</td>\n",
              "      <td>0.000000</td>\n",
              "      <td>0.375000</td>\n",
              "      <td>0</td>\n",
              "    </tr>\n",
              "    <tr>\n",
              "      <th>...</th>\n",
              "      <td>...</td>\n",
              "      <td>...</td>\n",
              "      <td>...</td>\n",
              "      <td>...</td>\n",
              "      <td>...</td>\n",
              "      <td>...</td>\n",
              "      <td>...</td>\n",
              "      <td>...</td>\n",
              "      <td>...</td>\n",
              "      <td>...</td>\n",
              "      <td>...</td>\n",
              "    </tr>\n",
              "    <tr>\n",
              "      <th>3117</th>\n",
              "      <td>764513678578182418</td>\n",
              "      <td>15635360211325277203</td>\n",
              "      <td>6836784353719029392</td>\n",
              "      <td>Стекло не плохое,но есть один минус на техно с...</td>\n",
              "      <td>0</td>\n",
              "      <td>66</td>\n",
              "      <td>13</td>\n",
              "      <td>2</td>\n",
              "      <td>0.076923</td>\n",
              "      <td>0.076923</td>\n",
              "      <td>0</td>\n",
              "    </tr>\n",
              "    <tr>\n",
              "      <th>3118</th>\n",
              "      <td>6838893897482150395</td>\n",
              "      <td>13016265854619171030</td>\n",
              "      <td>12090430373311552618</td>\n",
              "      <td>Всё пришло запаковано, ничего не сломано. Лучш...</td>\n",
              "      <td>0</td>\n",
              "      <td>63</td>\n",
              "      <td>10</td>\n",
              "      <td>2</td>\n",
              "      <td>0.000000</td>\n",
              "      <td>0.200000</td>\n",
              "      <td>0</td>\n",
              "    </tr>\n",
              "    <tr>\n",
              "      <th>3119</th>\n",
              "      <td>3080528623596565085</td>\n",
              "      <td>17787644417937804433</td>\n",
              "      <td>18003133089489520237</td>\n",
              "      <td>Мне нравятся 👍🏻 я очень аллергичная, посоветов...</td>\n",
              "      <td>0</td>\n",
              "      <td>101</td>\n",
              "      <td>13</td>\n",
              "      <td>1</td>\n",
              "      <td>0.000000</td>\n",
              "      <td>0.076923</td>\n",
              "      <td>0</td>\n",
              "    </tr>\n",
              "    <tr>\n",
              "      <th>3120</th>\n",
              "      <td>13059704988549832630</td>\n",
              "      <td>997055248102065549</td>\n",
              "      <td>12214993272083833542</td>\n",
              "      <td>Спасибо,  целая пришла. Хорошо упаковано</td>\n",
              "      <td>0</td>\n",
              "      <td>40</td>\n",
              "      <td>5</td>\n",
              "      <td>2</td>\n",
              "      <td>0.000000</td>\n",
              "      <td>0.400000</td>\n",
              "      <td>0</td>\n",
              "    </tr>\n",
              "    <tr>\n",
              "      <th>3121</th>\n",
              "      <td>11429810966213467017</td>\n",
              "      <td>1380541878847684914</td>\n",
              "      <td>11716132433518331197</td>\n",
              "      <td>Бур нормальный, но выбрал другую модель</td>\n",
              "      <td>0</td>\n",
              "      <td>39</td>\n",
              "      <td>6</td>\n",
              "      <td>1</td>\n",
              "      <td>0.000000</td>\n",
              "      <td>0.166667</td>\n",
              "      <td>0</td>\n",
              "    </tr>\n",
              "  </tbody>\n",
              "</table>\n",
              "<p>3122 rows × 11 columns</p>\n",
              "</div>"
            ],
            "text/plain": [
              "                       id1                   id2                   id3  \\\n",
              "0      7596126584852021591    173777575861152844  18254136755182295358   \n",
              "1      5327406586753254371  14366783259208998381   2324030737335224220   \n",
              "2      2636757786779776109  16985421652518589249   4904562693381133981   \n",
              "3     15432976385014516263   2629180387521298831  13541353053200353836   \n",
              "4     11933982800034911890  14531191561111600318   9121890650636487522   \n",
              "...                    ...                   ...                   ...   \n",
              "3117    764513678578182418  15635360211325277203   6836784353719029392   \n",
              "3118   6838893897482150395  13016265854619171030  12090430373311552618   \n",
              "3119   3080528623596565085  17787644417937804433  18003133089489520237   \n",
              "3120  13059704988549832630    997055248102065549  12214993272083833542   \n",
              "3121  11429810966213467017   1380541878847684914  11716132433518331197   \n",
              "\n",
              "                                                   text  label  text_len  \\\n",
              "0     Хотела купить на замену старых,по итогу эти  у...      0        96   \n",
              "1     Запах по сравнению с обычным DOVE никакой. Оно...      1        99   \n",
              "2                      Кабель подошёл, хорошо работает.      0        32   \n",
              "3     Восторг! Очень приятный аромат, держится долго...      1        81   \n",
              "4     Визуально все хорошо. Не пробовали. Купили в п...      0        52   \n",
              "...                                                 ...    ...       ...   \n",
              "3117  Стекло не плохое,но есть один минус на техно с...      0        66   \n",
              "3118  Всё пришло запаковано, ничего не сломано. Лучш...      0        63   \n",
              "3119  Мне нравятся 👍🏻 я очень аллергичная, посоветов...      0       101   \n",
              "3120           Спасибо,  целая пришла. Хорошо упаковано      0        40   \n",
              "3121            Бур нормальный, но выбрал другую модель      0        39   \n",
              "\n",
              "      words_count  sentence_count  number_percentage  caps_percentage  \\\n",
              "0              16               2           0.000000         0.062500   \n",
              "1              15               3           0.000000         0.266667   \n",
              "2               5               2           0.000000         0.200000   \n",
              "3              11               3           0.000000         0.181818   \n",
              "4               8               3           0.000000         0.375000   \n",
              "...           ...             ...                ...              ...   \n",
              "3117           13               2           0.076923         0.076923   \n",
              "3118           10               2           0.000000         0.200000   \n",
              "3119           13               1           0.000000         0.076923   \n",
              "3120            5               2           0.000000         0.400000   \n",
              "3121            6               1           0.000000         0.166667   \n",
              "\n",
              "      is_empty  \n",
              "0            0  \n",
              "1            0  \n",
              "2            0  \n",
              "3            0  \n",
              "4            0  \n",
              "...        ...  \n",
              "3117         0  \n",
              "3118         0  \n",
              "3119         0  \n",
              "3120         0  \n",
              "3121         0  \n",
              "\n",
              "[3122 rows x 11 columns]"
            ]
          },
          "execution_count": 155,
          "metadata": {},
          "output_type": "execute_result"
        }
      ],
      "source": [
        "def extract_features(s: pd.Series):\n",
        "    text = s['text']\n",
        "    word_count = len(re.findall(r'[а-яА-Яa-zA-Z]+', text))\n",
        "    # есть отзывы, состоящие из смайликов, пробелов или нижних подчеркиваний\n",
        "    if word_count == 0:\n",
        "            return pd.Series({\n",
        "            'id1': s['id1'],\n",
        "            'id2': s['id2'],\n",
        "            'id3': s['id3'],\n",
        "            'text': text,\n",
        "            'label': s['label'],\n",
        "            'text_len': len(text),\n",
        "            'words_count': 0,\n",
        "            'sentence_count': 0,\n",
        "            'number_percentage': 0,\n",
        "            'caps_percentage': 0,\n",
        "            'is_empty': 1\n",
        "        })\n",
        "\n",
        "    return pd.Series({\n",
        "        'id1': s['id1'],\n",
        "        'id2': s['id2'],\n",
        "        'id3': s['id3'],\n",
        "        'text': text,\n",
        "        'label': s['label'],\n",
        "        'text_len': len(text),\n",
        "        'words_count': word_count,\n",
        "        'sentence_count': len(re.split(r'[.!?]+', text)),\n",
        "        'number_percentage': len(re.findall(r'\\d+', text)) / word_count,\n",
        "        'caps_percentage': len(re.findall(r'[А-ЯA-Z]+', text)) / word_count,\n",
        "        'is_empty': 0\n",
        "    })\n",
        "\n",
        "text_features = data.apply(extract_features, axis=1)\n",
        "text_features"
      ]
    },
    {
      "cell_type": "code",
      "execution_count": 156,
      "metadata": {
        "id": "ry4Q7-pJdP7x",
        "outputId": "33689c21-112e-4178-fef1-819122010757"
      },
      "outputs": [
        {
          "data": {
            "text/html": [
              "<div>\n",
              "<style scoped>\n",
              "    .dataframe tbody tr th:only-of-type {\n",
              "        vertical-align: middle;\n",
              "    }\n",
              "\n",
              "    .dataframe tbody tr th {\n",
              "        vertical-align: top;\n",
              "    }\n",
              "\n",
              "    .dataframe thead th {\n",
              "        text-align: right;\n",
              "    }\n",
              "</style>\n",
              "<table border=\"1\" class=\"dataframe\">\n",
              "  <thead>\n",
              "    <tr style=\"text-align: right;\">\n",
              "      <th></th>\n",
              "      <th>id1</th>\n",
              "      <th>id2</th>\n",
              "      <th>id3</th>\n",
              "      <th>text</th>\n",
              "      <th>f1</th>\n",
              "      <th>f2</th>\n",
              "      <th>f3</th>\n",
              "      <th>f4</th>\n",
              "      <th>f5</th>\n",
              "      <th>f6</th>\n",
              "      <th>f7</th>\n",
              "      <th>f8</th>\n",
              "      <th>label</th>\n",
              "      <th>text_len</th>\n",
              "      <th>words_count</th>\n",
              "      <th>sentence_count</th>\n",
              "      <th>number_percentage</th>\n",
              "      <th>caps_percentage</th>\n",
              "      <th>is_empty</th>\n",
              "    </tr>\n",
              "  </thead>\n",
              "  <tbody>\n",
              "    <tr>\n",
              "      <th>0</th>\n",
              "      <td>7596126584852021591</td>\n",
              "      <td>173777575861152844</td>\n",
              "      <td>18254136755182295358</td>\n",
              "      <td>Хотела купить на замену старых,по итогу эти  у...</td>\n",
              "      <td>1</td>\n",
              "      <td>1</td>\n",
              "      <td>1.000000</td>\n",
              "      <td>11</td>\n",
              "      <td>13</td>\n",
              "      <td>4.272727</td>\n",
              "      <td>18</td>\n",
              "      <td>36</td>\n",
              "      <td>0</td>\n",
              "      <td>96</td>\n",
              "      <td>16</td>\n",
              "      <td>2</td>\n",
              "      <td>0.000000</td>\n",
              "      <td>0.062500</td>\n",
              "      <td>0</td>\n",
              "    </tr>\n",
              "    <tr>\n",
              "      <th>1</th>\n",
              "      <td>5327406586753254371</td>\n",
              "      <td>14366783259208998381</td>\n",
              "      <td>2324030737335224220</td>\n",
              "      <td>Запах по сравнению с обычным DOVE никакой. Оно...</td>\n",
              "      <td>10</td>\n",
              "      <td>6</td>\n",
              "      <td>2.700000</td>\n",
              "      <td>46</td>\n",
              "      <td>4</td>\n",
              "      <td>4.434783</td>\n",
              "      <td>90</td>\n",
              "      <td>109</td>\n",
              "      <td>1</td>\n",
              "      <td>99</td>\n",
              "      <td>15</td>\n",
              "      <td>3</td>\n",
              "      <td>0.000000</td>\n",
              "      <td>0.266667</td>\n",
              "      <td>0</td>\n",
              "    </tr>\n",
              "    <tr>\n",
              "      <th>2</th>\n",
              "      <td>2636757786779776109</td>\n",
              "      <td>16985421652518589249</td>\n",
              "      <td>4904562693381133981</td>\n",
              "      <td>Кабель подошёл, хорошо работает.</td>\n",
              "      <td>4</td>\n",
              "      <td>4</td>\n",
              "      <td>4.000000</td>\n",
              "      <td>14</td>\n",
              "      <td>0</td>\n",
              "      <td>4.500000</td>\n",
              "      <td>4</td>\n",
              "      <td>6</td>\n",
              "      <td>0</td>\n",
              "      <td>32</td>\n",
              "      <td>5</td>\n",
              "      <td>2</td>\n",
              "      <td>0.000000</td>\n",
              "      <td>0.200000</td>\n",
              "      <td>0</td>\n",
              "    </tr>\n",
              "    <tr>\n",
              "      <th>3</th>\n",
              "      <td>15432976385014516263</td>\n",
              "      <td>2629180387521298831</td>\n",
              "      <td>13541353053200353836</td>\n",
              "      <td>Восторг! Очень приятный аромат, держится долго...</td>\n",
              "      <td>6</td>\n",
              "      <td>6</td>\n",
              "      <td>5.000000</td>\n",
              "      <td>374</td>\n",
              "      <td>30</td>\n",
              "      <td>4.772727</td>\n",
              "      <td>14</td>\n",
              "      <td>15</td>\n",
              "      <td>1</td>\n",
              "      <td>81</td>\n",
              "      <td>11</td>\n",
              "      <td>3</td>\n",
              "      <td>0.000000</td>\n",
              "      <td>0.181818</td>\n",
              "      <td>0</td>\n",
              "    </tr>\n",
              "    <tr>\n",
              "      <th>4</th>\n",
              "      <td>11933982800034911890</td>\n",
              "      <td>14531191561111600318</td>\n",
              "      <td>9121890650636487522</td>\n",
              "      <td>Визуально все хорошо. Не пробовали. Купили в п...</td>\n",
              "      <td>19</td>\n",
              "      <td>18</td>\n",
              "      <td>5.000000</td>\n",
              "      <td>6</td>\n",
              "      <td>4</td>\n",
              "      <td>5.000000</td>\n",
              "      <td>26</td>\n",
              "      <td>33</td>\n",
              "      <td>0</td>\n",
              "      <td>52</td>\n",
              "      <td>8</td>\n",
              "      <td>3</td>\n",
              "      <td>0.000000</td>\n",
              "      <td>0.375000</td>\n",
              "      <td>0</td>\n",
              "    </tr>\n",
              "    <tr>\n",
              "      <th>...</th>\n",
              "      <td>...</td>\n",
              "      <td>...</td>\n",
              "      <td>...</td>\n",
              "      <td>...</td>\n",
              "      <td>...</td>\n",
              "      <td>...</td>\n",
              "      <td>...</td>\n",
              "      <td>...</td>\n",
              "      <td>...</td>\n",
              "      <td>...</td>\n",
              "      <td>...</td>\n",
              "      <td>...</td>\n",
              "      <td>...</td>\n",
              "      <td>...</td>\n",
              "      <td>...</td>\n",
              "      <td>...</td>\n",
              "      <td>...</td>\n",
              "      <td>...</td>\n",
              "      <td>...</td>\n",
              "    </tr>\n",
              "    <tr>\n",
              "      <th>3117</th>\n",
              "      <td>764513678578182418</td>\n",
              "      <td>15635360211325277203</td>\n",
              "      <td>6836784353719029392</td>\n",
              "      <td>Стекло не плохое,но есть один минус на техно с...</td>\n",
              "      <td>2</td>\n",
              "      <td>2</td>\n",
              "      <td>3.000000</td>\n",
              "      <td>19</td>\n",
              "      <td>1</td>\n",
              "      <td>4.263158</td>\n",
              "      <td>9</td>\n",
              "      <td>9</td>\n",
              "      <td>0</td>\n",
              "      <td>66</td>\n",
              "      <td>13</td>\n",
              "      <td>2</td>\n",
              "      <td>0.076923</td>\n",
              "      <td>0.076923</td>\n",
              "      <td>0</td>\n",
              "    </tr>\n",
              "    <tr>\n",
              "      <th>3118</th>\n",
              "      <td>6838893897482150395</td>\n",
              "      <td>13016265854619171030</td>\n",
              "      <td>12090430373311552618</td>\n",
              "      <td>Всё пришло запаковано, ничего не сломано. Лучш...</td>\n",
              "      <td>8</td>\n",
              "      <td>8</td>\n",
              "      <td>4.375000</td>\n",
              "      <td>131</td>\n",
              "      <td>83</td>\n",
              "      <td>4.183206</td>\n",
              "      <td>18</td>\n",
              "      <td>18</td>\n",
              "      <td>0</td>\n",
              "      <td>63</td>\n",
              "      <td>10</td>\n",
              "      <td>2</td>\n",
              "      <td>0.000000</td>\n",
              "      <td>0.200000</td>\n",
              "      <td>0</td>\n",
              "    </tr>\n",
              "    <tr>\n",
              "      <th>3119</th>\n",
              "      <td>3080528623596565085</td>\n",
              "      <td>17787644417937804433</td>\n",
              "      <td>18003133089489520237</td>\n",
              "      <td>Мне нравятся 👍🏻 я очень аллергичная, посоветов...</td>\n",
              "      <td>13</td>\n",
              "      <td>12</td>\n",
              "      <td>5.000000</td>\n",
              "      <td>145</td>\n",
              "      <td>2</td>\n",
              "      <td>4.944828</td>\n",
              "      <td>12</td>\n",
              "      <td>14</td>\n",
              "      <td>0</td>\n",
              "      <td>101</td>\n",
              "      <td>13</td>\n",
              "      <td>1</td>\n",
              "      <td>0.000000</td>\n",
              "      <td>0.076923</td>\n",
              "      <td>0</td>\n",
              "    </tr>\n",
              "    <tr>\n",
              "      <th>3120</th>\n",
              "      <td>13059704988549832630</td>\n",
              "      <td>997055248102065549</td>\n",
              "      <td>12214993272083833542</td>\n",
              "      <td>Спасибо,  целая пришла. Хорошо упаковано</td>\n",
              "      <td>3</td>\n",
              "      <td>3</td>\n",
              "      <td>5.000000</td>\n",
              "      <td>205</td>\n",
              "      <td>19</td>\n",
              "      <td>4.648780</td>\n",
              "      <td>103</td>\n",
              "      <td>155</td>\n",
              "      <td>0</td>\n",
              "      <td>40</td>\n",
              "      <td>5</td>\n",
              "      <td>2</td>\n",
              "      <td>0.000000</td>\n",
              "      <td>0.400000</td>\n",
              "      <td>0</td>\n",
              "    </tr>\n",
              "    <tr>\n",
              "      <th>3121</th>\n",
              "      <td>11429810966213467017</td>\n",
              "      <td>1380541878847684914</td>\n",
              "      <td>11716132433518331197</td>\n",
              "      <td>Бур нормальный, но выбрал другую модель</td>\n",
              "      <td>42</td>\n",
              "      <td>29</td>\n",
              "      <td>4.809524</td>\n",
              "      <td>61</td>\n",
              "      <td>17</td>\n",
              "      <td>4.655738</td>\n",
              "      <td>54</td>\n",
              "      <td>101</td>\n",
              "      <td>0</td>\n",
              "      <td>39</td>\n",
              "      <td>6</td>\n",
              "      <td>1</td>\n",
              "      <td>0.000000</td>\n",
              "      <td>0.166667</td>\n",
              "      <td>0</td>\n",
              "    </tr>\n",
              "  </tbody>\n",
              "</table>\n",
              "<p>3122 rows × 19 columns</p>\n",
              "</div>"
            ],
            "text/plain": [
              "                       id1                   id2                   id3  \\\n",
              "0      7596126584852021591    173777575861152844  18254136755182295358   \n",
              "1      5327406586753254371  14366783259208998381   2324030737335224220   \n",
              "2      2636757786779776109  16985421652518589249   4904562693381133981   \n",
              "3     15432976385014516263   2629180387521298831  13541353053200353836   \n",
              "4     11933982800034911890  14531191561111600318   9121890650636487522   \n",
              "...                    ...                   ...                   ...   \n",
              "3117    764513678578182418  15635360211325277203   6836784353719029392   \n",
              "3118   6838893897482150395  13016265854619171030  12090430373311552618   \n",
              "3119   3080528623596565085  17787644417937804433  18003133089489520237   \n",
              "3120  13059704988549832630    997055248102065549  12214993272083833542   \n",
              "3121  11429810966213467017   1380541878847684914  11716132433518331197   \n",
              "\n",
              "                                                   text  f1  f2        f3  \\\n",
              "0     Хотела купить на замену старых,по итогу эти  у...   1   1  1.000000   \n",
              "1     Запах по сравнению с обычным DOVE никакой. Оно...  10   6  2.700000   \n",
              "2                      Кабель подошёл, хорошо работает.   4   4  4.000000   \n",
              "3     Восторг! Очень приятный аромат, держится долго...   6   6  5.000000   \n",
              "4     Визуально все хорошо. Не пробовали. Купили в п...  19  18  5.000000   \n",
              "...                                                 ...  ..  ..       ...   \n",
              "3117  Стекло не плохое,но есть один минус на техно с...   2   2  3.000000   \n",
              "3118  Всё пришло запаковано, ничего не сломано. Лучш...   8   8  4.375000   \n",
              "3119  Мне нравятся 👍🏻 я очень аллергичная, посоветов...  13  12  5.000000   \n",
              "3120           Спасибо,  целая пришла. Хорошо упаковано   3   3  5.000000   \n",
              "3121            Бур нормальный, но выбрал другую модель  42  29  4.809524   \n",
              "\n",
              "       f4  f5        f6   f7   f8  label  text_len  words_count  \\\n",
              "0      11  13  4.272727   18   36      0        96           16   \n",
              "1      46   4  4.434783   90  109      1        99           15   \n",
              "2      14   0  4.500000    4    6      0        32            5   \n",
              "3     374  30  4.772727   14   15      1        81           11   \n",
              "4       6   4  5.000000   26   33      0        52            8   \n",
              "...   ...  ..       ...  ...  ...    ...       ...          ...   \n",
              "3117   19   1  4.263158    9    9      0        66           13   \n",
              "3118  131  83  4.183206   18   18      0        63           10   \n",
              "3119  145   2  4.944828   12   14      0       101           13   \n",
              "3120  205  19  4.648780  103  155      0        40            5   \n",
              "3121   61  17  4.655738   54  101      0        39            6   \n",
              "\n",
              "      sentence_count  number_percentage  caps_percentage  is_empty  \n",
              "0                  2           0.000000         0.062500         0  \n",
              "1                  3           0.000000         0.266667         0  \n",
              "2                  2           0.000000         0.200000         0  \n",
              "3                  3           0.000000         0.181818         0  \n",
              "4                  3           0.000000         0.375000         0  \n",
              "...              ...                ...              ...       ...  \n",
              "3117               2           0.076923         0.076923         0  \n",
              "3118               2           0.000000         0.200000         0  \n",
              "3119               1           0.000000         0.076923         0  \n",
              "3120               2           0.000000         0.400000         0  \n",
              "3121               1           0.000000         0.166667         0  \n",
              "\n",
              "[3122 rows x 19 columns]"
            ]
          },
          "execution_count": 156,
          "metadata": {},
          "output_type": "execute_result"
        }
      ],
      "source": [
        "merged_dataset = pd.merge(data, text_features, on=['text', 'label', 'id1', 'id2', 'id3'], how='left')\n",
        "merged_dataset"
      ]
    },
    {
      "attachments": {},
      "cell_type": "markdown",
      "metadata": {
        "id": "9NwvYVqhdP7y"
      },
      "source": [
        "## Фичи из ID"
      ]
    },
    {
      "cell_type": "code",
      "execution_count": 157,
      "metadata": {
        "id": "wzAzovNEdP7z"
      },
      "outputs": [],
      "source": [
        "def id_analize(id_col: str, data: pd.DataFrame):\n",
        "    df = data[[id_col, \"label\"]]\n",
        "    df = df.groupby(by=id_col)\n",
        "    col0 = id_col + \"_0\"\n",
        "    col1 = id_col + \"_1\"\n",
        "    result = pd.DataFrame(data = {id_col: data[id_col].unique()}, columns=[id_col, col0, col1])\n",
        "    for idn, table in df:\n",
        "        if table.shape[0] < 3: \n",
        "            result.loc[result[id_col]==idn, col0] = 0\n",
        "            result.loc[result[id_col]==idn, col1] = 0\n",
        "            continue\n",
        "        result.loc[result[id_col]==idn, col0] = (table['label'] == 0).sum()/table.shape[0]\n",
        "        result.loc[result[id_col]==idn, col1] = (table['label'] == 1).sum()/table.shape[0]\n",
        "    return result\n",
        "\n",
        "\n",
        "for col in ['id1', 'id2']:\n",
        "    id_analized = id_analize(col, data)\n",
        "    id_analized.to_csv(f\"./{col}_data.csv\", index=False)\n",
        "    merged_dataset = merged_dataset.merge(id_analized, how='left', on=col)"
      ]
    },
    {
      "cell_type": "code",
      "execution_count": 158,
      "metadata": {},
      "outputs": [
        {
          "data": {
            "text/html": [
              "<div>\n",
              "<style scoped>\n",
              "    .dataframe tbody tr th:only-of-type {\n",
              "        vertical-align: middle;\n",
              "    }\n",
              "\n",
              "    .dataframe tbody tr th {\n",
              "        vertical-align: top;\n",
              "    }\n",
              "\n",
              "    .dataframe thead th {\n",
              "        text-align: right;\n",
              "    }\n",
              "</style>\n",
              "<table border=\"1\" class=\"dataframe\">\n",
              "  <thead>\n",
              "    <tr style=\"text-align: right;\">\n",
              "      <th></th>\n",
              "      <th>id2</th>\n",
              "      <th>id2_0</th>\n",
              "      <th>id2_1</th>\n",
              "    </tr>\n",
              "  </thead>\n",
              "  <tbody>\n",
              "    <tr>\n",
              "      <th>37</th>\n",
              "      <td>2191062068342455122</td>\n",
              "      <td>0.142857</td>\n",
              "      <td>0.857143</td>\n",
              "    </tr>\n",
              "    <tr>\n",
              "      <th>348</th>\n",
              "      <td>10684084284972821938</td>\n",
              "      <td>0.333333</td>\n",
              "      <td>0.666667</td>\n",
              "    </tr>\n",
              "    <tr>\n",
              "      <th>605</th>\n",
              "      <td>13254340482863153572</td>\n",
              "      <td>0.6</td>\n",
              "      <td>0.4</td>\n",
              "    </tr>\n",
              "    <tr>\n",
              "      <th>742</th>\n",
              "      <td>3345344880097563888</td>\n",
              "      <td>1.0</td>\n",
              "      <td>0.0</td>\n",
              "    </tr>\n",
              "    <tr>\n",
              "      <th>800</th>\n",
              "      <td>3354127181966729901</td>\n",
              "      <td>0.333333</td>\n",
              "      <td>0.666667</td>\n",
              "    </tr>\n",
              "    <tr>\n",
              "      <th>998</th>\n",
              "      <td>2642467206901957758</td>\n",
              "      <td>1.0</td>\n",
              "      <td>0.0</td>\n",
              "    </tr>\n",
              "    <tr>\n",
              "      <th>1017</th>\n",
              "      <td>9941205851225031193</td>\n",
              "      <td>0.333333</td>\n",
              "      <td>0.666667</td>\n",
              "    </tr>\n",
              "  </tbody>\n",
              "</table>\n",
              "</div>"
            ],
            "text/plain": [
              "                       id2     id2_0     id2_1\n",
              "37     2191062068342455122  0.142857  0.857143\n",
              "348   10684084284972821938  0.333333  0.666667\n",
              "605   13254340482863153572       0.6       0.4\n",
              "742    3345344880097563888       1.0       0.0\n",
              "800    3354127181966729901  0.333333  0.666667\n",
              "998    2642467206901957758       1.0       0.0\n",
              "1017   9941205851225031193  0.333333  0.666667"
            ]
          },
          "execution_count": 158,
          "metadata": {},
          "output_type": "execute_result"
        }
      ],
      "source": [
        "id_analized[id_analized['id2_0'] > 0]"
      ]
    },
    {
      "attachments": {},
      "cell_type": "markdown",
      "metadata": {
        "id": "ADe8haA3dP72"
      },
      "source": [
        "## Классификация текстов\n",
        "\n",
        "Вместо того, чтобы конкатенировать векторизированные слова вместе с основными фичами, просто сделаем отдельную классификацию текстов"
      ]
    },
    {
      "cell_type": "code",
      "execution_count": 159,
      "metadata": {
        "id": "SxctlucodP73"
      },
      "outputs": [],
      "source": [
        "from gensim.test.utils import common_texts\n",
        "from gensim.models import Word2Vec, KeyedVectors\n",
        "\n",
        "from navec import Navec\n",
        "\n",
        "navec = Navec.load(\"./navec_hudlit_v1_12B_500K_300d_100q.tar\")\n",
        "\n",
        "patterns = \"[A-Za-z0-9!#$%&'()*+,./:;<=>?@[\\]^_`{|}~—\\\"\\-]+\"\n",
        "stopwords_ru = stopwords.words(\"russian\")\n",
        "morph = MorphAnalyzer()"
      ]
    },
    {
      "cell_type": "code",
      "execution_count": 160,
      "metadata": {
        "id": "18wxgCI7dP75"
      },
      "outputs": [],
      "source": [
        "import pickle\n",
        "with open(\"../model/text_cl.pkl\", 'rb') as f:\n",
        "    text_classifier = pickle.load(f) \n",
        "\n",
        "with open(\"../model/tf_idf.pkl\", 'rb') as f:\n",
        "    tf_idf = pickle.load(f)"
      ]
    },
    {
      "cell_type": "code",
      "execution_count": 161,
      "metadata": {
        "id": "JklmQOaqdP76"
      },
      "outputs": [],
      "source": [
        "def text_classification(doc):\n",
        "    local_falls = 0\n",
        "    doc = re.sub(patterns, ' ', doc)\n",
        "    vector = tf_idf.transform([doc])\n",
        "    proba = text_classifier.predict_proba(vector)[0]\n",
        "    for token in doc.split():\n",
        "        token = re.sub(\"[^А-Яа-я]\", '', token)\n",
        "        if token and token not in stopwords_ru:\n",
        "            token = token.strip()\n",
        "            token = morph.normal_forms(token)[0]\n",
        "            try:\n",
        "                navec[token]\n",
        "            except:\n",
        "                local_falls += 1\n",
        "    return *proba, local_falls\n",
        "\n",
        "vector_data = data.apply(lambda x: text_classification(x['text']), axis=1)"
      ]
    },
    {
      "cell_type": "code",
      "execution_count": 162,
      "metadata": {
        "id": "ld0jTqALdP78",
        "outputId": "24abfb94-4011-4391-c77f-38770b852b9d"
      },
      "outputs": [
        {
          "data": {
            "text/plain": [
              "0     (0.4412327999466402, 0.5587672000533598, 2)\n",
              "1    (0.48205227866352807, 0.5179477213364719, 1)\n",
              "2     (0.5875346499393287, 0.4124653500606713, 1)\n",
              "3     (0.4951146734684083, 0.5048853265315917, 0)\n",
              "4    (0.5327510653776146, 0.46724893462238537, 0)\n",
              "dtype: object"
            ]
          },
          "execution_count": 162,
          "metadata": {},
          "output_type": "execute_result"
        }
      ],
      "source": [
        "vector_data.head()"
      ]
    },
    {
      "cell_type": "code",
      "execution_count": 163,
      "metadata": {
        "id": "KkhvTiLLdP79"
      },
      "outputs": [],
      "source": [
        "text_data = vector_data.apply(lambda x: pd.Series(x, index=['text_0', 'text_1', 'falls_count']))"
      ]
    },
    {
      "cell_type": "code",
      "execution_count": 164,
      "metadata": {
        "id": "wL_xGHpxdP7-",
        "outputId": "6624b76e-e475-43ff-8145-2f2f0d7e1552"
      },
      "outputs": [
        {
          "data": {
            "text/html": [
              "<div>\n",
              "<style scoped>\n",
              "    .dataframe tbody tr th:only-of-type {\n",
              "        vertical-align: middle;\n",
              "    }\n",
              "\n",
              "    .dataframe tbody tr th {\n",
              "        vertical-align: top;\n",
              "    }\n",
              "\n",
              "    .dataframe thead th {\n",
              "        text-align: right;\n",
              "    }\n",
              "</style>\n",
              "<table border=\"1\" class=\"dataframe\">\n",
              "  <thead>\n",
              "    <tr style=\"text-align: right;\">\n",
              "      <th></th>\n",
              "      <th>text_0</th>\n",
              "      <th>text_1</th>\n",
              "      <th>falls_count</th>\n",
              "    </tr>\n",
              "  </thead>\n",
              "  <tbody>\n",
              "    <tr>\n",
              "      <th>0</th>\n",
              "      <td>0.441233</td>\n",
              "      <td>0.558767</td>\n",
              "      <td>2.0</td>\n",
              "    </tr>\n",
              "    <tr>\n",
              "      <th>1</th>\n",
              "      <td>0.482052</td>\n",
              "      <td>0.517948</td>\n",
              "      <td>1.0</td>\n",
              "    </tr>\n",
              "    <tr>\n",
              "      <th>2</th>\n",
              "      <td>0.587535</td>\n",
              "      <td>0.412465</td>\n",
              "      <td>1.0</td>\n",
              "    </tr>\n",
              "    <tr>\n",
              "      <th>3</th>\n",
              "      <td>0.495115</td>\n",
              "      <td>0.504885</td>\n",
              "      <td>0.0</td>\n",
              "    </tr>\n",
              "    <tr>\n",
              "      <th>4</th>\n",
              "      <td>0.532751</td>\n",
              "      <td>0.467249</td>\n",
              "      <td>0.0</td>\n",
              "    </tr>\n",
              "  </tbody>\n",
              "</table>\n",
              "</div>"
            ],
            "text/plain": [
              "     text_0    text_1  falls_count\n",
              "0  0.441233  0.558767          2.0\n",
              "1  0.482052  0.517948          1.0\n",
              "2  0.587535  0.412465          1.0\n",
              "3  0.495115  0.504885          0.0\n",
              "4  0.532751  0.467249          0.0"
            ]
          },
          "execution_count": 164,
          "metadata": {},
          "output_type": "execute_result"
        }
      ],
      "source": [
        "text_data.head()"
      ]
    },
    {
      "cell_type": "code",
      "execution_count": 165,
      "metadata": {
        "id": "oBJs6xgAdP8A"
      },
      "outputs": [],
      "source": [
        "full_data = merged_dataset.merge(text_data, left_index=True, right_index=True)"
      ]
    },
    {
      "cell_type": "code",
      "execution_count": 166,
      "metadata": {
        "id": "BhYOiW2pdP8C"
      },
      "outputs": [],
      "source": [
        "full_data.to_csv(\"./unbalanced_data/full_data.csv\", index=False)"
      ]
    },
    {
      "attachments": {},
      "cell_type": "markdown",
      "metadata": {
        "id": "R6pjV7ODdP8D"
      },
      "source": [
        "# Разделение данных"
      ]
    },
    {
      "cell_type": "code",
      "execution_count": 167,
      "metadata": {
        "id": "gJIqiEd6dP8D",
        "outputId": "8a9b56c7-f57b-4683-baeb-62725515656d"
      },
      "outputs": [
        {
          "data": {
            "text/plain": [
              "(2497, 625)"
            ]
          },
          "execution_count": 167,
          "metadata": {},
          "output_type": "execute_result"
        }
      ],
      "source": [
        "X_train, X_test = train_test_split(full_data, test_size=0.2, stratify=full_data['label'])\n",
        "len(X_train), len(X_test)"
      ]
    },
    {
      "cell_type": "code",
      "execution_count": 168,
      "metadata": {
        "id": "e4-oWNX-dP8E",
        "outputId": "743bb04b-30c4-43e3-b4d2-5ebb34e46441"
      },
      "outputs": [
        {
          "data": {
            "text/plain": [
              "(1997, 500)"
            ]
          },
          "execution_count": 168,
          "metadata": {},
          "output_type": "execute_result"
        }
      ],
      "source": [
        "X_train, X_valid = train_test_split(X_train, test_size=0.2, stratify=X_train['label'])\n",
        "len(X_train), len(X_valid)"
      ]
    },
    {
      "cell_type": "code",
      "execution_count": 169,
      "metadata": {
        "id": "4ZYvCApmdP8J"
      },
      "outputs": [],
      "source": [
        "X_train.to_csv('./unbalanced_data/train_data.csv', index=False)\n",
        "X_test.to_csv('./unbalanced_data/test_data.csv', index=False)\n",
        "X_valid.to_csv('./unbalanced_data/valid_data.csv', index=False)"
      ]
    },
    {
      "attachments": {},
      "cell_type": "markdown",
      "metadata": {
        "id": "1mo9xorjdP8K"
      },
      "source": [
        "### Сбалансированные классы"
      ]
    },
    {
      "cell_type": "code",
      "execution_count": 170,
      "metadata": {
        "id": "WEm4ZejsdP8L",
        "outputId": "24a5b8bb-5c18-4fdf-a870-6980f0279336"
      },
      "outputs": [
        {
          "data": {
            "text/plain": [
              "528"
            ]
          },
          "execution_count": 170,
          "metadata": {},
          "output_type": "execute_result"
        }
      ],
      "source": [
        "(X_train['label']==1).sum()"
      ]
    },
    {
      "cell_type": "code",
      "execution_count": 171,
      "metadata": {
        "id": "IMTjs8HOdP8M"
      },
      "outputs": [],
      "source": [
        "cutted_x = X_train.sort_values(by='label', ascending=False, ignore_index=True).loc[:(X_train['label']==1).sum()*2]\n",
        "cutted_x = cutted_x.sample(frac=1).reset_index(drop=True)\n",
        "cutted_x.to_csv('./cutted_data/train_data.csv', index=False)"
      ]
    },
    {
      "cell_type": "code",
      "execution_count": 172,
      "metadata": {
        "id": "5rCW9-hSdP8M"
      },
      "outputs": [],
      "source": [
        "cutted_x = X_valid.sort_values(by='label', ascending=False, ignore_index=True).loc[:(X_valid['label']==1).sum()*2]\n",
        "cutted_x = cutted_x.sample(frac=1).reset_index(drop=True)\n",
        "cutted_x.to_csv('./cutted_data/valid_data.csv', index=False)"
      ]
    },
    {
      "cell_type": "code",
      "execution_count": 173,
      "metadata": {
        "id": "Nta7HSCydP8N"
      },
      "outputs": [],
      "source": [
        "cutted_x = X_test.sort_values(by='label', ascending=False, ignore_index=True).loc[:(X_test['label']==1).sum()*2]\n",
        "cutted_x = cutted_x.sample(frac=1).reset_index(drop=True)\n",
        "cutted_x.to_csv('./cutted_data/test_data.csv', index=False)"
      ]
    },
    {
      "attachments": {},
      "cell_type": "markdown",
      "metadata": {
        "id": "01ju81FldP8O"
      },
      "source": [
        "# CatBoost"
      ]
    },
    {
      "cell_type": "code",
      "execution_count": 68,
      "metadata": {
        "id": "axSTSlbwdP8P"
      },
      "outputs": [],
      "source": [
        "from catboost import CatBoostClassifier\n",
        "import optuna\n",
        "import pandas as pd"
      ]
    },
    {
      "cell_type": "code",
      "execution_count": 69,
      "metadata": {
        "id": "fVd6mTaLdP8Q"
      },
      "outputs": [],
      "source": [
        "from sklearn.neural_network import MLPClassifier\n",
        "from sklearn.metrics import f1_score"
      ]
    },
    {
      "cell_type": "code",
      "execution_count": 107,
      "metadata": {
        "id": "r-892cqadP8Q",
        "outputId": "0ec2fc29-70f8-4f0e-ed8e-b0b1313682ce"
      },
      "outputs": [
        {
          "data": {
            "text/plain": [
              "1057"
            ]
          },
          "execution_count": 107,
          "metadata": {},
          "output_type": "execute_result"
        }
      ],
      "source": [
        "data_train = pd.read_csv('./cutted_data/train_data.csv')\n",
        "Y_train = data_train['label']\n",
        "X_train = data_train.drop(['label', 'id1', 'id2', 'id3', 'text', 'id1_0', 'id1_1', 'id2_0', 'id2_1'], axis=1)\n",
        "len(X_train)"
      ]
    },
    {
      "cell_type": "code",
      "execution_count": 108,
      "metadata": {},
      "outputs": [
        {
          "data": {
            "text/html": [
              "<div>\n",
              "<style scoped>\n",
              "    .dataframe tbody tr th:only-of-type {\n",
              "        vertical-align: middle;\n",
              "    }\n",
              "\n",
              "    .dataframe tbody tr th {\n",
              "        vertical-align: top;\n",
              "    }\n",
              "\n",
              "    .dataframe thead th {\n",
              "        text-align: right;\n",
              "    }\n",
              "</style>\n",
              "<table border=\"1\" class=\"dataframe\">\n",
              "  <thead>\n",
              "    <tr style=\"text-align: right;\">\n",
              "      <th></th>\n",
              "      <th>f1</th>\n",
              "      <th>f2</th>\n",
              "      <th>f3</th>\n",
              "      <th>f4</th>\n",
              "      <th>f5</th>\n",
              "      <th>f6</th>\n",
              "      <th>f7</th>\n",
              "      <th>f8</th>\n",
              "      <th>text_len</th>\n",
              "      <th>words_count</th>\n",
              "      <th>sentence_count</th>\n",
              "      <th>number_percentage</th>\n",
              "      <th>caps_percentage</th>\n",
              "      <th>is_empty</th>\n",
              "      <th>text_0</th>\n",
              "      <th>text_1</th>\n",
              "      <th>falls_count</th>\n",
              "    </tr>\n",
              "  </thead>\n",
              "  <tbody>\n",
              "    <tr>\n",
              "      <th>0</th>\n",
              "      <td>25</td>\n",
              "      <td>25</td>\n",
              "      <td>4.680000</td>\n",
              "      <td>6</td>\n",
              "      <td>0</td>\n",
              "      <td>4.000000</td>\n",
              "      <td>57</td>\n",
              "      <td>77</td>\n",
              "      <td>11</td>\n",
              "      <td>2</td>\n",
              "      <td>1</td>\n",
              "      <td>0.000000</td>\n",
              "      <td>0.500000</td>\n",
              "      <td>0</td>\n",
              "      <td>0.547555</td>\n",
              "      <td>0.452445</td>\n",
              "      <td>0.0</td>\n",
              "    </tr>\n",
              "    <tr>\n",
              "      <th>1</th>\n",
              "      <td>12</td>\n",
              "      <td>9</td>\n",
              "      <td>2.750000</td>\n",
              "      <td>9</td>\n",
              "      <td>1</td>\n",
              "      <td>4.444444</td>\n",
              "      <td>18</td>\n",
              "      <td>73</td>\n",
              "      <td>201</td>\n",
              "      <td>30</td>\n",
              "      <td>5</td>\n",
              "      <td>0.033333</td>\n",
              "      <td>0.133333</td>\n",
              "      <td>0</td>\n",
              "      <td>0.441338</td>\n",
              "      <td>0.558662</td>\n",
              "      <td>0.0</td>\n",
              "    </tr>\n",
              "    <tr>\n",
              "      <th>2</th>\n",
              "      <td>8</td>\n",
              "      <td>8</td>\n",
              "      <td>5.000000</td>\n",
              "      <td>8</td>\n",
              "      <td>0</td>\n",
              "      <td>4.875000</td>\n",
              "      <td>28</td>\n",
              "      <td>126</td>\n",
              "      <td>86</td>\n",
              "      <td>10</td>\n",
              "      <td>3</td>\n",
              "      <td>0.000000</td>\n",
              "      <td>0.200000</td>\n",
              "      <td>0</td>\n",
              "      <td>0.448017</td>\n",
              "      <td>0.551983</td>\n",
              "      <td>0.0</td>\n",
              "    </tr>\n",
              "    <tr>\n",
              "      <th>3</th>\n",
              "      <td>8</td>\n",
              "      <td>6</td>\n",
              "      <td>5.000000</td>\n",
              "      <td>9</td>\n",
              "      <td>5</td>\n",
              "      <td>4.777778</td>\n",
              "      <td>9</td>\n",
              "      <td>15</td>\n",
              "      <td>19</td>\n",
              "      <td>4</td>\n",
              "      <td>1</td>\n",
              "      <td>0.000000</td>\n",
              "      <td>0.250000</td>\n",
              "      <td>0</td>\n",
              "      <td>0.460134</td>\n",
              "      <td>0.539866</td>\n",
              "      <td>1.0</td>\n",
              "    </tr>\n",
              "    <tr>\n",
              "      <th>4</th>\n",
              "      <td>21</td>\n",
              "      <td>19</td>\n",
              "      <td>5.000000</td>\n",
              "      <td>78</td>\n",
              "      <td>12</td>\n",
              "      <td>4.551282</td>\n",
              "      <td>68</td>\n",
              "      <td>103</td>\n",
              "      <td>26</td>\n",
              "      <td>3</td>\n",
              "      <td>2</td>\n",
              "      <td>0.000000</td>\n",
              "      <td>0.333333</td>\n",
              "      <td>0</td>\n",
              "      <td>0.488632</td>\n",
              "      <td>0.511368</td>\n",
              "      <td>0.0</td>\n",
              "    </tr>\n",
              "    <tr>\n",
              "      <th>...</th>\n",
              "      <td>...</td>\n",
              "      <td>...</td>\n",
              "      <td>...</td>\n",
              "      <td>...</td>\n",
              "      <td>...</td>\n",
              "      <td>...</td>\n",
              "      <td>...</td>\n",
              "      <td>...</td>\n",
              "      <td>...</td>\n",
              "      <td>...</td>\n",
              "      <td>...</td>\n",
              "      <td>...</td>\n",
              "      <td>...</td>\n",
              "      <td>...</td>\n",
              "      <td>...</td>\n",
              "      <td>...</td>\n",
              "      <td>...</td>\n",
              "    </tr>\n",
              "    <tr>\n",
              "      <th>1052</th>\n",
              "      <td>118</td>\n",
              "      <td>98</td>\n",
              "      <td>4.906780</td>\n",
              "      <td>187</td>\n",
              "      <td>38</td>\n",
              "      <td>4.454545</td>\n",
              "      <td>220</td>\n",
              "      <td>278</td>\n",
              "      <td>44</td>\n",
              "      <td>5</td>\n",
              "      <td>3</td>\n",
              "      <td>0.000000</td>\n",
              "      <td>0.400000</td>\n",
              "      <td>0</td>\n",
              "      <td>0.615982</td>\n",
              "      <td>0.384018</td>\n",
              "      <td>0.0</td>\n",
              "    </tr>\n",
              "    <tr>\n",
              "      <th>1053</th>\n",
              "      <td>15</td>\n",
              "      <td>15</td>\n",
              "      <td>4.866667</td>\n",
              "      <td>2772</td>\n",
              "      <td>418</td>\n",
              "      <td>4.467532</td>\n",
              "      <td>26</td>\n",
              "      <td>28</td>\n",
              "      <td>64</td>\n",
              "      <td>10</td>\n",
              "      <td>2</td>\n",
              "      <td>0.000000</td>\n",
              "      <td>0.200000</td>\n",
              "      <td>0</td>\n",
              "      <td>0.488482</td>\n",
              "      <td>0.511518</td>\n",
              "      <td>1.0</td>\n",
              "    </tr>\n",
              "    <tr>\n",
              "      <th>1054</th>\n",
              "      <td>5</td>\n",
              "      <td>3</td>\n",
              "      <td>5.000000</td>\n",
              "      <td>1</td>\n",
              "      <td>0</td>\n",
              "      <td>5.000000</td>\n",
              "      <td>8</td>\n",
              "      <td>116</td>\n",
              "      <td>47</td>\n",
              "      <td>8</td>\n",
              "      <td>3</td>\n",
              "      <td>0.000000</td>\n",
              "      <td>0.250000</td>\n",
              "      <td>0</td>\n",
              "      <td>0.527245</td>\n",
              "      <td>0.472755</td>\n",
              "      <td>0.0</td>\n",
              "    </tr>\n",
              "    <tr>\n",
              "      <th>1055</th>\n",
              "      <td>9</td>\n",
              "      <td>9</td>\n",
              "      <td>5.000000</td>\n",
              "      <td>2041</td>\n",
              "      <td>455</td>\n",
              "      <td>4.817246</td>\n",
              "      <td>28</td>\n",
              "      <td>34</td>\n",
              "      <td>135</td>\n",
              "      <td>18</td>\n",
              "      <td>3</td>\n",
              "      <td>0.000000</td>\n",
              "      <td>0.166667</td>\n",
              "      <td>0</td>\n",
              "      <td>0.490871</td>\n",
              "      <td>0.509129</td>\n",
              "      <td>2.0</td>\n",
              "    </tr>\n",
              "    <tr>\n",
              "      <th>1056</th>\n",
              "      <td>9</td>\n",
              "      <td>9</td>\n",
              "      <td>4.777778</td>\n",
              "      <td>48</td>\n",
              "      <td>16</td>\n",
              "      <td>4.895833</td>\n",
              "      <td>53</td>\n",
              "      <td>109</td>\n",
              "      <td>200</td>\n",
              "      <td>35</td>\n",
              "      <td>3</td>\n",
              "      <td>0.000000</td>\n",
              "      <td>0.057143</td>\n",
              "      <td>0</td>\n",
              "      <td>0.412182</td>\n",
              "      <td>0.587818</td>\n",
              "      <td>0.0</td>\n",
              "    </tr>\n",
              "  </tbody>\n",
              "</table>\n",
              "<p>1057 rows × 17 columns</p>\n",
              "</div>"
            ],
            "text/plain": [
              "       f1  f2        f3    f4   f5        f6   f7   f8  text_len  words_count  \\\n",
              "0      25  25  4.680000     6    0  4.000000   57   77        11            2   \n",
              "1      12   9  2.750000     9    1  4.444444   18   73       201           30   \n",
              "2       8   8  5.000000     8    0  4.875000   28  126        86           10   \n",
              "3       8   6  5.000000     9    5  4.777778    9   15        19            4   \n",
              "4      21  19  5.000000    78   12  4.551282   68  103        26            3   \n",
              "...   ...  ..       ...   ...  ...       ...  ...  ...       ...          ...   \n",
              "1052  118  98  4.906780   187   38  4.454545  220  278        44            5   \n",
              "1053   15  15  4.866667  2772  418  4.467532   26   28        64           10   \n",
              "1054    5   3  5.000000     1    0  5.000000    8  116        47            8   \n",
              "1055    9   9  5.000000  2041  455  4.817246   28   34       135           18   \n",
              "1056    9   9  4.777778    48   16  4.895833   53  109       200           35   \n",
              "\n",
              "      sentence_count  number_percentage  caps_percentage  is_empty    text_0  \\\n",
              "0                  1           0.000000         0.500000         0  0.547555   \n",
              "1                  5           0.033333         0.133333         0  0.441338   \n",
              "2                  3           0.000000         0.200000         0  0.448017   \n",
              "3                  1           0.000000         0.250000         0  0.460134   \n",
              "4                  2           0.000000         0.333333         0  0.488632   \n",
              "...              ...                ...              ...       ...       ...   \n",
              "1052               3           0.000000         0.400000         0  0.615982   \n",
              "1053               2           0.000000         0.200000         0  0.488482   \n",
              "1054               3           0.000000         0.250000         0  0.527245   \n",
              "1055               3           0.000000         0.166667         0  0.490871   \n",
              "1056               3           0.000000         0.057143         0  0.412182   \n",
              "\n",
              "        text_1  falls_count  \n",
              "0     0.452445          0.0  \n",
              "1     0.558662          0.0  \n",
              "2     0.551983          0.0  \n",
              "3     0.539866          1.0  \n",
              "4     0.511368          0.0  \n",
              "...        ...          ...  \n",
              "1052  0.384018          0.0  \n",
              "1053  0.511518          1.0  \n",
              "1054  0.472755          0.0  \n",
              "1055  0.509129          2.0  \n",
              "1056  0.587818          0.0  \n",
              "\n",
              "[1057 rows x 17 columns]"
            ]
          },
          "execution_count": 108,
          "metadata": {},
          "output_type": "execute_result"
        }
      ],
      "source": [
        "X_train"
      ]
    },
    {
      "cell_type": "code",
      "execution_count": 109,
      "metadata": {
        "id": "bHUcVb7tdP8R",
        "outputId": "9554d407-36a9-4743-ba0e-b970557164f0"
      },
      "outputs": [
        {
          "data": {
            "text/plain": [
              "(528, 529)"
            ]
          },
          "execution_count": 109,
          "metadata": {},
          "output_type": "execute_result"
        }
      ],
      "source": [
        "sum(Y_train==1), sum(Y_train==0)"
      ]
    },
    {
      "cell_type": "code",
      "execution_count": 106,
      "metadata": {
        "id": "OXBt-RHcdP8S",
        "outputId": "902e93ff-71af-4cca-8479-123b982bbb0e"
      },
      "outputs": [
        {
          "data": {
            "text/plain": [
              "265"
            ]
          },
          "execution_count": 106,
          "metadata": {},
          "output_type": "execute_result"
        }
      ],
      "source": [
        "data_valid = pd.read_csv('./cutted_data/valid_data.csv')\n",
        "Y_valid = data_valid['label']\n",
        "X_valid = data_valid.drop(['label', 'id1', 'id2', 'id3', 'text', 'id1_0', 'id1_1', 'id2_0', 'id2_1'], axis=1)\n",
        "len(X_valid)"
      ]
    },
    {
      "cell_type": "code",
      "execution_count": 110,
      "metadata": {},
      "outputs": [
        {
          "data": {
            "text/html": [
              "<div>\n",
              "<style scoped>\n",
              "    .dataframe tbody tr th:only-of-type {\n",
              "        vertical-align: middle;\n",
              "    }\n",
              "\n",
              "    .dataframe tbody tr th {\n",
              "        vertical-align: top;\n",
              "    }\n",
              "\n",
              "    .dataframe thead th {\n",
              "        text-align: right;\n",
              "    }\n",
              "</style>\n",
              "<table border=\"1\" class=\"dataframe\">\n",
              "  <thead>\n",
              "    <tr style=\"text-align: right;\">\n",
              "      <th></th>\n",
              "      <th>f1</th>\n",
              "      <th>f2</th>\n",
              "      <th>f3</th>\n",
              "      <th>f4</th>\n",
              "      <th>f5</th>\n",
              "      <th>f6</th>\n",
              "      <th>f7</th>\n",
              "      <th>f8</th>\n",
              "      <th>text_len</th>\n",
              "      <th>words_count</th>\n",
              "      <th>sentence_count</th>\n",
              "      <th>number_percentage</th>\n",
              "      <th>caps_percentage</th>\n",
              "      <th>is_empty</th>\n",
              "      <th>text_0</th>\n",
              "      <th>text_1</th>\n",
              "      <th>falls_count</th>\n",
              "    </tr>\n",
              "  </thead>\n",
              "  <tbody>\n",
              "    <tr>\n",
              "      <th>0</th>\n",
              "      <td>26</td>\n",
              "      <td>25</td>\n",
              "      <td>4.692308</td>\n",
              "      <td>446</td>\n",
              "      <td>97</td>\n",
              "      <td>4.809417</td>\n",
              "      <td>53</td>\n",
              "      <td>67</td>\n",
              "      <td>24</td>\n",
              "      <td>5</td>\n",
              "      <td>2</td>\n",
              "      <td>0.000000</td>\n",
              "      <td>0.200000</td>\n",
              "      <td>0</td>\n",
              "      <td>0.577842</td>\n",
              "      <td>0.422158</td>\n",
              "      <td>0.0</td>\n",
              "    </tr>\n",
              "    <tr>\n",
              "      <th>1</th>\n",
              "      <td>1</td>\n",
              "      <td>1</td>\n",
              "      <td>1.000000</td>\n",
              "      <td>230</td>\n",
              "      <td>67</td>\n",
              "      <td>4.495652</td>\n",
              "      <td>76</td>\n",
              "      <td>127</td>\n",
              "      <td>154</td>\n",
              "      <td>26</td>\n",
              "      <td>5</td>\n",
              "      <td>0.000000</td>\n",
              "      <td>0.153846</td>\n",
              "      <td>0</td>\n",
              "      <td>0.447818</td>\n",
              "      <td>0.552182</td>\n",
              "      <td>0.0</td>\n",
              "    </tr>\n",
              "    <tr>\n",
              "      <th>2</th>\n",
              "      <td>1</td>\n",
              "      <td>1</td>\n",
              "      <td>1.000000</td>\n",
              "      <td>2789</td>\n",
              "      <td>340</td>\n",
              "      <td>4.794550</td>\n",
              "      <td>0</td>\n",
              "      <td>2</td>\n",
              "      <td>170</td>\n",
              "      <td>24</td>\n",
              "      <td>5</td>\n",
              "      <td>0.041667</td>\n",
              "      <td>0.208333</td>\n",
              "      <td>0</td>\n",
              "      <td>0.466977</td>\n",
              "      <td>0.533023</td>\n",
              "      <td>0.0</td>\n",
              "    </tr>\n",
              "    <tr>\n",
              "      <th>3</th>\n",
              "      <td>6</td>\n",
              "      <td>6</td>\n",
              "      <td>5.000000</td>\n",
              "      <td>1568</td>\n",
              "      <td>225</td>\n",
              "      <td>5.000000</td>\n",
              "      <td>9</td>\n",
              "      <td>11</td>\n",
              "      <td>258</td>\n",
              "      <td>40</td>\n",
              "      <td>7</td>\n",
              "      <td>0.025000</td>\n",
              "      <td>0.175000</td>\n",
              "      <td>0</td>\n",
              "      <td>0.418298</td>\n",
              "      <td>0.581702</td>\n",
              "      <td>2.0</td>\n",
              "    </tr>\n",
              "    <tr>\n",
              "      <th>4</th>\n",
              "      <td>87</td>\n",
              "      <td>83</td>\n",
              "      <td>4.850575</td>\n",
              "      <td>53</td>\n",
              "      <td>7</td>\n",
              "      <td>4.849057</td>\n",
              "      <td>122</td>\n",
              "      <td>162</td>\n",
              "      <td>221</td>\n",
              "      <td>34</td>\n",
              "      <td>3</td>\n",
              "      <td>0.058824</td>\n",
              "      <td>0.088235</td>\n",
              "      <td>0</td>\n",
              "      <td>0.448373</td>\n",
              "      <td>0.551627</td>\n",
              "      <td>0.0</td>\n",
              "    </tr>\n",
              "  </tbody>\n",
              "</table>\n",
              "</div>"
            ],
            "text/plain": [
              "   f1  f2        f3    f4   f5        f6   f7   f8  text_len  words_count  \\\n",
              "0  26  25  4.692308   446   97  4.809417   53   67        24            5   \n",
              "1   1   1  1.000000   230   67  4.495652   76  127       154           26   \n",
              "2   1   1  1.000000  2789  340  4.794550    0    2       170           24   \n",
              "3   6   6  5.000000  1568  225  5.000000    9   11       258           40   \n",
              "4  87  83  4.850575    53    7  4.849057  122  162       221           34   \n",
              "\n",
              "   sentence_count  number_percentage  caps_percentage  is_empty    text_0  \\\n",
              "0               2           0.000000         0.200000         0  0.577842   \n",
              "1               5           0.000000         0.153846         0  0.447818   \n",
              "2               5           0.041667         0.208333         0  0.466977   \n",
              "3               7           0.025000         0.175000         0  0.418298   \n",
              "4               3           0.058824         0.088235         0  0.448373   \n",
              "\n",
              "     text_1  falls_count  \n",
              "0  0.422158          0.0  \n",
              "1  0.552182          0.0  \n",
              "2  0.533023          0.0  \n",
              "3  0.581702          2.0  \n",
              "4  0.551627          0.0  "
            ]
          },
          "execution_count": 110,
          "metadata": {},
          "output_type": "execute_result"
        }
      ],
      "source": [
        "X_valid.head()"
      ]
    },
    {
      "cell_type": "code",
      "execution_count": 111,
      "metadata": {
        "id": "H_OkyBhudP8T",
        "outputId": "598048f8-58a3-4eff-ab26-9fdd5566d1bf"
      },
      "outputs": [
        {
          "data": {
            "text/plain": [
              "(132, 133)"
            ]
          },
          "execution_count": 111,
          "metadata": {},
          "output_type": "execute_result"
        }
      ],
      "source": [
        "sum(Y_valid==1), sum(Y_valid==0)"
      ]
    },
    {
      "cell_type": "code",
      "execution_count": 170,
      "metadata": {
        "id": "hSH9OXjNdP8U"
      },
      "outputs": [],
      "source": [
        "def objective(trial):\n",
        "    model = CatBoostClassifier(\n",
        "        iterations=trial.suggest_int(\"iterations\", 50, 120),\n",
        "        learning_rate=trial.suggest_float(\"learning_rate\", 1e-3, 1e-1),\n",
        "        depth=trial.suggest_int(\"depth\", 3, 15),\n",
        "        l2_leaf_reg=trial.suggest_float(\"l2_leaf_reg\", 1e-8, 100.0, log=True),\n",
        "        random_strength=trial.suggest_float(\"random_strength\", 1e-8, 10.0),\n",
        "        eval_metric='BalancedAccuracy',\n",
        "        verbose=False,\n",
        "        random_state = 42,\n",
        "        thread_count=-1\n",
        "    )\n",
        "    model.fit(X_train, Y_train,\n",
        "              verbose=False)\n",
        "    return model.score(X_valid, Y_valid)"
      ]
    },
    {
      "cell_type": "code",
      "execution_count": 171,
      "metadata": {
        "id": "vPrzRIqAdP8V",
        "outputId": "3a608341-8532-4e9d-9e04-e424ec2532ba"
      },
      "outputs": [
        {
          "name": "stderr",
          "output_type": "stream",
          "text": [
            "[I 2023-06-04 13:02:54,149] A new study created in memory with name: classifier_CatBoost\n",
            "[I 2023-06-04 13:02:54,997] Trial 0 finished with value: 0.7094339622641509 and parameters: {'iterations': 57, 'learning_rate': 0.026663608040828367, 'depth': 3, 'l2_leaf_reg': 9.158920511855312e-07, 'random_strength': 6.942728759760606}. Best is trial 0 with value: 0.7094339622641509.\n",
            "[I 2023-06-04 13:02:56,149] Trial 1 finished with value: 0.690566037735849 and parameters: {'iterations': 72, 'learning_rate': 0.015211951652858397, 'depth': 7, 'l2_leaf_reg': 13.13884369500046, 'random_strength': 0.8187631885709389}. Best is trial 0 with value: 0.7094339622641509.\n",
            "[I 2023-06-04 13:02:57,134] Trial 2 finished with value: 0.7132075471698113 and parameters: {'iterations': 87, 'learning_rate': 0.06358736109967142, 'depth': 6, 'l2_leaf_reg': 0.0528386043919132, 'random_strength': 6.847713712583591}. Best is trial 2 with value: 0.7132075471698113.\n",
            "[I 2023-06-04 13:03:55,122] Trial 3 finished with value: 0.7018867924528301 and parameters: {'iterations': 113, 'learning_rate': 0.08305021448679271, 'depth': 13, 'l2_leaf_reg': 6.191676764428616e-08, 'random_strength': 6.045934440557167}. Best is trial 2 with value: 0.7132075471698113.\n",
            "[I 2023-06-04 13:04:19,699] Trial 4 finished with value: 0.720754716981132 and parameters: {'iterations': 94, 'learning_rate': 0.0915838440891244, 'depth': 12, 'l2_leaf_reg': 0.009231033951176727, 'random_strength': 4.578082090170719}. Best is trial 4 with value: 0.720754716981132.\n",
            "[I 2023-06-04 13:04:27,407] Trial 5 finished with value: 0.720754716981132 and parameters: {'iterations': 118, 'learning_rate': 0.02317791666874345, 'depth': 10, 'l2_leaf_reg': 6.439082718843448, 'random_strength': 9.584515074408616}. Best is trial 4 with value: 0.720754716981132.\n",
            "[I 2023-06-04 13:04:28,025] Trial 6 finished with value: 0.7132075471698113 and parameters: {'iterations': 59, 'learning_rate': 0.0337230601744127, 'depth': 5, 'l2_leaf_reg': 0.776515597202804, 'random_strength': 1.5062074075958287}. Best is trial 4 with value: 0.720754716981132.\n",
            "[I 2023-06-04 13:04:28,831] Trial 7 finished with value: 0.7132075471698113 and parameters: {'iterations': 82, 'learning_rate': 0.018938015584789327, 'depth': 5, 'l2_leaf_reg': 1.3956473895809704e-05, 'random_strength': 1.844681865154341}. Best is trial 4 with value: 0.720754716981132.\n",
            "[I 2023-06-04 13:06:05,510] Trial 8 finished with value: 0.720754716981132 and parameters: {'iterations': 107, 'learning_rate': 0.07789286757807355, 'depth': 14, 'l2_leaf_reg': 7.688643960035606e-05, 'random_strength': 4.353597296768819}. Best is trial 4 with value: 0.720754716981132.\n",
            "[I 2023-06-04 13:06:06,064] Trial 9 finished with value: 0.7018867924528301 and parameters: {'iterations': 60, 'learning_rate': 0.04702685593928197, 'depth': 5, 'l2_leaf_reg': 6.099515946045884e-08, 'random_strength': 3.607534925150238}. Best is trial 4 with value: 0.720754716981132.\n",
            "[I 2023-06-04 13:06:13,063] Trial 10 finished with value: 0.7018867924528301 and parameters: {'iterations': 98, 'learning_rate': 0.09877724902327664, 'depth': 10, 'l2_leaf_reg': 0.005319139836153598, 'random_strength': 0.021168212503219763}. Best is trial 4 with value: 0.720754716981132.\n",
            "[I 2023-06-04 13:06:28,376] Trial 11 finished with value: 0.6867924528301886 and parameters: {'iterations': 119, 'learning_rate': 0.0021850962619332295, 'depth': 11, 'l2_leaf_reg': 37.23083243121032, 'random_strength': 9.870109945354104}. Best is trial 4 with value: 0.720754716981132.\n",
            "[I 2023-06-04 13:06:54,484] Trial 12 finished with value: 0.7396226415094339 and parameters: {'iterations': 101, 'learning_rate': 0.04826608737058195, 'depth': 12, 'l2_leaf_reg': 0.07076660297596289, 'random_strength': 9.274286216076613}. Best is trial 12 with value: 0.7396226415094339.\n",
            "[I 2023-06-04 13:07:21,506] Trial 13 finished with value: 0.7396226415094339 and parameters: {'iterations': 98, 'learning_rate': 0.05198961977431984, 'depth': 12, 'l2_leaf_reg': 0.004655763574077695, 'random_strength': 8.071019324629338}. Best is trial 12 with value: 0.7396226415094339.\n",
            "[I 2023-06-04 13:10:06,776] Trial 14 finished with value: 0.7320754716981132 and parameters: {'iterations': 103, 'learning_rate': 0.052599123310941985, 'depth': 15, 'l2_leaf_reg': 0.1346066453334167, 'random_strength': 8.572059926724886}. Best is trial 12 with value: 0.7396226415094339.\n"
          ]
        }
      ],
      "source": [
        "study = optuna.create_study(direction='maximize', study_name='classifier_CatBoost')\n",
        "study.optimize(objective, n_trials=15)"
      ]
    },
    {
      "cell_type": "code",
      "execution_count": 173,
      "metadata": {
        "id": "gPHaEZxNdP8W",
        "outputId": "24df5814-575f-42dc-9115-6d9cb3fbd670"
      },
      "outputs": [
        {
          "data": {
            "text/plain": [
              "({'iterations': 101,\n",
              "  'learning_rate': 0.04826608737058195,\n",
              "  'depth': 12,\n",
              "  'l2_leaf_reg': 0.07076660297596289,\n",
              "  'random_strength': 9.274286216076613},\n",
              " 0.7396226415094339)"
            ]
          },
          "execution_count": 173,
          "metadata": {},
          "output_type": "execute_result"
        }
      ],
      "source": [
        "study.best_params, study.best_value"
      ]
    },
    {
      "cell_type": "code",
      "execution_count": 112,
      "metadata": {
        "id": "kouo0z76dP8W"
      },
      "outputs": [],
      "source": [
        "params = {'iterations': 101,\n",
        "  'learning_rate': 0.04826608737058195,\n",
        "  'depth': 12,\n",
        "  'l2_leaf_reg': 0.07076660297596289,\n",
        "  'random_strength': 9.274286216076613}"
      ]
    },
    {
      "cell_type": "code",
      "execution_count": 115,
      "metadata": {
        "id": "zg6YZkqGdP8X"
      },
      "outputs": [],
      "source": [
        "model = CatBoostClassifier(**params,\n",
        "                           random_state = 42, \n",
        "                           thread_count=-1,\n",
        "                           eval_metric = 'F1')"
      ]
    },
    {
      "cell_type": "code",
      "execution_count": 116,
      "metadata": {
        "id": "wNtHJVZIdP8i",
        "outputId": "615db9a9-083e-4070-f562-32bc0f82f208"
      },
      "outputs": [
        {
          "name": "stdout",
          "output_type": "stream",
          "text": [
            "0:\tlearn: 0.7383367\ttest: 0.6723404\tbest: 0.6723404 (0)\ttotal: 365ms\tremaining: 36.5s\n",
            "1:\tlearn: 0.7651663\ttest: 0.6850394\tbest: 0.6850394 (1)\ttotal: 744ms\tremaining: 36.8s\n",
            "2:\tlearn: 0.7490119\ttest: 0.7063492\tbest: 0.7063492 (2)\ttotal: 1.24s\tremaining: 40.4s\n",
            "3:\tlearn: 0.7713445\ttest: 0.7120000\tbest: 0.7120000 (3)\ttotal: 1.79s\tremaining: 43.3s\n",
            "4:\tlearn: 0.7686350\ttest: 0.7076923\tbest: 0.7120000 (3)\ttotal: 2.16s\tremaining: 41.5s\n",
            "5:\tlearn: 0.7848101\ttest: 0.7081712\tbest: 0.7120000 (3)\ttotal: 2.48s\tremaining: 39.3s\n",
            "6:\tlearn: 0.7856450\ttest: 0.7131783\tbest: 0.7131783 (6)\ttotal: 2.83s\tremaining: 38s\n",
            "7:\tlearn: 0.7886497\ttest: 0.7081712\tbest: 0.7131783 (6)\ttotal: 3.15s\tremaining: 36.6s\n",
            "8:\tlearn: 0.7933399\ttest: 0.7137255\tbest: 0.7137255 (8)\ttotal: 3.48s\tremaining: 35.6s\n",
            "9:\tlearn: 0.7878788\ttest: 0.7058824\tbest: 0.7137255 (8)\ttotal: 3.82s\tremaining: 34.7s\n",
            "10:\tlearn: 0.7909715\ttest: 0.7007874\tbest: 0.7137255 (8)\ttotal: 4.16s\tremaining: 34s\n",
            "11:\tlearn: 0.7909270\ttest: 0.7007874\tbest: 0.7137255 (8)\ttotal: 4.31s\tremaining: 32s\n",
            "12:\tlearn: 0.7908367\ttest: 0.7086614\tbest: 0.7137255 (8)\ttotal: 4.63s\tremaining: 31.4s\n",
            "13:\tlearn: 0.8008008\ttest: 0.7114625\tbest: 0.7137255 (8)\ttotal: 4.98s\tremaining: 31s\n",
            "14:\tlearn: 0.8202582\ttest: 0.7200000\tbest: 0.7200000 (14)\ttotal: 5.35s\tremaining: 30.7s\n",
            "15:\tlearn: 0.8159204\ttest: 0.7200000\tbest: 0.7200000 (14)\ttotal: 5.69s\tremaining: 30.2s\n",
            "16:\tlearn: 0.8206145\ttest: 0.7200000\tbest: 0.7200000 (14)\ttotal: 6.01s\tremaining: 29.7s\n",
            "17:\tlearn: 0.8151093\ttest: 0.7228916\tbest: 0.7228916 (17)\ttotal: 6.35s\tremaining: 29.3s\n",
            "18:\tlearn: 0.8216749\ttest: 0.7148594\tbest: 0.7228916 (17)\ttotal: 6.7s\tremaining: 28.9s\n",
            "19:\tlearn: 0.8213228\ttest: 0.7148594\tbest: 0.7228916 (17)\ttotal: 7.02s\tremaining: 28.4s\n",
            "20:\tlearn: 0.8252715\ttest: 0.7120000\tbest: 0.7228916 (17)\ttotal: 7.32s\tremaining: 27.9s\n",
            "21:\tlearn: 0.8222443\ttest: 0.7120000\tbest: 0.7228916 (17)\ttotal: 7.67s\tremaining: 27.5s\n",
            "22:\tlearn: 0.8282026\ttest: 0.7096774\tbest: 0.7228916 (17)\ttotal: 8.01s\tremaining: 27.2s\n",
            "23:\tlearn: 0.8344896\ttest: 0.6967213\tbest: 0.7228916 (17)\ttotal: 8.39s\tremaining: 26.9s\n",
            "24:\tlearn: 0.8344896\ttest: 0.6967213\tbest: 0.7228916 (17)\ttotal: 8.4s\tremaining: 25.5s\n",
            "25:\tlearn: 0.8349901\ttest: 0.6967213\tbest: 0.7228916 (17)\ttotal: 8.76s\tremaining: 25.3s\n",
            "26:\tlearn: 0.8392857\ttest: 0.6991870\tbest: 0.7228916 (17)\ttotal: 9.15s\tremaining: 25.1s\n",
            "27:\tlearn: 0.8427300\ttest: 0.7102041\tbest: 0.7228916 (17)\ttotal: 9.5s\tremaining: 24.8s\n",
            "28:\tlearn: 0.8444004\ttest: 0.7049180\tbest: 0.7228916 (17)\ttotal: 9.85s\tremaining: 24.5s\n",
            "29:\tlearn: 0.8438735\ttest: 0.7073171\tbest: 0.7228916 (17)\ttotal: 10.2s\tremaining: 24.1s\n",
            "30:\tlearn: 0.8492611\ttest: 0.7096774\tbest: 0.7228916 (17)\ttotal: 10.5s\tremaining: 23.8s\n",
            "31:\tlearn: 0.8551859\ttest: 0.7148594\tbest: 0.7228916 (17)\ttotal: 10.9s\tremaining: 23.4s\n",
            "32:\tlearn: 0.8590998\ttest: 0.7044534\tbest: 0.7228916 (17)\ttotal: 11.2s\tremaining: 23s\n",
            "33:\tlearn: 0.8646543\ttest: 0.7044534\tbest: 0.7228916 (17)\ttotal: 11.6s\tremaining: 22.8s\n",
            "34:\tlearn: 0.8688845\ttest: 0.7102041\tbest: 0.7228916 (17)\ttotal: 11.9s\tremaining: 22.5s\n",
            "35:\tlearn: 0.8675172\ttest: 0.6967213\tbest: 0.7228916 (17)\ttotal: 12.3s\tremaining: 22.1s\n",
            "36:\tlearn: 0.8725490\ttest: 0.6938776\tbest: 0.7228916 (17)\ttotal: 12.7s\tremaining: 21.9s\n",
            "37:\tlearn: 0.8722986\ttest: 0.6913580\tbest: 0.7228916 (17)\ttotal: 13s\tremaining: 21.6s\n",
            "38:\tlearn: 0.8736533\ttest: 0.6885246\tbest: 0.7228916 (17)\ttotal: 13.4s\tremaining: 21.3s\n",
            "39:\tlearn: 0.8791423\ttest: 0.6967213\tbest: 0.7228916 (17)\ttotal: 13.8s\tremaining: 21s\n",
            "40:\tlearn: 0.8802337\ttest: 0.6967213\tbest: 0.7228916 (17)\ttotal: 14.1s\tremaining: 20.6s\n",
            "41:\tlearn: 0.8802337\ttest: 0.6938776\tbest: 0.7228916 (17)\ttotal: 14.4s\tremaining: 20.3s\n",
            "42:\tlearn: 0.8821811\ttest: 0.7073171\tbest: 0.7228916 (17)\ttotal: 14.8s\tremaining: 19.9s\n",
            "43:\tlearn: 0.8834951\ttest: 0.7125506\tbest: 0.7228916 (17)\ttotal: 15.1s\tremaining: 19.5s\n",
            "44:\tlearn: 0.8862974\ttest: 0.7073171\tbest: 0.7228916 (17)\ttotal: 15.4s\tremaining: 19.2s\n",
            "45:\tlearn: 0.8821811\ttest: 0.7102041\tbest: 0.7228916 (17)\ttotal: 15.7s\tremaining: 18.8s\n",
            "46:\tlearn: 0.8860759\ttest: 0.7102041\tbest: 0.7228916 (17)\ttotal: 16.1s\tremaining: 18.4s\n",
            "47:\tlearn: 0.8862974\ttest: 0.7073171\tbest: 0.7228916 (17)\ttotal: 16.4s\tremaining: 18.1s\n",
            "48:\tlearn: 0.8871595\ttest: 0.7102041\tbest: 0.7228916 (17)\ttotal: 16.7s\tremaining: 17.7s\n",
            "49:\tlearn: 0.8901846\ttest: 0.7073171\tbest: 0.7228916 (17)\ttotal: 17.1s\tremaining: 17.4s\n",
            "50:\tlearn: 0.8932039\ttest: 0.7125506\tbest: 0.7228916 (17)\ttotal: 17.4s\tremaining: 17.1s\n",
            "51:\tlearn: 0.8940719\ttest: 0.7073171\tbest: 0.7228916 (17)\ttotal: 17.7s\tremaining: 16.7s\n",
            "52:\tlearn: 0.8929961\ttest: 0.7125506\tbest: 0.7228916 (17)\ttotal: 18.1s\tremaining: 16.4s\n",
            "53:\tlearn: 0.8940719\ttest: 0.7073171\tbest: 0.7228916 (17)\ttotal: 18.1s\tremaining: 15.7s\n",
            "54:\tlearn: 0.8940719\ttest: 0.7073171\tbest: 0.7228916 (17)\ttotal: 18.4s\tremaining: 15.4s\n",
            "55:\tlearn: 0.8929961\ttest: 0.7044534\tbest: 0.7228916 (17)\ttotal: 18.7s\tremaining: 15s\n",
            "56:\tlearn: 0.8949416\ttest: 0.7020408\tbest: 0.7228916 (17)\ttotal: 19s\tremaining: 14.6s\n",
            "57:\tlearn: 0.8958130\ttest: 0.7044534\tbest: 0.7228916 (17)\ttotal: 19.3s\tremaining: 14.3s\n",
            "58:\tlearn: 0.8958130\ttest: 0.7044534\tbest: 0.7228916 (17)\ttotal: 19.6s\tremaining: 13.9s\n",
            "59:\tlearn: 0.8986355\ttest: 0.7073171\tbest: 0.7228916 (17)\ttotal: 19.9s\tremaining: 13.6s\n",
            "60:\tlearn: 0.8997079\ttest: 0.7073171\tbest: 0.7228916 (17)\ttotal: 20.2s\tremaining: 13.3s\n",
            "61:\tlearn: 0.8999028\ttest: 0.7102041\tbest: 0.7228916 (17)\ttotal: 20.3s\tremaining: 12.7s\n",
            "62:\tlearn: 0.9039767\ttest: 0.7073171\tbest: 0.7228916 (17)\ttotal: 20.6s\tremaining: 12.4s\n",
            "63:\tlearn: 0.9027237\ttest: 0.7044534\tbest: 0.7228916 (17)\ttotal: 20.9s\tremaining: 12.1s\n",
            "64:\tlearn: 0.9027237\ttest: 0.7016129\tbest: 0.7228916 (17)\ttotal: 20.9s\tremaining: 11.6s\n",
            "65:\tlearn: 0.9029126\ttest: 0.7044534\tbest: 0.7228916 (17)\ttotal: 21s\tremaining: 11.1s\n",
            "66:\tlearn: 0.9029126\ttest: 0.6991870\tbest: 0.7228916 (17)\ttotal: 21.3s\tremaining: 10.8s\n",
            "67:\tlearn: 0.9027237\ttest: 0.7044534\tbest: 0.7228916 (17)\ttotal: 21.6s\tremaining: 10.5s\n",
            "68:\tlearn: 0.9067961\ttest: 0.7148594\tbest: 0.7228916 (17)\ttotal: 21.9s\tremaining: 10.2s\n",
            "69:\tlearn: 0.9066148\ttest: 0.7148594\tbest: 0.7228916 (17)\ttotal: 22.2s\tremaining: 9.84s\n",
            "70:\tlearn: 0.9096210\ttest: 0.7148594\tbest: 0.7228916 (17)\ttotal: 22.5s\tremaining: 9.52s\n",
            "71:\tlearn: 0.9087379\ttest: 0.7148594\tbest: 0.7228916 (17)\ttotal: 22.9s\tremaining: 9.2s\n",
            "72:\tlearn: 0.9115646\ttest: 0.6991870\tbest: 0.7228916 (17)\ttotal: 23.2s\tremaining: 8.88s\n",
            "73:\tlearn: 0.9105058\ttest: 0.6991870\tbest: 0.7228916 (17)\ttotal: 23.5s\tremaining: 8.56s\n",
            "74:\tlearn: 0.9105058\ttest: 0.7044534\tbest: 0.7228916 (17)\ttotal: 23.5s\tremaining: 8.16s\n",
            "75:\tlearn: 0.9135083\ttest: 0.7044534\tbest: 0.7228916 (17)\ttotal: 23.9s\tremaining: 7.85s\n",
            "76:\tlearn: 0.9156159\ttest: 0.7044534\tbest: 0.7228916 (17)\ttotal: 24.2s\tremaining: 7.53s\n",
            "77:\tlearn: 0.9145631\ttest: 0.7044534\tbest: 0.7228916 (17)\ttotal: 24.7s\tremaining: 7.28s\n",
            "78:\tlearn: 0.9182879\ttest: 0.6991870\tbest: 0.7228916 (17)\ttotal: 25s\tremaining: 6.96s\n",
            "79:\tlearn: 0.9211295\ttest: 0.6857143\tbest: 0.7228916 (17)\ttotal: 25.3s\tremaining: 6.65s\n",
            "80:\tlearn: 0.9202335\ttest: 0.6938776\tbest: 0.7228916 (17)\ttotal: 25.7s\tremaining: 6.34s\n",
            "81:\tlearn: 0.9223301\ttest: 0.6938776\tbest: 0.7228916 (17)\ttotal: 26s\tremaining: 6.01s\n",
            "82:\tlearn: 0.9193392\ttest: 0.6938776\tbest: 0.7228916 (17)\ttotal: 26.3s\tremaining: 5.7s\n",
            "83:\tlearn: 0.9233754\ttest: 0.6991870\tbest: 0.7228916 (17)\ttotal: 26.6s\tremaining: 5.38s\n",
            "84:\tlearn: 0.9235237\ttest: 0.6938776\tbest: 0.7228916 (17)\ttotal: 26.6s\tremaining: 5.01s\n",
            "85:\tlearn: 0.9253152\ttest: 0.7020408\tbest: 0.7228916 (17)\ttotal: 27s\tremaining: 4.71s\n",
            "86:\tlearn: 0.9273959\ttest: 0.6938776\tbest: 0.7228916 (17)\ttotal: 27.3s\tremaining: 4.39s\n",
            "87:\tlearn: 0.9263566\ttest: 0.6991870\tbest: 0.7228916 (17)\ttotal: 27.4s\tremaining: 4.04s\n",
            "88:\tlearn: 0.9263566\ttest: 0.6938776\tbest: 0.7228916 (17)\ttotal: 27.7s\tremaining: 3.73s\n",
            "89:\tlearn: 0.9282946\ttest: 0.6938776\tbest: 0.7228916 (17)\ttotal: 28s\tremaining: 3.43s\n",
            "90:\tlearn: 0.9303675\ttest: 0.6938776\tbest: 0.7228916 (17)\ttotal: 28.1s\tremaining: 3.09s\n",
            "91:\tlearn: 0.9303675\ttest: 0.6991870\tbest: 0.7228916 (17)\ttotal: 28.5s\tremaining: 2.79s\n",
            "92:\tlearn: 0.9303675\ttest: 0.7016129\tbest: 0.7228916 (17)\ttotal: 28.8s\tremaining: 2.48s\n",
            "93:\tlearn: 0.9303675\ttest: 0.7016129\tbest: 0.7228916 (17)\ttotal: 28.8s\tremaining: 2.14s\n",
            "94:\tlearn: 0.9303675\ttest: 0.7016129\tbest: 0.7228916 (17)\ttotal: 29.1s\tremaining: 1.84s\n",
            "95:\tlearn: 0.9324324\ttest: 0.7016129\tbest: 0.7228916 (17)\ttotal: 29.4s\tremaining: 1.53s\n",
            "96:\tlearn: 0.9333333\ttest: 0.7096774\tbest: 0.7228916 (17)\ttotal: 29.7s\tremaining: 1.23s\n",
            "97:\tlearn: 0.9342360\ttest: 0.6963563\tbest: 0.7228916 (17)\ttotal: 30s\tremaining: 919ms\n",
            "98:\tlearn: 0.9332043\ttest: 0.6963563\tbest: 0.7228916 (17)\ttotal: 30s\tremaining: 607ms\n",
            "99:\tlearn: 0.9321705\ttest: 0.6963563\tbest: 0.7228916 (17)\ttotal: 30.3s\tremaining: 303ms\n",
            "100:\tlearn: 0.9330747\ttest: 0.6963563\tbest: 0.7228916 (17)\ttotal: 30.6s\tremaining: 0us\n",
            "\n",
            "bestTest = 0.7228915663\n",
            "bestIteration = 17\n",
            "\n",
            "Shrink model to first 18 iterations.\n"
          ]
        },
        {
          "data": {
            "text/plain": [
              "<catboost.core.CatBoostClassifier at 0x1ded12109a0>"
            ]
          },
          "execution_count": 116,
          "metadata": {},
          "output_type": "execute_result"
        }
      ],
      "source": [
        "model.fit(X_train, Y_train, eval_set=(X_valid, Y_valid))"
      ]
    },
    {
      "cell_type": "code",
      "execution_count": 117,
      "metadata": {
        "id": "lQloeCCgdP8j",
        "outputId": "394f2474-ce23-461f-a18a-855a7d8fcb7c"
      },
      "outputs": [
        {
          "data": {
            "text/plain": [
              "{'learn': {'Logloss': 0.26786588433349745, 'F1': 0.9342359767891684},\n",
              " 'validation': {'Logloss': 0.5628758988282917, 'F1': 0.7228915662650602}}"
            ]
          },
          "execution_count": 117,
          "metadata": {},
          "output_type": "execute_result"
        }
      ],
      "source": [
        "model.best_score_"
      ]
    },
    {
      "cell_type": "code",
      "execution_count": 118,
      "metadata": {
        "id": "tNhCgf6rdP8k"
      },
      "outputs": [],
      "source": [
        "data_test = pd.read_csv('./cutted_data/test_data.csv')\n",
        "Y_test = data_test['label']\n",
        "X_test = data_test.drop(['label', 'id1', 'id2', 'id3', 'text'], axis=1)"
      ]
    },
    {
      "cell_type": "code",
      "execution_count": 119,
      "metadata": {
        "id": "xIWbVHCBdP8k",
        "outputId": "a0f3cf71-4949-4ba1-856b-2f4a7038365b"
      },
      "outputs": [
        {
          "data": {
            "text/plain": [
              "0.8240302743614002"
            ]
          },
          "execution_count": 119,
          "metadata": {},
          "output_type": "execute_result"
        }
      ],
      "source": [
        "model.score(X_train, Y_train)"
      ]
    },
    {
      "cell_type": "code",
      "execution_count": 120,
      "metadata": {
        "id": "5PnVOZR5dP8l",
        "outputId": "5ad3b515-d8fd-48c8-bcce-7f8ec6427614"
      },
      "outputs": [
        {
          "data": {
            "text/plain": [
              "0.7396226415094339"
            ]
          },
          "execution_count": 120,
          "metadata": {},
          "output_type": "execute_result"
        }
      ],
      "source": [
        "model.score(X_valid, Y_valid)"
      ]
    },
    {
      "cell_type": "code",
      "execution_count": 121,
      "metadata": {
        "id": "vd7U6gtQdP8m",
        "outputId": "3d552505-13df-4d03-df8b-d1023945e267"
      },
      "outputs": [
        {
          "data": {
            "text/plain": [
              "0.7371601208459214"
            ]
          },
          "execution_count": 121,
          "metadata": {},
          "output_type": "execute_result"
        }
      ],
      "source": [
        "model.score(X_test, Y_test)"
      ]
    },
    {
      "cell_type": "code",
      "execution_count": 122,
      "metadata": {
        "id": "naD1ZYlkdP8m",
        "outputId": "2e3ab36b-3051-410a-c86f-08028e1afef6"
      },
      "outputs": [
        {
          "data": {
            "text/plain": [
              "(array([0, 0, 1, 1, 1, 0, 1, 1, 1, 1, 0, 1, 0, 1, 1, 0], dtype=int64),\n",
              " array([1, 0, 1, 0, 1, 0, 1, 1, 1, 1, 0, 1, 1, 1, 1, 0], dtype=int64))"
            ]
          },
          "execution_count": 122,
          "metadata": {},
          "output_type": "execute_result"
        }
      ],
      "source": [
        "model.predict(X_test.loc[30:45]), Y_test.loc[30:45].to_numpy()"
      ]
    },
    {
      "cell_type": "code",
      "execution_count": 123,
      "metadata": {
        "id": "xwpXDaWXdP8n"
      },
      "outputs": [],
      "source": [
        "model.save_model(\"../model/catboost_without_id.model\")"
      ]
    },
    {
      "cell_type": "code",
      "execution_count": 201,
      "metadata": {
        "id": "vrIp3IyMdP8o"
      },
      "outputs": [],
      "source": [
        "feature_importance = {}\n",
        "for name, val in zip(X_train.columns, model.get_feature_importance()):\n",
        "    feature_importance[name] = val"
      ]
    },
    {
      "cell_type": "code",
      "execution_count": 202,
      "metadata": {
        "id": "DT2cFrDLdP8p",
        "outputId": "60999c1c-08d1-42c8-b5a5-dd8c32d1d24b"
      },
      "outputs": [
        {
          "data": {
            "image/png": "[encoded data removed]",
            "text/plain": [
              "<Figure size 640x480 with 1 Axes>"
            ]
          },
          "metadata": {},
          "output_type": "display_data"
        }
      ],
      "source": [
        "plt.bar(feature_importance.keys(), feature_importance.values())\n",
        "plt.xticks(rotation=90)\n",
        "plt.show()"
      ]
    }
  ],
  "metadata": {
    "colab": {
      "provenance": []
    },
    "kernelspec": {
      "display_name": "Python 3",
      "language": "python",
      "name": "python3"
    },
    "language_info": {
      "codemirror_mode": {
        "name": "ipython",
        "version": 3
      },
      "file_extension": ".py",
      "mimetype": "text/x-python",
      "name": "python",
      "nbconvert_exporter": "python",
      "pygments_lexer": "ipython3",
      "version": "3.9.12"
    },
    "orig_nbformat": 4
  },
  "nbformat": 4,
  "nbformat_minor": 0
}
