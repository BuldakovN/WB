{
  "cells": [
    {
      "attachments": {},
      "cell_type": "markdown",
      "metadata": {
        "id": "CLZ2WvhudP7c"
      },
      "source": [
        "# Сбор фичей\n",
        "\n",
        "Cобираем все данные (исходную таблицу и сгенерированные фичи) вместе и делим на тренировочную, валидационную и тестовую выборки в двух вариантах: со сбалансированными и несбалансированными классами"
      ]
    },
    {
      "cell_type": "code",
      "execution_count": 119,
      "metadata": {
        "id": "4tMfbnuUdP7m"
      },
      "outputs": [],
      "source": [
        "import pandas as pd\n",
        "from sklearn.model_selection import train_test_split\n",
        "import matplotlib.pyplot as plt\n",
        "\n",
        "from pymorphy2 import MorphAnalyzer\n",
        "import nltk\n",
        "from nltk.corpus import stopwords\n",
        "import numpy as np\n",
        "\n",
        "import re"
      ]
    },
    {
      "cell_type": "code",
      "execution_count": 134,
      "metadata": {
        "id": "TqOJNRe_dP7q"
      },
      "outputs": [],
      "source": [
        "data = \"../data/wb_school_task_2.csv.gzip\"\n",
        "data = pd.read_csv(data, compression='gzip')\n",
        "data = data.drop_duplicates(ignore_index=True)"
      ]
    },
    {
      "cell_type": "code",
      "execution_count": 135,
      "metadata": {},
      "outputs": [],
      "source": [
        "data = data.drop(['f2', 'f4'], axis=1)"
      ]
    },
    {
      "attachments": {},
      "cell_type": "markdown",
      "metadata": {
        "id": "hbGPdzs1dP7t"
      },
      "source": [
        "## Общие текстовые фичи"
      ]
    },
    {
      "cell_type": "code",
      "execution_count": 136,
      "metadata": {
        "id": "CYYF2neRdP7u",
        "outputId": "0a539365-b609-4d54-d3f3-36d9d63dc216"
      },
      "outputs": [
        {
          "data": {
            "text/html": [
              "<div>\n",
              "<style scoped>\n",
              "    .dataframe tbody tr th:only-of-type {\n",
              "        vertical-align: middle;\n",
              "    }\n",
              "\n",
              "    .dataframe tbody tr th {\n",
              "        vertical-align: top;\n",
              "    }\n",
              "\n",
              "    .dataframe thead th {\n",
              "        text-align: right;\n",
              "    }\n",
              "</style>\n",
              "<table border=\"1\" class=\"dataframe\">\n",
              "  <thead>\n",
              "    <tr style=\"text-align: right;\">\n",
              "      <th></th>\n",
              "      <th>id1</th>\n",
              "      <th>id2</th>\n",
              "      <th>id3</th>\n",
              "      <th>text</th>\n",
              "      <th>label</th>\n",
              "      <th>text_len</th>\n",
              "      <th>words_count</th>\n",
              "      <th>sentence_count</th>\n",
              "      <th>number_percentage</th>\n",
              "      <th>caps_percentage</th>\n",
              "      <th>is_empty</th>\n",
              "    </tr>\n",
              "  </thead>\n",
              "  <tbody>\n",
              "    <tr>\n",
              "      <th>0</th>\n",
              "      <td>7596126584852021591</td>\n",
              "      <td>173777575861152844</td>\n",
              "      <td>18254136755182295358</td>\n",
              "      <td>Хотела купить на замену старых,по итогу эти  у...</td>\n",
              "      <td>0</td>\n",
              "      <td>96</td>\n",
              "      <td>16</td>\n",
              "      <td>2</td>\n",
              "      <td>0.000000</td>\n",
              "      <td>0.062500</td>\n",
              "      <td>0</td>\n",
              "    </tr>\n",
              "    <tr>\n",
              "      <th>1</th>\n",
              "      <td>5327406586753254371</td>\n",
              "      <td>14366783259208998381</td>\n",
              "      <td>2324030737335224220</td>\n",
              "      <td>Запах по сравнению с обычным DOVE никакой. Оно...</td>\n",
              "      <td>1</td>\n",
              "      <td>99</td>\n",
              "      <td>15</td>\n",
              "      <td>3</td>\n",
              "      <td>0.000000</td>\n",
              "      <td>0.266667</td>\n",
              "      <td>0</td>\n",
              "    </tr>\n",
              "    <tr>\n",
              "      <th>2</th>\n",
              "      <td>2636757786779776109</td>\n",
              "      <td>16985421652518589249</td>\n",
              "      <td>4904562693381133981</td>\n",
              "      <td>Кабель подошёл, хорошо работает.</td>\n",
              "      <td>0</td>\n",
              "      <td>32</td>\n",
              "      <td>5</td>\n",
              "      <td>2</td>\n",
              "      <td>0.000000</td>\n",
              "      <td>0.200000</td>\n",
              "      <td>0</td>\n",
              "    </tr>\n",
              "    <tr>\n",
              "      <th>3</th>\n",
              "      <td>15432976385014516263</td>\n",
              "      <td>2629180387521298831</td>\n",
              "      <td>13541353053200353836</td>\n",
              "      <td>Восторг! Очень приятный аромат, держится долго...</td>\n",
              "      <td>1</td>\n",
              "      <td>81</td>\n",
              "      <td>11</td>\n",
              "      <td>3</td>\n",
              "      <td>0.000000</td>\n",
              "      <td>0.181818</td>\n",
              "      <td>0</td>\n",
              "    </tr>\n",
              "    <tr>\n",
              "      <th>4</th>\n",
              "      <td>11933982800034911890</td>\n",
              "      <td>14531191561111600318</td>\n",
              "      <td>9121890650636487522</td>\n",
              "      <td>Визуально все хорошо. Не пробовали. Купили в п...</td>\n",
              "      <td>0</td>\n",
              "      <td>52</td>\n",
              "      <td>8</td>\n",
              "      <td>3</td>\n",
              "      <td>0.000000</td>\n",
              "      <td>0.375000</td>\n",
              "      <td>0</td>\n",
              "    </tr>\n",
              "    <tr>\n",
              "      <th>...</th>\n",
              "      <td>...</td>\n",
              "      <td>...</td>\n",
              "      <td>...</td>\n",
              "      <td>...</td>\n",
              "      <td>...</td>\n",
              "      <td>...</td>\n",
              "      <td>...</td>\n",
              "      <td>...</td>\n",
              "      <td>...</td>\n",
              "      <td>...</td>\n",
              "      <td>...</td>\n",
              "    </tr>\n",
              "    <tr>\n",
              "      <th>3117</th>\n",
              "      <td>764513678578182418</td>\n",
              "      <td>15635360211325277203</td>\n",
              "      <td>6836784353719029392</td>\n",
              "      <td>Стекло не плохое,но есть один минус на техно с...</td>\n",
              "      <td>0</td>\n",
              "      <td>66</td>\n",
              "      <td>13</td>\n",
              "      <td>2</td>\n",
              "      <td>0.076923</td>\n",
              "      <td>0.076923</td>\n",
              "      <td>0</td>\n",
              "    </tr>\n",
              "    <tr>\n",
              "      <th>3118</th>\n",
              "      <td>6838893897482150395</td>\n",
              "      <td>13016265854619171030</td>\n",
              "      <td>12090430373311552618</td>\n",
              "      <td>Всё пришло запаковано, ничего не сломано. Лучш...</td>\n",
              "      <td>0</td>\n",
              "      <td>63</td>\n",
              "      <td>10</td>\n",
              "      <td>2</td>\n",
              "      <td>0.000000</td>\n",
              "      <td>0.200000</td>\n",
              "      <td>0</td>\n",
              "    </tr>\n",
              "    <tr>\n",
              "      <th>3119</th>\n",
              "      <td>3080528623596565085</td>\n",
              "      <td>17787644417937804433</td>\n",
              "      <td>18003133089489520237</td>\n",
              "      <td>Мне нравятся 👍🏻 я очень аллергичная, посоветов...</td>\n",
              "      <td>0</td>\n",
              "      <td>101</td>\n",
              "      <td>13</td>\n",
              "      <td>1</td>\n",
              "      <td>0.000000</td>\n",
              "      <td>0.076923</td>\n",
              "      <td>0</td>\n",
              "    </tr>\n",
              "    <tr>\n",
              "      <th>3120</th>\n",
              "      <td>13059704988549832630</td>\n",
              "      <td>997055248102065549</td>\n",
              "      <td>12214993272083833542</td>\n",
              "      <td>Спасибо,  целая пришла. Хорошо упаковано</td>\n",
              "      <td>0</td>\n",
              "      <td>40</td>\n",
              "      <td>5</td>\n",
              "      <td>2</td>\n",
              "      <td>0.000000</td>\n",
              "      <td>0.400000</td>\n",
              "      <td>0</td>\n",
              "    </tr>\n",
              "    <tr>\n",
              "      <th>3121</th>\n",
              "      <td>11429810966213467017</td>\n",
              "      <td>1380541878847684914</td>\n",
              "      <td>11716132433518331197</td>\n",
              "      <td>Бур нормальный, но выбрал другую модель</td>\n",
              "      <td>0</td>\n",
              "      <td>39</td>\n",
              "      <td>6</td>\n",
              "      <td>1</td>\n",
              "      <td>0.000000</td>\n",
              "      <td>0.166667</td>\n",
              "      <td>0</td>\n",
              "    </tr>\n",
              "  </tbody>\n",
              "</table>\n",
              "<p>3122 rows × 11 columns</p>\n",
              "</div>"
            ],
            "text/plain": [
              "                       id1                   id2                   id3  \\\n",
              "0      7596126584852021591    173777575861152844  18254136755182295358   \n",
              "1      5327406586753254371  14366783259208998381   2324030737335224220   \n",
              "2      2636757786779776109  16985421652518589249   4904562693381133981   \n",
              "3     15432976385014516263   2629180387521298831  13541353053200353836   \n",
              "4     11933982800034911890  14531191561111600318   9121890650636487522   \n",
              "...                    ...                   ...                   ...   \n",
              "3117    764513678578182418  15635360211325277203   6836784353719029392   \n",
              "3118   6838893897482150395  13016265854619171030  12090430373311552618   \n",
              "3119   3080528623596565085  17787644417937804433  18003133089489520237   \n",
              "3120  13059704988549832630    997055248102065549  12214993272083833542   \n",
              "3121  11429810966213467017   1380541878847684914  11716132433518331197   \n",
              "\n",
              "                                                   text  label  text_len  \\\n",
              "0     Хотела купить на замену старых,по итогу эти  у...      0        96   \n",
              "1     Запах по сравнению с обычным DOVE никакой. Оно...      1        99   \n",
              "2                      Кабель подошёл, хорошо работает.      0        32   \n",
              "3     Восторг! Очень приятный аромат, держится долго...      1        81   \n",
              "4     Визуально все хорошо. Не пробовали. Купили в п...      0        52   \n",
              "...                                                 ...    ...       ...   \n",
              "3117  Стекло не плохое,но есть один минус на техно с...      0        66   \n",
              "3118  Всё пришло запаковано, ничего не сломано. Лучш...      0        63   \n",
              "3119  Мне нравятся 👍🏻 я очень аллергичная, посоветов...      0       101   \n",
              "3120           Спасибо,  целая пришла. Хорошо упаковано      0        40   \n",
              "3121            Бур нормальный, но выбрал другую модель      0        39   \n",
              "\n",
              "      words_count  sentence_count  number_percentage  caps_percentage  \\\n",
              "0              16               2           0.000000         0.062500   \n",
              "1              15               3           0.000000         0.266667   \n",
              "2               5               2           0.000000         0.200000   \n",
              "3              11               3           0.000000         0.181818   \n",
              "4               8               3           0.000000         0.375000   \n",
              "...           ...             ...                ...              ...   \n",
              "3117           13               2           0.076923         0.076923   \n",
              "3118           10               2           0.000000         0.200000   \n",
              "3119           13               1           0.000000         0.076923   \n",
              "3120            5               2           0.000000         0.400000   \n",
              "3121            6               1           0.000000         0.166667   \n",
              "\n",
              "      is_empty  \n",
              "0            0  \n",
              "1            0  \n",
              "2            0  \n",
              "3            0  \n",
              "4            0  \n",
              "...        ...  \n",
              "3117         0  \n",
              "3118         0  \n",
              "3119         0  \n",
              "3120         0  \n",
              "3121         0  \n",
              "\n",
              "[3122 rows x 11 columns]"
            ]
          },
          "execution_count": 136,
          "metadata": {},
          "output_type": "execute_result"
        }
      ],
      "source": [
        "def extract_features(s: pd.Series):\n",
        "    text = s['text']\n",
        "    word_count = len(re.findall(r'[а-яА-Яa-zA-Z]+', text))\n",
        "    # есть отзывы, состоящие из смайликов, пробелов или нижних подчеркиваний\n",
        "    if word_count == 0:\n",
        "            return pd.Series({\n",
        "            'id1': s['id1'],\n",
        "            'id2': s['id2'],\n",
        "            'id3': s['id3'],\n",
        "            'text': text,\n",
        "            'label': s['label'],\n",
        "            'text_len': len(text),\n",
        "            'words_count': 0,\n",
        "            'sentence_count': 0,\n",
        "            'number_percentage': 0,\n",
        "            'caps_percentage': 0,\n",
        "            'is_empty': 1\n",
        "        })\n",
        "\n",
        "    return pd.Series({\n",
        "        'id1': s['id1'],\n",
        "        'id2': s['id2'],\n",
        "        'id3': s['id3'],\n",
        "        'text': text,\n",
        "        'label': s['label'],\n",
        "        'text_len': len(text),\n",
        "        'words_count': word_count,\n",
        "        'sentence_count': len(re.split(r'[.!?]+', text)),\n",
        "        'number_percentage': len(re.findall(r'\\d+', text)) / word_count,\n",
        "        'caps_percentage': len(re.findall(r'[А-ЯA-Z]+', text)) / word_count,\n",
        "        'is_empty': 0\n",
        "    })\n",
        "\n",
        "text_features = data.apply(extract_features, axis=1)\n",
        "text_features"
      ]
    },
    {
      "cell_type": "code",
      "execution_count": 137,
      "metadata": {
        "id": "ry4Q7-pJdP7x",
        "outputId": "33689c21-112e-4178-fef1-819122010757"
      },
      "outputs": [
        {
          "data": {
            "text/html": [
              "<div>\n",
              "<style scoped>\n",
              "    .dataframe tbody tr th:only-of-type {\n",
              "        vertical-align: middle;\n",
              "    }\n",
              "\n",
              "    .dataframe tbody tr th {\n",
              "        vertical-align: top;\n",
              "    }\n",
              "\n",
              "    .dataframe thead th {\n",
              "        text-align: right;\n",
              "    }\n",
              "</style>\n",
              "<table border=\"1\" class=\"dataframe\">\n",
              "  <thead>\n",
              "    <tr style=\"text-align: right;\">\n",
              "      <th></th>\n",
              "      <th>id1</th>\n",
              "      <th>id2</th>\n",
              "      <th>id3</th>\n",
              "      <th>text</th>\n",
              "      <th>f1</th>\n",
              "      <th>f3</th>\n",
              "      <th>f5</th>\n",
              "      <th>f6</th>\n",
              "      <th>f7</th>\n",
              "      <th>f8</th>\n",
              "      <th>label</th>\n",
              "      <th>text_len</th>\n",
              "      <th>words_count</th>\n",
              "      <th>sentence_count</th>\n",
              "      <th>number_percentage</th>\n",
              "      <th>caps_percentage</th>\n",
              "      <th>is_empty</th>\n",
              "    </tr>\n",
              "  </thead>\n",
              "  <tbody>\n",
              "    <tr>\n",
              "      <th>0</th>\n",
              "      <td>7596126584852021591</td>\n",
              "      <td>173777575861152844</td>\n",
              "      <td>18254136755182295358</td>\n",
              "      <td>Хотела купить на замену старых,по итогу эти  у...</td>\n",
              "      <td>1</td>\n",
              "      <td>1.000000</td>\n",
              "      <td>13</td>\n",
              "      <td>4.272727</td>\n",
              "      <td>18</td>\n",
              "      <td>36</td>\n",
              "      <td>0</td>\n",
              "      <td>96</td>\n",
              "      <td>16</td>\n",
              "      <td>2</td>\n",
              "      <td>0.000000</td>\n",
              "      <td>0.062500</td>\n",
              "      <td>0</td>\n",
              "    </tr>\n",
              "    <tr>\n",
              "      <th>1</th>\n",
              "      <td>5327406586753254371</td>\n",
              "      <td>14366783259208998381</td>\n",
              "      <td>2324030737335224220</td>\n",
              "      <td>Запах по сравнению с обычным DOVE никакой. Оно...</td>\n",
              "      <td>10</td>\n",
              "      <td>2.700000</td>\n",
              "      <td>4</td>\n",
              "      <td>4.434783</td>\n",
              "      <td>90</td>\n",
              "      <td>109</td>\n",
              "      <td>1</td>\n",
              "      <td>99</td>\n",
              "      <td>15</td>\n",
              "      <td>3</td>\n",
              "      <td>0.000000</td>\n",
              "      <td>0.266667</td>\n",
              "      <td>0</td>\n",
              "    </tr>\n",
              "    <tr>\n",
              "      <th>2</th>\n",
              "      <td>2636757786779776109</td>\n",
              "      <td>16985421652518589249</td>\n",
              "      <td>4904562693381133981</td>\n",
              "      <td>Кабель подошёл, хорошо работает.</td>\n",
              "      <td>4</td>\n",
              "      <td>4.000000</td>\n",
              "      <td>0</td>\n",
              "      <td>4.500000</td>\n",
              "      <td>4</td>\n",
              "      <td>6</td>\n",
              "      <td>0</td>\n",
              "      <td>32</td>\n",
              "      <td>5</td>\n",
              "      <td>2</td>\n",
              "      <td>0.000000</td>\n",
              "      <td>0.200000</td>\n",
              "      <td>0</td>\n",
              "    </tr>\n",
              "    <tr>\n",
              "      <th>3</th>\n",
              "      <td>15432976385014516263</td>\n",
              "      <td>2629180387521298831</td>\n",
              "      <td>13541353053200353836</td>\n",
              "      <td>Восторг! Очень приятный аромат, держится долго...</td>\n",
              "      <td>6</td>\n",
              "      <td>5.000000</td>\n",
              "      <td>30</td>\n",
              "      <td>4.772727</td>\n",
              "      <td>14</td>\n",
              "      <td>15</td>\n",
              "      <td>1</td>\n",
              "      <td>81</td>\n",
              "      <td>11</td>\n",
              "      <td>3</td>\n",
              "      <td>0.000000</td>\n",
              "      <td>0.181818</td>\n",
              "      <td>0</td>\n",
              "    </tr>\n",
              "    <tr>\n",
              "      <th>4</th>\n",
              "      <td>11933982800034911890</td>\n",
              "      <td>14531191561111600318</td>\n",
              "      <td>9121890650636487522</td>\n",
              "      <td>Визуально все хорошо. Не пробовали. Купили в п...</td>\n",
              "      <td>19</td>\n",
              "      <td>5.000000</td>\n",
              "      <td>4</td>\n",
              "      <td>5.000000</td>\n",
              "      <td>26</td>\n",
              "      <td>33</td>\n",
              "      <td>0</td>\n",
              "      <td>52</td>\n",
              "      <td>8</td>\n",
              "      <td>3</td>\n",
              "      <td>0.000000</td>\n",
              "      <td>0.375000</td>\n",
              "      <td>0</td>\n",
              "    </tr>\n",
              "    <tr>\n",
              "      <th>...</th>\n",
              "      <td>...</td>\n",
              "      <td>...</td>\n",
              "      <td>...</td>\n",
              "      <td>...</td>\n",
              "      <td>...</td>\n",
              "      <td>...</td>\n",
              "      <td>...</td>\n",
              "      <td>...</td>\n",
              "      <td>...</td>\n",
              "      <td>...</td>\n",
              "      <td>...</td>\n",
              "      <td>...</td>\n",
              "      <td>...</td>\n",
              "      <td>...</td>\n",
              "      <td>...</td>\n",
              "      <td>...</td>\n",
              "      <td>...</td>\n",
              "    </tr>\n",
              "    <tr>\n",
              "      <th>3117</th>\n",
              "      <td>764513678578182418</td>\n",
              "      <td>15635360211325277203</td>\n",
              "      <td>6836784353719029392</td>\n",
              "      <td>Стекло не плохое,но есть один минус на техно с...</td>\n",
              "      <td>2</td>\n",
              "      <td>3.000000</td>\n",
              "      <td>1</td>\n",
              "      <td>4.263158</td>\n",
              "      <td>9</td>\n",
              "      <td>9</td>\n",
              "      <td>0</td>\n",
              "      <td>66</td>\n",
              "      <td>13</td>\n",
              "      <td>2</td>\n",
              "      <td>0.076923</td>\n",
              "      <td>0.076923</td>\n",
              "      <td>0</td>\n",
              "    </tr>\n",
              "    <tr>\n",
              "      <th>3118</th>\n",
              "      <td>6838893897482150395</td>\n",
              "      <td>13016265854619171030</td>\n",
              "      <td>12090430373311552618</td>\n",
              "      <td>Всё пришло запаковано, ничего не сломано. Лучш...</td>\n",
              "      <td>8</td>\n",
              "      <td>4.375000</td>\n",
              "      <td>83</td>\n",
              "      <td>4.183206</td>\n",
              "      <td>18</td>\n",
              "      <td>18</td>\n",
              "      <td>0</td>\n",
              "      <td>63</td>\n",
              "      <td>10</td>\n",
              "      <td>2</td>\n",
              "      <td>0.000000</td>\n",
              "      <td>0.200000</td>\n",
              "      <td>0</td>\n",
              "    </tr>\n",
              "    <tr>\n",
              "      <th>3119</th>\n",
              "      <td>3080528623596565085</td>\n",
              "      <td>17787644417937804433</td>\n",
              "      <td>18003133089489520237</td>\n",
              "      <td>Мне нравятся 👍🏻 я очень аллергичная, посоветов...</td>\n",
              "      <td>13</td>\n",
              "      <td>5.000000</td>\n",
              "      <td>2</td>\n",
              "      <td>4.944828</td>\n",
              "      <td>12</td>\n",
              "      <td>14</td>\n",
              "      <td>0</td>\n",
              "      <td>101</td>\n",
              "      <td>13</td>\n",
              "      <td>1</td>\n",
              "      <td>0.000000</td>\n",
              "      <td>0.076923</td>\n",
              "      <td>0</td>\n",
              "    </tr>\n",
              "    <tr>\n",
              "      <th>3120</th>\n",
              "      <td>13059704988549832630</td>\n",
              "      <td>997055248102065549</td>\n",
              "      <td>12214993272083833542</td>\n",
              "      <td>Спасибо,  целая пришла. Хорошо упаковано</td>\n",
              "      <td>3</td>\n",
              "      <td>5.000000</td>\n",
              "      <td>19</td>\n",
              "      <td>4.648780</td>\n",
              "      <td>103</td>\n",
              "      <td>155</td>\n",
              "      <td>0</td>\n",
              "      <td>40</td>\n",
              "      <td>5</td>\n",
              "      <td>2</td>\n",
              "      <td>0.000000</td>\n",
              "      <td>0.400000</td>\n",
              "      <td>0</td>\n",
              "    </tr>\n",
              "    <tr>\n",
              "      <th>3121</th>\n",
              "      <td>11429810966213467017</td>\n",
              "      <td>1380541878847684914</td>\n",
              "      <td>11716132433518331197</td>\n",
              "      <td>Бур нормальный, но выбрал другую модель</td>\n",
              "      <td>42</td>\n",
              "      <td>4.809524</td>\n",
              "      <td>17</td>\n",
              "      <td>4.655738</td>\n",
              "      <td>54</td>\n",
              "      <td>101</td>\n",
              "      <td>0</td>\n",
              "      <td>39</td>\n",
              "      <td>6</td>\n",
              "      <td>1</td>\n",
              "      <td>0.000000</td>\n",
              "      <td>0.166667</td>\n",
              "      <td>0</td>\n",
              "    </tr>\n",
              "  </tbody>\n",
              "</table>\n",
              "<p>3122 rows × 17 columns</p>\n",
              "</div>"
            ],
            "text/plain": [
              "                       id1                   id2                   id3  \\\n",
              "0      7596126584852021591    173777575861152844  18254136755182295358   \n",
              "1      5327406586753254371  14366783259208998381   2324030737335224220   \n",
              "2      2636757786779776109  16985421652518589249   4904562693381133981   \n",
              "3     15432976385014516263   2629180387521298831  13541353053200353836   \n",
              "4     11933982800034911890  14531191561111600318   9121890650636487522   \n",
              "...                    ...                   ...                   ...   \n",
              "3117    764513678578182418  15635360211325277203   6836784353719029392   \n",
              "3118   6838893897482150395  13016265854619171030  12090430373311552618   \n",
              "3119   3080528623596565085  17787644417937804433  18003133089489520237   \n",
              "3120  13059704988549832630    997055248102065549  12214993272083833542   \n",
              "3121  11429810966213467017   1380541878847684914  11716132433518331197   \n",
              "\n",
              "                                                   text  f1        f3  f5  \\\n",
              "0     Хотела купить на замену старых,по итогу эти  у...   1  1.000000  13   \n",
              "1     Запах по сравнению с обычным DOVE никакой. Оно...  10  2.700000   4   \n",
              "2                      Кабель подошёл, хорошо работает.   4  4.000000   0   \n",
              "3     Восторг! Очень приятный аромат, держится долго...   6  5.000000  30   \n",
              "4     Визуально все хорошо. Не пробовали. Купили в п...  19  5.000000   4   \n",
              "...                                                 ...  ..       ...  ..   \n",
              "3117  Стекло не плохое,но есть один минус на техно с...   2  3.000000   1   \n",
              "3118  Всё пришло запаковано, ничего не сломано. Лучш...   8  4.375000  83   \n",
              "3119  Мне нравятся 👍🏻 я очень аллергичная, посоветов...  13  5.000000   2   \n",
              "3120           Спасибо,  целая пришла. Хорошо упаковано   3  5.000000  19   \n",
              "3121            Бур нормальный, но выбрал другую модель  42  4.809524  17   \n",
              "\n",
              "            f6   f7   f8  label  text_len  words_count  sentence_count  \\\n",
              "0     4.272727   18   36      0        96           16               2   \n",
              "1     4.434783   90  109      1        99           15               3   \n",
              "2     4.500000    4    6      0        32            5               2   \n",
              "3     4.772727   14   15      1        81           11               3   \n",
              "4     5.000000   26   33      0        52            8               3   \n",
              "...        ...  ...  ...    ...       ...          ...             ...   \n",
              "3117  4.263158    9    9      0        66           13               2   \n",
              "3118  4.183206   18   18      0        63           10               2   \n",
              "3119  4.944828   12   14      0       101           13               1   \n",
              "3120  4.648780  103  155      0        40            5               2   \n",
              "3121  4.655738   54  101      0        39            6               1   \n",
              "\n",
              "      number_percentage  caps_percentage  is_empty  \n",
              "0              0.000000         0.062500         0  \n",
              "1              0.000000         0.266667         0  \n",
              "2              0.000000         0.200000         0  \n",
              "3              0.000000         0.181818         0  \n",
              "4              0.000000         0.375000         0  \n",
              "...                 ...              ...       ...  \n",
              "3117           0.076923         0.076923         0  \n",
              "3118           0.000000         0.200000         0  \n",
              "3119           0.000000         0.076923         0  \n",
              "3120           0.000000         0.400000         0  \n",
              "3121           0.000000         0.166667         0  \n",
              "\n",
              "[3122 rows x 17 columns]"
            ]
          },
          "execution_count": 137,
          "metadata": {},
          "output_type": "execute_result"
        }
      ],
      "source": [
        "merged_dataset = pd.merge(data, text_features, on=['text', 'label', 'id1', 'id2', 'id3'], how='left')\n",
        "merged_dataset"
      ]
    },
    {
      "attachments": {},
      "cell_type": "markdown",
      "metadata": {
        "id": "9NwvYVqhdP7y"
      },
      "source": [
        "## Фичи из ID"
      ]
    },
    {
      "cell_type": "code",
      "execution_count": 138,
      "metadata": {
        "id": "wzAzovNEdP7z"
      },
      "outputs": [],
      "source": [
        "def id_analize(id_col: str, data: pd.DataFrame):\n",
        "    df = data[[id_col, \"label\"]]\n",
        "    df = df.groupby(by=id_col)\n",
        "    col0 = id_col + \"_0\"\n",
        "    col1 = id_col + \"_1\"\n",
        "    result = pd.DataFrame(data = {id_col: data[id_col].unique()}, columns=[id_col, col0, col1])\n",
        "    for idn, table in df:\n",
        "        if table.shape[0] < 3: \n",
        "            result.loc[result[id_col]==idn, col0] = 0\n",
        "            result.loc[result[id_col]==idn, col1] = 0\n",
        "            continue\n",
        "        result.loc[result[id_col]==idn, col0] = (table['label'] == 0).sum()/table.shape[0]\n",
        "        result.loc[result[id_col]==idn, col1] = (table['label'] == 1).sum()/table.shape[0]\n",
        "    return result\n",
        "\n",
        "\n",
        "#for col in ['id1', 'id2']:\n",
        "    #id_analized = id_analize(col, data)\n",
        "    #id_analized.to_csv(f\"./{col}_data.csv\", index=False)\n",
        "    #merged_dataset = merged_dataset.merge(id_analized, how='left', on=col)"
      ]
    },
    {
      "cell_type": "code",
      "execution_count": 139,
      "metadata": {},
      "outputs": [],
      "source": [
        "def id_analize2(id_col: str, data: pd.DataFrame):\n",
        "    df = data[[id_col, \"label\"]]\n",
        "    df = df.groupby(by=id_col)\n",
        "    col0 = id_col+\"_pred\"\n",
        "    col1 = id_col+\"_in_database\"\n",
        "    result = pd.DataFrame(data = {id_col: data[id_col].unique()}, columns=[id_col, col0, col1])\n",
        "    for idn, table in df:\n",
        "        if table.shape[0] < 3: \n",
        "            result.loc[result[id_col]==idn, col0] = 0\n",
        "            result.loc[result[id_col]==idn, col1] = 0\n",
        "            continue\n",
        "        result.loc[result[id_col]==idn, col0] = (table['label'] == 1).sum()/table.shape[0]\n",
        "        result.loc[result[id_col]==idn, col1] = 1\n",
        "    return result\n",
        "\n",
        "\n",
        "for col in ['id1', 'id2']:\n",
        "    id_analized = id_analize2(col, data)\n",
        "    id_analized.to_csv(f\"./{col}_data.csv\", index=False)\n",
        "    merged_dataset = merged_dataset.merge(id_analized, how='left', on=col)"
      ]
    },
    {
      "cell_type": "code",
      "execution_count": 141,
      "metadata": {},
      "outputs": [
        {
          "data": {
            "text/html": [
              "<div>\n",
              "<style scoped>\n",
              "    .dataframe tbody tr th:only-of-type {\n",
              "        vertical-align: middle;\n",
              "    }\n",
              "\n",
              "    .dataframe tbody tr th {\n",
              "        vertical-align: top;\n",
              "    }\n",
              "\n",
              "    .dataframe thead th {\n",
              "        text-align: right;\n",
              "    }\n",
              "</style>\n",
              "<table border=\"1\" class=\"dataframe\">\n",
              "  <thead>\n",
              "    <tr style=\"text-align: right;\">\n",
              "      <th></th>\n",
              "      <th>id2</th>\n",
              "      <th>id2_pred</th>\n",
              "      <th>id2_in_database</th>\n",
              "    </tr>\n",
              "  </thead>\n",
              "  <tbody>\n",
              "    <tr>\n",
              "      <th>0</th>\n",
              "      <td>173777575861152844</td>\n",
              "      <td>0</td>\n",
              "      <td>0</td>\n",
              "    </tr>\n",
              "    <tr>\n",
              "      <th>1</th>\n",
              "      <td>14366783259208998381</td>\n",
              "      <td>0</td>\n",
              "      <td>0</td>\n",
              "    </tr>\n",
              "    <tr>\n",
              "      <th>2</th>\n",
              "      <td>16985421652518589249</td>\n",
              "      <td>0</td>\n",
              "      <td>0</td>\n",
              "    </tr>\n",
              "    <tr>\n",
              "      <th>3</th>\n",
              "      <td>2629180387521298831</td>\n",
              "      <td>0</td>\n",
              "      <td>0</td>\n",
              "    </tr>\n",
              "    <tr>\n",
              "      <th>4</th>\n",
              "      <td>14531191561111600318</td>\n",
              "      <td>0</td>\n",
              "      <td>0</td>\n",
              "    </tr>\n",
              "    <tr>\n",
              "      <th>...</th>\n",
              "      <td>...</td>\n",
              "      <td>...</td>\n",
              "      <td>...</td>\n",
              "    </tr>\n",
              "    <tr>\n",
              "      <th>3001</th>\n",
              "      <td>15635360211325277203</td>\n",
              "      <td>0</td>\n",
              "      <td>0</td>\n",
              "    </tr>\n",
              "    <tr>\n",
              "      <th>3002</th>\n",
              "      <td>13016265854619171030</td>\n",
              "      <td>0</td>\n",
              "      <td>0</td>\n",
              "    </tr>\n",
              "    <tr>\n",
              "      <th>3003</th>\n",
              "      <td>17787644417937804433</td>\n",
              "      <td>0</td>\n",
              "      <td>0</td>\n",
              "    </tr>\n",
              "    <tr>\n",
              "      <th>3004</th>\n",
              "      <td>997055248102065549</td>\n",
              "      <td>0</td>\n",
              "      <td>0</td>\n",
              "    </tr>\n",
              "    <tr>\n",
              "      <th>3005</th>\n",
              "      <td>1380541878847684914</td>\n",
              "      <td>0</td>\n",
              "      <td>0</td>\n",
              "    </tr>\n",
              "  </tbody>\n",
              "</table>\n",
              "<p>2992 rows × 3 columns</p>\n",
              "</div>"
            ],
            "text/plain": [
              "                       id2 id2_pred id2_in_database\n",
              "0       173777575861152844        0               0\n",
              "1     14366783259208998381        0               0\n",
              "2     16985421652518589249        0               0\n",
              "3      2629180387521298831        0               0\n",
              "4     14531191561111600318        0               0\n",
              "...                    ...      ...             ...\n",
              "3001  15635360211325277203        0               0\n",
              "3002  13016265854619171030        0               0\n",
              "3003  17787644417937804433        0               0\n",
              "3004    997055248102065549        0               0\n",
              "3005   1380541878847684914        0               0\n",
              "\n",
              "[2992 rows x 3 columns]"
            ]
          },
          "execution_count": 141,
          "metadata": {},
          "output_type": "execute_result"
        }
      ],
      "source": [
        "id_analized[id_analized['id2_in_database'] == 0]"
      ]
    },
    {
      "cell_type": "code",
      "execution_count": 142,
      "metadata": {},
      "outputs": [
        {
          "data": {
            "text/html": [
              "<div>\n",
              "<style scoped>\n",
              "    .dataframe tbody tr th:only-of-type {\n",
              "        vertical-align: middle;\n",
              "    }\n",
              "\n",
              "    .dataframe tbody tr th {\n",
              "        vertical-align: top;\n",
              "    }\n",
              "\n",
              "    .dataframe thead th {\n",
              "        text-align: right;\n",
              "    }\n",
              "</style>\n",
              "<table border=\"1\" class=\"dataframe\">\n",
              "  <thead>\n",
              "    <tr style=\"text-align: right;\">\n",
              "      <th></th>\n",
              "      <th>id1</th>\n",
              "      <th>id2</th>\n",
              "      <th>id3</th>\n",
              "      <th>text</th>\n",
              "      <th>f1</th>\n",
              "      <th>f3</th>\n",
              "      <th>f5</th>\n",
              "      <th>f6</th>\n",
              "      <th>f7</th>\n",
              "      <th>f8</th>\n",
              "      <th>...</th>\n",
              "      <th>text_len</th>\n",
              "      <th>words_count</th>\n",
              "      <th>sentence_count</th>\n",
              "      <th>number_percentage</th>\n",
              "      <th>caps_percentage</th>\n",
              "      <th>is_empty</th>\n",
              "      <th>id1_pred</th>\n",
              "      <th>id1_in_database</th>\n",
              "      <th>id2_pred</th>\n",
              "      <th>id2_in_database</th>\n",
              "    </tr>\n",
              "  </thead>\n",
              "  <tbody>\n",
              "    <tr>\n",
              "      <th>0</th>\n",
              "      <td>7596126584852021591</td>\n",
              "      <td>173777575861152844</td>\n",
              "      <td>18254136755182295358</td>\n",
              "      <td>Хотела купить на замену старых,по итогу эти  у...</td>\n",
              "      <td>1</td>\n",
              "      <td>1.0</td>\n",
              "      <td>13</td>\n",
              "      <td>4.272727</td>\n",
              "      <td>18</td>\n",
              "      <td>36</td>\n",
              "      <td>...</td>\n",
              "      <td>96</td>\n",
              "      <td>16</td>\n",
              "      <td>2</td>\n",
              "      <td>0.0</td>\n",
              "      <td>0.062500</td>\n",
              "      <td>0</td>\n",
              "      <td>0</td>\n",
              "      <td>0</td>\n",
              "      <td>0</td>\n",
              "      <td>0</td>\n",
              "    </tr>\n",
              "    <tr>\n",
              "      <th>1</th>\n",
              "      <td>5327406586753254371</td>\n",
              "      <td>14366783259208998381</td>\n",
              "      <td>2324030737335224220</td>\n",
              "      <td>Запах по сравнению с обычным DOVE никакой. Оно...</td>\n",
              "      <td>10</td>\n",
              "      <td>2.7</td>\n",
              "      <td>4</td>\n",
              "      <td>4.434783</td>\n",
              "      <td>90</td>\n",
              "      <td>109</td>\n",
              "      <td>...</td>\n",
              "      <td>99</td>\n",
              "      <td>15</td>\n",
              "      <td>3</td>\n",
              "      <td>0.0</td>\n",
              "      <td>0.266667</td>\n",
              "      <td>0</td>\n",
              "      <td>0</td>\n",
              "      <td>0</td>\n",
              "      <td>0</td>\n",
              "      <td>0</td>\n",
              "    </tr>\n",
              "    <tr>\n",
              "      <th>2</th>\n",
              "      <td>2636757786779776109</td>\n",
              "      <td>16985421652518589249</td>\n",
              "      <td>4904562693381133981</td>\n",
              "      <td>Кабель подошёл, хорошо работает.</td>\n",
              "      <td>4</td>\n",
              "      <td>4.0</td>\n",
              "      <td>0</td>\n",
              "      <td>4.500000</td>\n",
              "      <td>4</td>\n",
              "      <td>6</td>\n",
              "      <td>...</td>\n",
              "      <td>32</td>\n",
              "      <td>5</td>\n",
              "      <td>2</td>\n",
              "      <td>0.0</td>\n",
              "      <td>0.200000</td>\n",
              "      <td>0</td>\n",
              "      <td>0</td>\n",
              "      <td>0</td>\n",
              "      <td>0</td>\n",
              "      <td>0</td>\n",
              "    </tr>\n",
              "    <tr>\n",
              "      <th>3</th>\n",
              "      <td>15432976385014516263</td>\n",
              "      <td>2629180387521298831</td>\n",
              "      <td>13541353053200353836</td>\n",
              "      <td>Восторг! Очень приятный аромат, держится долго...</td>\n",
              "      <td>6</td>\n",
              "      <td>5.0</td>\n",
              "      <td>30</td>\n",
              "      <td>4.772727</td>\n",
              "      <td>14</td>\n",
              "      <td>15</td>\n",
              "      <td>...</td>\n",
              "      <td>81</td>\n",
              "      <td>11</td>\n",
              "      <td>3</td>\n",
              "      <td>0.0</td>\n",
              "      <td>0.181818</td>\n",
              "      <td>0</td>\n",
              "      <td>0</td>\n",
              "      <td>0</td>\n",
              "      <td>0</td>\n",
              "      <td>0</td>\n",
              "    </tr>\n",
              "    <tr>\n",
              "      <th>4</th>\n",
              "      <td>11933982800034911890</td>\n",
              "      <td>14531191561111600318</td>\n",
              "      <td>9121890650636487522</td>\n",
              "      <td>Визуально все хорошо. Не пробовали. Купили в п...</td>\n",
              "      <td>19</td>\n",
              "      <td>5.0</td>\n",
              "      <td>4</td>\n",
              "      <td>5.000000</td>\n",
              "      <td>26</td>\n",
              "      <td>33</td>\n",
              "      <td>...</td>\n",
              "      <td>52</td>\n",
              "      <td>8</td>\n",
              "      <td>3</td>\n",
              "      <td>0.0</td>\n",
              "      <td>0.375000</td>\n",
              "      <td>0</td>\n",
              "      <td>0</td>\n",
              "      <td>0</td>\n",
              "      <td>0</td>\n",
              "      <td>0</td>\n",
              "    </tr>\n",
              "  </tbody>\n",
              "</table>\n",
              "<p>5 rows × 21 columns</p>\n",
              "</div>"
            ],
            "text/plain": [
              "                    id1                   id2                   id3  \\\n",
              "0   7596126584852021591    173777575861152844  18254136755182295358   \n",
              "1   5327406586753254371  14366783259208998381   2324030737335224220   \n",
              "2   2636757786779776109  16985421652518589249   4904562693381133981   \n",
              "3  15432976385014516263   2629180387521298831  13541353053200353836   \n",
              "4  11933982800034911890  14531191561111600318   9121890650636487522   \n",
              "\n",
              "                                                text  f1   f3  f5        f6  \\\n",
              "0  Хотела купить на замену старых,по итогу эти  у...   1  1.0  13  4.272727   \n",
              "1  Запах по сравнению с обычным DOVE никакой. Оно...  10  2.7   4  4.434783   \n",
              "2                   Кабель подошёл, хорошо работает.   4  4.0   0  4.500000   \n",
              "3  Восторг! Очень приятный аромат, держится долго...   6  5.0  30  4.772727   \n",
              "4  Визуально все хорошо. Не пробовали. Купили в п...  19  5.0   4  5.000000   \n",
              "\n",
              "   f7   f8  ...  text_len  words_count  sentence_count  number_percentage  \\\n",
              "0  18   36  ...        96           16               2                0.0   \n",
              "1  90  109  ...        99           15               3                0.0   \n",
              "2   4    6  ...        32            5               2                0.0   \n",
              "3  14   15  ...        81           11               3                0.0   \n",
              "4  26   33  ...        52            8               3                0.0   \n",
              "\n",
              "   caps_percentage  is_empty  id1_pred id1_in_database id2_pred  \\\n",
              "0         0.062500         0         0               0        0   \n",
              "1         0.266667         0         0               0        0   \n",
              "2         0.200000         0         0               0        0   \n",
              "3         0.181818         0         0               0        0   \n",
              "4         0.375000         0         0               0        0   \n",
              "\n",
              "  id2_in_database  \n",
              "0               0  \n",
              "1               0  \n",
              "2               0  \n",
              "3               0  \n",
              "4               0  \n",
              "\n",
              "[5 rows x 21 columns]"
            ]
          },
          "execution_count": 142,
          "metadata": {},
          "output_type": "execute_result"
        }
      ],
      "source": [
        "merged_dataset.head()"
      ]
    },
    {
      "attachments": {},
      "cell_type": "markdown",
      "metadata": {
        "id": "ADe8haA3dP72"
      },
      "source": [
        "## Классификация текстов\n",
        "\n",
        "Вместо того, чтобы конкатенировать векторизированные слова вместе с основными фичами, просто сделаем отдельную классификацию текстов"
      ]
    },
    {
      "cell_type": "code",
      "execution_count": 143,
      "metadata": {
        "id": "SxctlucodP73"
      },
      "outputs": [],
      "source": [
        "from gensim.test.utils import common_texts\n",
        "from gensim.models import Word2Vec, KeyedVectors\n",
        "\n",
        "from navec import Navec\n",
        "\n",
        "navec = Navec.load(\"../model/navec_hudlit_v1_12B_500K_300d_100q.tar\")\n",
        "\n",
        "patterns = \"[A-Za-z0-9!#$%&'()*+,./:;<=>?@[\\]^_`{|}~—\\\"\\-]+\"\n",
        "stopwords_ru = stopwords.words(\"russian\")\n",
        "morph = MorphAnalyzer()"
      ]
    },
    {
      "cell_type": "code",
      "execution_count": 144,
      "metadata": {
        "id": "18wxgCI7dP75"
      },
      "outputs": [],
      "source": [
        "import pickle\n",
        "with open(\"../model/text_cl.pkl\", 'rb') as f:\n",
        "    text_classifier = pickle.load(f) \n",
        "\n",
        "with open(\"../model/tf_idf.pkl\", 'rb') as f:\n",
        "    tf_idf = pickle.load(f)"
      ]
    },
    {
      "cell_type": "code",
      "execution_count": 145,
      "metadata": {
        "id": "JklmQOaqdP76"
      },
      "outputs": [],
      "source": [
        "def text_classification(doc):\n",
        "    local_falls = 0\n",
        "    doc = re.sub(patterns, ' ', doc)\n",
        "    vector = tf_idf.transform([doc])\n",
        "    proba = text_classifier.predict_proba(vector)[0]\n",
        "    for token in doc.split():\n",
        "        token = re.sub(\"[^А-Яа-я]\", '', token)\n",
        "        if token and token not in stopwords_ru:\n",
        "            token = token.strip()\n",
        "            token = morph.normal_forms(token)[0]\n",
        "            try:\n",
        "                navec[token]\n",
        "            except:\n",
        "                local_falls += 1\n",
        "    return *proba, local_falls\n",
        "\n",
        "vector_data = data.apply(lambda x: text_classification(x['text']), axis=1)"
      ]
    },
    {
      "cell_type": "code",
      "execution_count": 146,
      "metadata": {
        "id": "ld0jTqALdP78",
        "outputId": "24abfb94-4011-4391-c77f-38770b852b9d"
      },
      "outputs": [
        {
          "data": {
            "text/plain": [
              "0     (0.4412327999466402, 0.5587672000533598, 2)\n",
              "1    (0.48205227866352807, 0.5179477213364719, 1)\n",
              "2     (0.5875346499393287, 0.4124653500606713, 1)\n",
              "3     (0.4951146734684083, 0.5048853265315917, 0)\n",
              "4    (0.5327510653776146, 0.46724893462238537, 0)\n",
              "dtype: object"
            ]
          },
          "execution_count": 146,
          "metadata": {},
          "output_type": "execute_result"
        }
      ],
      "source": [
        "vector_data.head()"
      ]
    },
    {
      "cell_type": "code",
      "execution_count": 147,
      "metadata": {
        "id": "KkhvTiLLdP79"
      },
      "outputs": [],
      "source": [
        "text_data = vector_data.apply(lambda x: pd.Series(x, index=['text_0', 'text_1', 'falls_count']))"
      ]
    },
    {
      "cell_type": "code",
      "execution_count": 148,
      "metadata": {
        "id": "wL_xGHpxdP7-",
        "outputId": "6624b76e-e475-43ff-8145-2f2f0d7e1552"
      },
      "outputs": [
        {
          "data": {
            "text/html": [
              "<div>\n",
              "<style scoped>\n",
              "    .dataframe tbody tr th:only-of-type {\n",
              "        vertical-align: middle;\n",
              "    }\n",
              "\n",
              "    .dataframe tbody tr th {\n",
              "        vertical-align: top;\n",
              "    }\n",
              "\n",
              "    .dataframe thead th {\n",
              "        text-align: right;\n",
              "    }\n",
              "</style>\n",
              "<table border=\"1\" class=\"dataframe\">\n",
              "  <thead>\n",
              "    <tr style=\"text-align: right;\">\n",
              "      <th></th>\n",
              "      <th>text_0</th>\n",
              "      <th>text_1</th>\n",
              "      <th>falls_count</th>\n",
              "    </tr>\n",
              "  </thead>\n",
              "  <tbody>\n",
              "    <tr>\n",
              "      <th>0</th>\n",
              "      <td>0.441233</td>\n",
              "      <td>0.558767</td>\n",
              "      <td>2.0</td>\n",
              "    </tr>\n",
              "    <tr>\n",
              "      <th>1</th>\n",
              "      <td>0.482052</td>\n",
              "      <td>0.517948</td>\n",
              "      <td>1.0</td>\n",
              "    </tr>\n",
              "    <tr>\n",
              "      <th>2</th>\n",
              "      <td>0.587535</td>\n",
              "      <td>0.412465</td>\n",
              "      <td>1.0</td>\n",
              "    </tr>\n",
              "    <tr>\n",
              "      <th>3</th>\n",
              "      <td>0.495115</td>\n",
              "      <td>0.504885</td>\n",
              "      <td>0.0</td>\n",
              "    </tr>\n",
              "    <tr>\n",
              "      <th>4</th>\n",
              "      <td>0.532751</td>\n",
              "      <td>0.467249</td>\n",
              "      <td>0.0</td>\n",
              "    </tr>\n",
              "  </tbody>\n",
              "</table>\n",
              "</div>"
            ],
            "text/plain": [
              "     text_0    text_1  falls_count\n",
              "0  0.441233  0.558767          2.0\n",
              "1  0.482052  0.517948          1.0\n",
              "2  0.587535  0.412465          1.0\n",
              "3  0.495115  0.504885          0.0\n",
              "4  0.532751  0.467249          0.0"
            ]
          },
          "execution_count": 148,
          "metadata": {},
          "output_type": "execute_result"
        }
      ],
      "source": [
        "text_data.head()"
      ]
    },
    {
      "cell_type": "code",
      "execution_count": 149,
      "metadata": {
        "id": "oBJs6xgAdP8A"
      },
      "outputs": [],
      "source": [
        "full_data = merged_dataset.merge(text_data, left_index=True, right_index=True)"
      ]
    },
    {
      "cell_type": "code",
      "execution_count": 150,
      "metadata": {},
      "outputs": [
        {
          "data": {
            "text/html": [
              "<div>\n",
              "<style scoped>\n",
              "    .dataframe tbody tr th:only-of-type {\n",
              "        vertical-align: middle;\n",
              "    }\n",
              "\n",
              "    .dataframe tbody tr th {\n",
              "        vertical-align: top;\n",
              "    }\n",
              "\n",
              "    .dataframe thead th {\n",
              "        text-align: right;\n",
              "    }\n",
              "</style>\n",
              "<table border=\"1\" class=\"dataframe\">\n",
              "  <thead>\n",
              "    <tr style=\"text-align: right;\">\n",
              "      <th></th>\n",
              "      <th>id1</th>\n",
              "      <th>id2</th>\n",
              "      <th>id3</th>\n",
              "      <th>text</th>\n",
              "      <th>f1</th>\n",
              "      <th>f3</th>\n",
              "      <th>f5</th>\n",
              "      <th>f6</th>\n",
              "      <th>f7</th>\n",
              "      <th>f8</th>\n",
              "      <th>...</th>\n",
              "      <th>number_percentage</th>\n",
              "      <th>caps_percentage</th>\n",
              "      <th>is_empty</th>\n",
              "      <th>id1_pred</th>\n",
              "      <th>id1_in_database</th>\n",
              "      <th>id2_pred</th>\n",
              "      <th>id2_in_database</th>\n",
              "      <th>text_0</th>\n",
              "      <th>text_1</th>\n",
              "      <th>falls_count</th>\n",
              "    </tr>\n",
              "  </thead>\n",
              "  <tbody>\n",
              "    <tr>\n",
              "      <th>0</th>\n",
              "      <td>7596126584852021591</td>\n",
              "      <td>173777575861152844</td>\n",
              "      <td>18254136755182295358</td>\n",
              "      <td>Хотела купить на замену старых,по итогу эти  у...</td>\n",
              "      <td>1</td>\n",
              "      <td>1.0</td>\n",
              "      <td>13</td>\n",
              "      <td>4.272727</td>\n",
              "      <td>18</td>\n",
              "      <td>36</td>\n",
              "      <td>...</td>\n",
              "      <td>0.0</td>\n",
              "      <td>0.062500</td>\n",
              "      <td>0</td>\n",
              "      <td>0</td>\n",
              "      <td>0</td>\n",
              "      <td>0</td>\n",
              "      <td>0</td>\n",
              "      <td>0.441233</td>\n",
              "      <td>0.558767</td>\n",
              "      <td>2.0</td>\n",
              "    </tr>\n",
              "    <tr>\n",
              "      <th>1</th>\n",
              "      <td>5327406586753254371</td>\n",
              "      <td>14366783259208998381</td>\n",
              "      <td>2324030737335224220</td>\n",
              "      <td>Запах по сравнению с обычным DOVE никакой. Оно...</td>\n",
              "      <td>10</td>\n",
              "      <td>2.7</td>\n",
              "      <td>4</td>\n",
              "      <td>4.434783</td>\n",
              "      <td>90</td>\n",
              "      <td>109</td>\n",
              "      <td>...</td>\n",
              "      <td>0.0</td>\n",
              "      <td>0.266667</td>\n",
              "      <td>0</td>\n",
              "      <td>0</td>\n",
              "      <td>0</td>\n",
              "      <td>0</td>\n",
              "      <td>0</td>\n",
              "      <td>0.482052</td>\n",
              "      <td>0.517948</td>\n",
              "      <td>1.0</td>\n",
              "    </tr>\n",
              "    <tr>\n",
              "      <th>2</th>\n",
              "      <td>2636757786779776109</td>\n",
              "      <td>16985421652518589249</td>\n",
              "      <td>4904562693381133981</td>\n",
              "      <td>Кабель подошёл, хорошо работает.</td>\n",
              "      <td>4</td>\n",
              "      <td>4.0</td>\n",
              "      <td>0</td>\n",
              "      <td>4.500000</td>\n",
              "      <td>4</td>\n",
              "      <td>6</td>\n",
              "      <td>...</td>\n",
              "      <td>0.0</td>\n",
              "      <td>0.200000</td>\n",
              "      <td>0</td>\n",
              "      <td>0</td>\n",
              "      <td>0</td>\n",
              "      <td>0</td>\n",
              "      <td>0</td>\n",
              "      <td>0.587535</td>\n",
              "      <td>0.412465</td>\n",
              "      <td>1.0</td>\n",
              "    </tr>\n",
              "    <tr>\n",
              "      <th>3</th>\n",
              "      <td>15432976385014516263</td>\n",
              "      <td>2629180387521298831</td>\n",
              "      <td>13541353053200353836</td>\n",
              "      <td>Восторг! Очень приятный аромат, держится долго...</td>\n",
              "      <td>6</td>\n",
              "      <td>5.0</td>\n",
              "      <td>30</td>\n",
              "      <td>4.772727</td>\n",
              "      <td>14</td>\n",
              "      <td>15</td>\n",
              "      <td>...</td>\n",
              "      <td>0.0</td>\n",
              "      <td>0.181818</td>\n",
              "      <td>0</td>\n",
              "      <td>0</td>\n",
              "      <td>0</td>\n",
              "      <td>0</td>\n",
              "      <td>0</td>\n",
              "      <td>0.495115</td>\n",
              "      <td>0.504885</td>\n",
              "      <td>0.0</td>\n",
              "    </tr>\n",
              "    <tr>\n",
              "      <th>4</th>\n",
              "      <td>11933982800034911890</td>\n",
              "      <td>14531191561111600318</td>\n",
              "      <td>9121890650636487522</td>\n",
              "      <td>Визуально все хорошо. Не пробовали. Купили в п...</td>\n",
              "      <td>19</td>\n",
              "      <td>5.0</td>\n",
              "      <td>4</td>\n",
              "      <td>5.000000</td>\n",
              "      <td>26</td>\n",
              "      <td>33</td>\n",
              "      <td>...</td>\n",
              "      <td>0.0</td>\n",
              "      <td>0.375000</td>\n",
              "      <td>0</td>\n",
              "      <td>0</td>\n",
              "      <td>0</td>\n",
              "      <td>0</td>\n",
              "      <td>0</td>\n",
              "      <td>0.532751</td>\n",
              "      <td>0.467249</td>\n",
              "      <td>0.0</td>\n",
              "    </tr>\n",
              "  </tbody>\n",
              "</table>\n",
              "<p>5 rows × 24 columns</p>\n",
              "</div>"
            ],
            "text/plain": [
              "                    id1                   id2                   id3  \\\n",
              "0   7596126584852021591    173777575861152844  18254136755182295358   \n",
              "1   5327406586753254371  14366783259208998381   2324030737335224220   \n",
              "2   2636757786779776109  16985421652518589249   4904562693381133981   \n",
              "3  15432976385014516263   2629180387521298831  13541353053200353836   \n",
              "4  11933982800034911890  14531191561111600318   9121890650636487522   \n",
              "\n",
              "                                                text  f1   f3  f5        f6  \\\n",
              "0  Хотела купить на замену старых,по итогу эти  у...   1  1.0  13  4.272727   \n",
              "1  Запах по сравнению с обычным DOVE никакой. Оно...  10  2.7   4  4.434783   \n",
              "2                   Кабель подошёл, хорошо работает.   4  4.0   0  4.500000   \n",
              "3  Восторг! Очень приятный аромат, держится долго...   6  5.0  30  4.772727   \n",
              "4  Визуально все хорошо. Не пробовали. Купили в п...  19  5.0   4  5.000000   \n",
              "\n",
              "   f7   f8  ...  number_percentage  caps_percentage  is_empty  id1_pred  \\\n",
              "0  18   36  ...                0.0         0.062500         0         0   \n",
              "1  90  109  ...                0.0         0.266667         0         0   \n",
              "2   4    6  ...                0.0         0.200000         0         0   \n",
              "3  14   15  ...                0.0         0.181818         0         0   \n",
              "4  26   33  ...                0.0         0.375000         0         0   \n",
              "\n",
              "   id1_in_database  id2_pred  id2_in_database    text_0    text_1 falls_count  \n",
              "0                0         0                0  0.441233  0.558767         2.0  \n",
              "1                0         0                0  0.482052  0.517948         1.0  \n",
              "2                0         0                0  0.587535  0.412465         1.0  \n",
              "3                0         0                0  0.495115  0.504885         0.0  \n",
              "4                0         0                0  0.532751  0.467249         0.0  \n",
              "\n",
              "[5 rows x 24 columns]"
            ]
          },
          "execution_count": 150,
          "metadata": {},
          "output_type": "execute_result"
        }
      ],
      "source": [
        "full_data.head()"
      ]
    },
    {
      "cell_type": "code",
      "execution_count": 151,
      "metadata": {
        "id": "BhYOiW2pdP8C"
      },
      "outputs": [],
      "source": [
        "full_data.to_csv(\"./unbalanced_data/full_data.csv\", index=False)"
      ]
    },
    {
      "attachments": {},
      "cell_type": "markdown",
      "metadata": {
        "id": "R6pjV7ODdP8D"
      },
      "source": [
        "# Разделение данных"
      ]
    },
    {
      "cell_type": "code",
      "execution_count": 152,
      "metadata": {
        "id": "gJIqiEd6dP8D",
        "outputId": "8a9b56c7-f57b-4683-baeb-62725515656d"
      },
      "outputs": [
        {
          "data": {
            "text/plain": [
              "(2497, 625)"
            ]
          },
          "execution_count": 152,
          "metadata": {},
          "output_type": "execute_result"
        }
      ],
      "source": [
        "X_train, X_test = train_test_split(full_data, test_size=0.2, stratify=full_data['label'])\n",
        "len(X_train), len(X_test)"
      ]
    },
    {
      "cell_type": "code",
      "execution_count": 153,
      "metadata": {
        "id": "e4-oWNX-dP8E",
        "outputId": "743bb04b-30c4-43e3-b4d2-5ebb34e46441"
      },
      "outputs": [
        {
          "data": {
            "text/plain": [
              "(1997, 500)"
            ]
          },
          "execution_count": 153,
          "metadata": {},
          "output_type": "execute_result"
        }
      ],
      "source": [
        "X_train, X_valid = train_test_split(X_train, test_size=0.2, stratify=X_train['label'])\n",
        "len(X_train), len(X_valid)"
      ]
    },
    {
      "cell_type": "code",
      "execution_count": 154,
      "metadata": {
        "id": "4ZYvCApmdP8J"
      },
      "outputs": [],
      "source": [
        "X_train.to_csv('./unbalanced_data/train_data.csv', index=False)\n",
        "X_test.to_csv('./unbalanced_data/test_data.csv', index=False)\n",
        "X_valid.to_csv('./unbalanced_data/valid_data.csv', index=False)"
      ]
    },
    {
      "attachments": {},
      "cell_type": "markdown",
      "metadata": {
        "id": "1mo9xorjdP8K"
      },
      "source": [
        "### Сбалансированные классы"
      ]
    },
    {
      "cell_type": "code",
      "execution_count": 155,
      "metadata": {
        "id": "WEm4ZejsdP8L",
        "outputId": "24a5b8bb-5c18-4fdf-a870-6980f0279336"
      },
      "outputs": [
        {
          "data": {
            "text/plain": [
              "528"
            ]
          },
          "execution_count": 155,
          "metadata": {},
          "output_type": "execute_result"
        }
      ],
      "source": [
        "(X_train['label']==1).sum()"
      ]
    },
    {
      "cell_type": "code",
      "execution_count": 156,
      "metadata": {
        "id": "IMTjs8HOdP8M"
      },
      "outputs": [],
      "source": [
        "cutted_x = X_train.sort_values(by='label', ascending=False, ignore_index=True).loc[:(X_train['label']==1).sum()*2]\n",
        "cutted_x = cutted_x.sample(frac=1).reset_index(drop=True)\n",
        "cutted_x.to_csv('./cutted_data/train_data.csv', index=False)"
      ]
    },
    {
      "cell_type": "code",
      "execution_count": 157,
      "metadata": {
        "id": "5rCW9-hSdP8M"
      },
      "outputs": [],
      "source": [
        "cutted_x = X_valid.sort_values(by='label', ascending=False, ignore_index=True).loc[:(X_valid['label']==1).sum()*2]\n",
        "cutted_x = cutted_x.sample(frac=1).reset_index(drop=True)\n",
        "cutted_x.to_csv('./cutted_data/valid_data.csv', index=False)"
      ]
    },
    {
      "cell_type": "code",
      "execution_count": 158,
      "metadata": {
        "id": "Nta7HSCydP8N"
      },
      "outputs": [],
      "source": [
        "cutted_x = X_test.sort_values(by='label', ascending=False, ignore_index=True).loc[:(X_test['label']==1).sum()*2]\n",
        "cutted_x = cutted_x.sample(frac=1).reset_index(drop=True)\n",
        "cutted_x.to_csv('./cutted_data/test_data.csv', index=False)"
      ]
    },
    {
      "attachments": {},
      "cell_type": "markdown",
      "metadata": {
        "id": "01ju81FldP8O"
      },
      "source": [
        "# CatBoost"
      ]
    },
    {
      "cell_type": "code",
      "execution_count": 1,
      "metadata": {
        "id": "axSTSlbwdP8P"
      },
      "outputs": [
        {
          "name": "stderr",
          "output_type": "stream",
          "text": [
            "/home/buldakovn/.local/lib/python3.10/site-packages/tqdm/auto.py:21: TqdmWarning: IProgress not found. Please update jupyter and ipywidgets. See https://ipywidgets.readthedocs.io/en/stable/user_install.html\n",
            "  from .autonotebook import tqdm as notebook_tqdm\n"
          ]
        }
      ],
      "source": [
        "from catboost import CatBoostClassifier\n",
        "import optuna\n",
        "import pandas as pd\n",
        "from sklearn.metrics import f1_score, recall_score, precision_score"
      ]
    },
    {
      "cell_type": "code",
      "execution_count": 2,
      "metadata": {
        "id": "r-892cqadP8Q",
        "outputId": "0ec2fc29-70f8-4f0e-ed8e-b0b1313682ce"
      },
      "outputs": [
        {
          "data": {
            "text/plain": [
              "1997"
            ]
          },
          "execution_count": 2,
          "metadata": {},
          "output_type": "execute_result"
        }
      ],
      "source": [
        "data_train = pd.read_csv('./unbalanced_data/train_data.csv')\n",
        "Y_train = data_train['label']\n",
        "X_train = data_train.drop(['label', 'id1', 'id2', 'id3', 'text'], axis=1)\n",
        "len(X_train)"
      ]
    },
    {
      "cell_type": "code",
      "execution_count": 3,
      "metadata": {},
      "outputs": [
        {
          "data": {
            "text/html": [
              "<div>\n",
              "<style scoped>\n",
              "    .dataframe tbody tr th:only-of-type {\n",
              "        vertical-align: middle;\n",
              "    }\n",
              "\n",
              "    .dataframe tbody tr th {\n",
              "        vertical-align: top;\n",
              "    }\n",
              "\n",
              "    .dataframe thead th {\n",
              "        text-align: right;\n",
              "    }\n",
              "</style>\n",
              "<table border=\"1\" class=\"dataframe\">\n",
              "  <thead>\n",
              "    <tr style=\"text-align: right;\">\n",
              "      <th></th>\n",
              "      <th>f1</th>\n",
              "      <th>f3</th>\n",
              "      <th>f5</th>\n",
              "      <th>f6</th>\n",
              "      <th>f7</th>\n",
              "      <th>f8</th>\n",
              "      <th>text_len</th>\n",
              "      <th>words_count</th>\n",
              "      <th>sentence_count</th>\n",
              "      <th>number_percentage</th>\n",
              "      <th>caps_percentage</th>\n",
              "      <th>is_empty</th>\n",
              "      <th>id1_pred</th>\n",
              "      <th>id1_in_database</th>\n",
              "      <th>id2_pred</th>\n",
              "      <th>id2_in_database</th>\n",
              "      <th>text_0</th>\n",
              "      <th>text_1</th>\n",
              "      <th>falls_count</th>\n",
              "    </tr>\n",
              "  </thead>\n",
              "  <tbody>\n",
              "    <tr>\n",
              "      <th>0</th>\n",
              "      <td>4</td>\n",
              "      <td>2.750000</td>\n",
              "      <td>3</td>\n",
              "      <td>5.000000</td>\n",
              "      <td>7</td>\n",
              "      <td>8</td>\n",
              "      <td>96</td>\n",
              "      <td>16</td>\n",
              "      <td>5</td>\n",
              "      <td>0.0</td>\n",
              "      <td>0.250000</td>\n",
              "      <td>0</td>\n",
              "      <td>0.0</td>\n",
              "      <td>0</td>\n",
              "      <td>0.000000</td>\n",
              "      <td>0</td>\n",
              "      <td>0.469859</td>\n",
              "      <td>0.530141</td>\n",
              "      <td>1.0</td>\n",
              "    </tr>\n",
              "    <tr>\n",
              "      <th>1</th>\n",
              "      <td>37</td>\n",
              "      <td>4.945946</td>\n",
              "      <td>3070</td>\n",
              "      <td>4.157873</td>\n",
              "      <td>71</td>\n",
              "      <td>74</td>\n",
              "      <td>81</td>\n",
              "      <td>12</td>\n",
              "      <td>5</td>\n",
              "      <td>0.0</td>\n",
              "      <td>0.333333</td>\n",
              "      <td>0</td>\n",
              "      <td>0.0</td>\n",
              "      <td>0</td>\n",
              "      <td>0.666667</td>\n",
              "      <td>1</td>\n",
              "      <td>0.560994</td>\n",
              "      <td>0.439006</td>\n",
              "      <td>0.0</td>\n",
              "    </tr>\n",
              "    <tr>\n",
              "      <th>2</th>\n",
              "      <td>3</td>\n",
              "      <td>5.000000</td>\n",
              "      <td>907</td>\n",
              "      <td>4.751469</td>\n",
              "      <td>12</td>\n",
              "      <td>15</td>\n",
              "      <td>49</td>\n",
              "      <td>7</td>\n",
              "      <td>1</td>\n",
              "      <td>0.0</td>\n",
              "      <td>0.142857</td>\n",
              "      <td>0</td>\n",
              "      <td>0.0</td>\n",
              "      <td>0</td>\n",
              "      <td>0.000000</td>\n",
              "      <td>0</td>\n",
              "      <td>0.596021</td>\n",
              "      <td>0.403979</td>\n",
              "      <td>0.0</td>\n",
              "    </tr>\n",
              "    <tr>\n",
              "      <th>3</th>\n",
              "      <td>530</td>\n",
              "      <td>4.349057</td>\n",
              "      <td>0</td>\n",
              "      <td>5.000000</td>\n",
              "      <td>873</td>\n",
              "      <td>2123</td>\n",
              "      <td>87</td>\n",
              "      <td>13</td>\n",
              "      <td>4</td>\n",
              "      <td>0.0</td>\n",
              "      <td>0.307692</td>\n",
              "      <td>0</td>\n",
              "      <td>1.0</td>\n",
              "      <td>1</td>\n",
              "      <td>0.000000</td>\n",
              "      <td>0</td>\n",
              "      <td>0.436426</td>\n",
              "      <td>0.563574</td>\n",
              "      <td>1.0</td>\n",
              "    </tr>\n",
              "    <tr>\n",
              "      <th>4</th>\n",
              "      <td>55</td>\n",
              "      <td>4.600000</td>\n",
              "      <td>217</td>\n",
              "      <td>4.380795</td>\n",
              "      <td>156</td>\n",
              "      <td>980</td>\n",
              "      <td>21</td>\n",
              "      <td>3</td>\n",
              "      <td>3</td>\n",
              "      <td>0.0</td>\n",
              "      <td>0.666667</td>\n",
              "      <td>0</td>\n",
              "      <td>0.0</td>\n",
              "      <td>0</td>\n",
              "      <td>0.000000</td>\n",
              "      <td>0</td>\n",
              "      <td>0.604840</td>\n",
              "      <td>0.395160</td>\n",
              "      <td>0.0</td>\n",
              "    </tr>\n",
              "  </tbody>\n",
              "</table>\n",
              "</div>"
            ],
            "text/plain": [
              "    f1        f3    f5        f6   f7    f8  text_len  words_count   \n",
              "0    4  2.750000     3  5.000000    7     8        96           16  \\\n",
              "1   37  4.945946  3070  4.157873   71    74        81           12   \n",
              "2    3  5.000000   907  4.751469   12    15        49            7   \n",
              "3  530  4.349057     0  5.000000  873  2123        87           13   \n",
              "4   55  4.600000   217  4.380795  156   980        21            3   \n",
              "\n",
              "   sentence_count  number_percentage  caps_percentage  is_empty  id1_pred   \n",
              "0               5                0.0         0.250000         0       0.0  \\\n",
              "1               5                0.0         0.333333         0       0.0   \n",
              "2               1                0.0         0.142857         0       0.0   \n",
              "3               4                0.0         0.307692         0       1.0   \n",
              "4               3                0.0         0.666667         0       0.0   \n",
              "\n",
              "   id1_in_database  id2_pred  id2_in_database    text_0    text_1  falls_count  \n",
              "0                0  0.000000                0  0.469859  0.530141          1.0  \n",
              "1                0  0.666667                1  0.560994  0.439006          0.0  \n",
              "2                0  0.000000                0  0.596021  0.403979          0.0  \n",
              "3                1  0.000000                0  0.436426  0.563574          1.0  \n",
              "4                0  0.000000                0  0.604840  0.395160          0.0  "
            ]
          },
          "execution_count": 3,
          "metadata": {},
          "output_type": "execute_result"
        }
      ],
      "source": [
        "X_train.head()"
      ]
    },
    {
      "cell_type": "code",
      "execution_count": 4,
      "metadata": {
        "id": "bHUcVb7tdP8R",
        "outputId": "9554d407-36a9-4743-ba0e-b970557164f0"
      },
      "outputs": [
        {
          "data": {
            "text/plain": [
              "(528, 1469)"
            ]
          },
          "execution_count": 4,
          "metadata": {},
          "output_type": "execute_result"
        }
      ],
      "source": [
        "cl_train_0 = sum(Y_train==0)\n",
        "cl_train_1 = sum(Y_train==1)\n",
        "sum(Y_train==1), sum(Y_train==0)"
      ]
    },
    {
      "cell_type": "code",
      "execution_count": 5,
      "metadata": {
        "id": "OXBt-RHcdP8S",
        "outputId": "902e93ff-71af-4cca-8479-123b982bbb0e"
      },
      "outputs": [
        {
          "data": {
            "text/plain": [
              "500"
            ]
          },
          "execution_count": 5,
          "metadata": {},
          "output_type": "execute_result"
        }
      ],
      "source": [
        "data_valid = pd.read_csv('./unbalanced_data/valid_data.csv')\n",
        "Y_valid = data_valid['label']\n",
        "X_valid = data_valid.drop(['label', 'id1', 'id2', 'id3', 'text'], axis=1)\n",
        "len(X_valid)"
      ]
    },
    {
      "cell_type": "code",
      "execution_count": 6,
      "metadata": {},
      "outputs": [
        {
          "data": {
            "text/html": [
              "<div>\n",
              "<style scoped>\n",
              "    .dataframe tbody tr th:only-of-type {\n",
              "        vertical-align: middle;\n",
              "    }\n",
              "\n",
              "    .dataframe tbody tr th {\n",
              "        vertical-align: top;\n",
              "    }\n",
              "\n",
              "    .dataframe thead th {\n",
              "        text-align: right;\n",
              "    }\n",
              "</style>\n",
              "<table border=\"1\" class=\"dataframe\">\n",
              "  <thead>\n",
              "    <tr style=\"text-align: right;\">\n",
              "      <th></th>\n",
              "      <th>f1</th>\n",
              "      <th>f3</th>\n",
              "      <th>f5</th>\n",
              "      <th>f6</th>\n",
              "      <th>f7</th>\n",
              "      <th>f8</th>\n",
              "      <th>text_len</th>\n",
              "      <th>words_count</th>\n",
              "      <th>sentence_count</th>\n",
              "      <th>number_percentage</th>\n",
              "      <th>caps_percentage</th>\n",
              "      <th>is_empty</th>\n",
              "      <th>id1_pred</th>\n",
              "      <th>id1_in_database</th>\n",
              "      <th>id2_pred</th>\n",
              "      <th>id2_in_database</th>\n",
              "      <th>text_0</th>\n",
              "      <th>text_1</th>\n",
              "      <th>falls_count</th>\n",
              "    </tr>\n",
              "  </thead>\n",
              "  <tbody>\n",
              "    <tr>\n",
              "      <th>0</th>\n",
              "      <td>1</td>\n",
              "      <td>1.000000</td>\n",
              "      <td>17</td>\n",
              "      <td>4.651316</td>\n",
              "      <td>2</td>\n",
              "      <td>6</td>\n",
              "      <td>175</td>\n",
              "      <td>28</td>\n",
              "      <td>7</td>\n",
              "      <td>0.000000</td>\n",
              "      <td>0.214286</td>\n",
              "      <td>0</td>\n",
              "      <td>0.0</td>\n",
              "      <td>0</td>\n",
              "      <td>0.0</td>\n",
              "      <td>0</td>\n",
              "      <td>0.435405</td>\n",
              "      <td>0.564595</td>\n",
              "      <td>2.0</td>\n",
              "    </tr>\n",
              "    <tr>\n",
              "      <th>1</th>\n",
              "      <td>2</td>\n",
              "      <td>4.000000</td>\n",
              "      <td>2</td>\n",
              "      <td>5.000000</td>\n",
              "      <td>4</td>\n",
              "      <td>7</td>\n",
              "      <td>917</td>\n",
              "      <td>133</td>\n",
              "      <td>7</td>\n",
              "      <td>0.135338</td>\n",
              "      <td>0.105263</td>\n",
              "      <td>0</td>\n",
              "      <td>0.0</td>\n",
              "      <td>0</td>\n",
              "      <td>0.0</td>\n",
              "      <td>0</td>\n",
              "      <td>0.488095</td>\n",
              "      <td>0.511905</td>\n",
              "      <td>3.0</td>\n",
              "    </tr>\n",
              "    <tr>\n",
              "      <th>2</th>\n",
              "      <td>1</td>\n",
              "      <td>5.000000</td>\n",
              "      <td>34</td>\n",
              "      <td>4.651786</td>\n",
              "      <td>1</td>\n",
              "      <td>3</td>\n",
              "      <td>55</td>\n",
              "      <td>10</td>\n",
              "      <td>1</td>\n",
              "      <td>0.100000</td>\n",
              "      <td>0.100000</td>\n",
              "      <td>0</td>\n",
              "      <td>0.0</td>\n",
              "      <td>0</td>\n",
              "      <td>0.0</td>\n",
              "      <td>0</td>\n",
              "      <td>0.454640</td>\n",
              "      <td>0.545360</td>\n",
              "      <td>1.0</td>\n",
              "    </tr>\n",
              "    <tr>\n",
              "      <th>3</th>\n",
              "      <td>19</td>\n",
              "      <td>4.894737</td>\n",
              "      <td>26</td>\n",
              "      <td>4.821429</td>\n",
              "      <td>51</td>\n",
              "      <td>124</td>\n",
              "      <td>240</td>\n",
              "      <td>41</td>\n",
              "      <td>5</td>\n",
              "      <td>0.024390</td>\n",
              "      <td>0.097561</td>\n",
              "      <td>0</td>\n",
              "      <td>0.0</td>\n",
              "      <td>0</td>\n",
              "      <td>0.0</td>\n",
              "      <td>0</td>\n",
              "      <td>0.475857</td>\n",
              "      <td>0.524143</td>\n",
              "      <td>0.0</td>\n",
              "    </tr>\n",
              "    <tr>\n",
              "      <th>4</th>\n",
              "      <td>2</td>\n",
              "      <td>5.000000</td>\n",
              "      <td>149</td>\n",
              "      <td>4.816749</td>\n",
              "      <td>2</td>\n",
              "      <td>2</td>\n",
              "      <td>87</td>\n",
              "      <td>12</td>\n",
              "      <td>1</td>\n",
              "      <td>0.000000</td>\n",
              "      <td>0.083333</td>\n",
              "      <td>0</td>\n",
              "      <td>0.0</td>\n",
              "      <td>0</td>\n",
              "      <td>0.0</td>\n",
              "      <td>0</td>\n",
              "      <td>0.529561</td>\n",
              "      <td>0.470439</td>\n",
              "      <td>0.0</td>\n",
              "    </tr>\n",
              "  </tbody>\n",
              "</table>\n",
              "</div>"
            ],
            "text/plain": [
              "   f1        f3   f5        f6  f7   f8  text_len  words_count   \n",
              "0   1  1.000000   17  4.651316   2    6       175           28  \\\n",
              "1   2  4.000000    2  5.000000   4    7       917          133   \n",
              "2   1  5.000000   34  4.651786   1    3        55           10   \n",
              "3  19  4.894737   26  4.821429  51  124       240           41   \n",
              "4   2  5.000000  149  4.816749   2    2        87           12   \n",
              "\n",
              "   sentence_count  number_percentage  caps_percentage  is_empty  id1_pred   \n",
              "0               7           0.000000         0.214286         0       0.0  \\\n",
              "1               7           0.135338         0.105263         0       0.0   \n",
              "2               1           0.100000         0.100000         0       0.0   \n",
              "3               5           0.024390         0.097561         0       0.0   \n",
              "4               1           0.000000         0.083333         0       0.0   \n",
              "\n",
              "   id1_in_database  id2_pred  id2_in_database    text_0    text_1  falls_count  \n",
              "0                0       0.0                0  0.435405  0.564595          2.0  \n",
              "1                0       0.0                0  0.488095  0.511905          3.0  \n",
              "2                0       0.0                0  0.454640  0.545360          1.0  \n",
              "3                0       0.0                0  0.475857  0.524143          0.0  \n",
              "4                0       0.0                0  0.529561  0.470439          0.0  "
            ]
          },
          "execution_count": 6,
          "metadata": {},
          "output_type": "execute_result"
        }
      ],
      "source": [
        "X_valid.head()"
      ]
    },
    {
      "cell_type": "code",
      "execution_count": 7,
      "metadata": {
        "id": "H_OkyBhudP8T",
        "outputId": "598048f8-58a3-4eff-ab26-9fdd5566d1bf"
      },
      "outputs": [
        {
          "data": {
            "text/plain": [
              "(132, 368)"
            ]
          },
          "execution_count": 7,
          "metadata": {},
          "output_type": "execute_result"
        }
      ],
      "source": [
        "sum(Y_valid==1), sum(Y_valid==0)"
      ]
    },
    {
      "cell_type": "code",
      "execution_count": 31,
      "metadata": {},
      "outputs": [
        {
          "data": {
            "text/plain": [
              "Index(['f1', 'f3', 'f5', 'f6', 'f7', 'f8', 'text_len', 'words_count',\n",
              "       'sentence_count', 'number_percentage', 'caps_percentage', 'is_empty',\n",
              "       'id1_pred', 'id1_in_database', 'id2_pred', 'id2_in_database', 'text_0',\n",
              "       'text_1', 'falls_count'],\n",
              "      dtype='object')"
            ]
          },
          "execution_count": 31,
          "metadata": {},
          "output_type": "execute_result"
        }
      ],
      "source": [
        "X_train.columns"
      ]
    },
    {
      "cell_type": "code",
      "execution_count": 32,
      "metadata": {},
      "outputs": [],
      "source": [
        "X_train_l = X_train[['f1', 'f3', 'f5', 'f6', 'f7', 'f8', 'text_len', 'words_count',\n",
        "       'sentence_count', 'number_percentage', 'caps_percentage', 'is_empty',\n",
        "       'text_0', 'text_1', 'falls_count']]\n",
        "\n",
        "X_valid_l = X_valid[['f1', 'f3', 'f5', 'f6', 'f7', 'f8', 'text_len', 'words_count',\n",
        "       'sentence_count', 'number_percentage', 'caps_percentage', 'is_empty',\n",
        "       'text_0', 'text_1', 'falls_count']]\n",
        "\n",
        "X_test_l = X_test[['f1', 'f3', 'f5', 'f6', 'f7', 'f8', 'text_len', 'words_count',\n",
        "       'sentence_count', 'number_percentage', 'caps_percentage', 'is_empty',\n",
        "       'text_0', 'text_1', 'falls_count']]"
      ]
    },
    {
      "cell_type": "code",
      "execution_count": 51,
      "metadata": {
        "id": "hSH9OXjNdP8U"
      },
      "outputs": [],
      "source": [
        "def objective(trial):\n",
        "    model = CatBoostClassifier(\n",
        "        iterations=trial.suggest_int(\"iterations\", 120, 200),\n",
        "        learning_rate=trial.suggest_float(\"learning_rate\", 1e-3, 1e-1),\n",
        "        depth=trial.suggest_int(\"depth\", 10, 16),\n",
        "        l2_leaf_reg=trial.suggest_float(\"l2_leaf_reg\", 1e-8, 100.0, log=True),\n",
        "        random_strength=trial.suggest_float(\"random_strength\", 1e-8, 10.0),\n",
        "        eval_metric='F1',\n",
        "        class_weights=(cl_train_1, cl_train_0),\n",
        "        verbose=False,\n",
        "        random_state = 42,\n",
        "        thread_count=-1\n",
        "    )\n",
        "    model.fit(X_train_l, Y_train,\n",
        "              eval_set=(X_valid_l, Y_valid),\n",
        "              early_stopping_rounds=20,\n",
        "              verbose=False)\n",
        "    pred = model.predict(X_valid_l)\n",
        "    return f1_score(Y_valid, pred, average='weighted')"
      ]
    },
    {
      "cell_type": "code",
      "execution_count": 52,
      "metadata": {
        "id": "vPrzRIqAdP8V",
        "outputId": "3a608341-8532-4e9d-9e04-e424ec2532ba"
      },
      "outputs": [
        {
          "name": "stderr",
          "output_type": "stream",
          "text": [
            "[I 2023-06-20 20:43:39,788] A new study created in memory with name: classifier_CatBoost\n",
            "[I 2023-06-20 20:43:46,737] Trial 0 finished with value: 0.7541469859620149 and parameters: {'iterations': 156, 'learning_rate': 0.06861824204264667, 'depth': 14, 'l2_leaf_reg': 0.00024724417206074747, 'random_strength': 9.25631095011464}. Best is trial 0 with value: 0.7541469859620149.\n",
            "[I 2023-06-20 20:43:47,635] Trial 1 finished with value: 0.7354849688031765 and parameters: {'iterations': 157, 'learning_rate': 0.058857683267524524, 'depth': 11, 'l2_leaf_reg': 0.02673479659875738, 'random_strength': 6.012141187936315}. Best is trial 0 with value: 0.7541469859620149.\n",
            "[I 2023-06-20 20:43:53,920] Trial 2 finished with value: 0.7641980035374443 and parameters: {'iterations': 148, 'learning_rate': 0.027542792665933877, 'depth': 13, 'l2_leaf_reg': 6.308849340769853e-08, 'random_strength': 2.933887293532255}. Best is trial 2 with value: 0.7641980035374443.\n",
            "[I 2023-06-20 20:43:59,883] Trial 3 finished with value: 0.7558588235294118 and parameters: {'iterations': 124, 'learning_rate': 0.027824994947280017, 'depth': 13, 'l2_leaf_reg': 0.00035797866060917544, 'random_strength': 6.879504869212255}. Best is trial 2 with value: 0.7641980035374443.\n",
            "[I 2023-06-20 20:44:04,512] Trial 4 finished with value: 0.7914937487529139 and parameters: {'iterations': 162, 'learning_rate': 0.09812763680653458, 'depth': 13, 'l2_leaf_reg': 7.213176387976182e-08, 'random_strength': 9.672568169605986}. Best is trial 4 with value: 0.7914937487529139.\n",
            "[I 2023-06-20 20:44:29,359] Trial 5 finished with value: 0.7688969688777751 and parameters: {'iterations': 127, 'learning_rate': 0.09582061473511505, 'depth': 15, 'l2_leaf_reg': 2.208436035446935e-08, 'random_strength': 2.4671601443990583}. Best is trial 4 with value: 0.7914937487529139.\n",
            "[I 2023-06-20 20:45:03,912] Trial 6 finished with value: 0.7216572096083353 and parameters: {'iterations': 168, 'learning_rate': 0.020597058479576612, 'depth': 16, 'l2_leaf_reg': 4.911918395133304, 'random_strength': 6.654052744201393}. Best is trial 4 with value: 0.7914937487529139.\n",
            "[I 2023-06-20 20:45:06,123] Trial 7 finished with value: 0.7727447065940714 and parameters: {'iterations': 175, 'learning_rate': 0.059839363597172096, 'depth': 12, 'l2_leaf_reg': 0.0050867941903423005, 'random_strength': 0.4072477463019009}. Best is trial 4 with value: 0.7914937487529139.\n",
            "[I 2023-06-20 20:45:20,572] Trial 8 finished with value: 0.7703289084073592 and parameters: {'iterations': 135, 'learning_rate': 0.03167474987774923, 'depth': 14, 'l2_leaf_reg': 0.012155650297010302, 'random_strength': 0.26414523412210217}. Best is trial 4 with value: 0.7914937487529139.\n",
            "[I 2023-06-20 20:45:38,874] Trial 9 finished with value: 0.7579884393063585 and parameters: {'iterations': 183, 'learning_rate': 0.08555371398321233, 'depth': 15, 'l2_leaf_reg': 0.22125179656282862, 'random_strength': 8.534671409630542}. Best is trial 4 with value: 0.7914937487529139.\n",
            "[I 2023-06-20 20:45:39,307] Trial 10 finished with value: 0.7354849688031765 and parameters: {'iterations': 195, 'learning_rate': 0.08018938176042331, 'depth': 10, 'l2_leaf_reg': 2.3494247005735804e-06, 'random_strength': 9.308601907805052}. Best is trial 4 with value: 0.7914937487529139.\n",
            "[I 2023-06-20 20:45:40,769] Trial 11 finished with value: 0.7257995986098195 and parameters: {'iterations': 175, 'learning_rate': 0.09906561696511049, 'depth': 12, 'l2_leaf_reg': 7.485030073894363e-06, 'random_strength': 4.333413646381576}. Best is trial 4 with value: 0.7914937487529139.\n",
            "[I 2023-06-20 20:45:42,831] Trial 12 finished with value: 0.7641980035374443 and parameters: {'iterations': 187, 'learning_rate': 0.051096265690407705, 'depth': 12, 'l2_leaf_reg': 1.7687530404196582e-05, 'random_strength': 0.7155045370704562}. Best is trial 4 with value: 0.7914937487529139.\n",
            "[I 2023-06-20 20:45:44,348] Trial 13 finished with value: 0.7257995986098195 and parameters: {'iterations': 171, 'learning_rate': 0.0015584339864352578, 'depth': 12, 'l2_leaf_reg': 2.8566929494871536e-07, 'random_strength': 4.894258471474605}. Best is trial 4 with value: 0.7914937487529139.\n",
            "[I 2023-06-20 20:45:44,901] Trial 14 finished with value: 0.7354849688031765 and parameters: {'iterations': 151, 'learning_rate': 0.0704447391356687, 'depth': 10, 'l2_leaf_reg': 83.66154131706908, 'random_strength': 8.043690985131377}. Best is trial 4 with value: 0.7914937487529139.\n",
            "[I 2023-06-20 20:45:45,779] Trial 15 finished with value: 0.7354849688031765 and parameters: {'iterations': 140, 'learning_rate': 0.08428961525599869, 'depth': 11, 'l2_leaf_reg': 0.00013725966034906832, 'random_strength': 9.772416537060389}. Best is trial 4 with value: 0.7914937487529139.\n",
            "[I 2023-06-20 20:45:52,380] Trial 16 finished with value: 0.7576687574165114 and parameters: {'iterations': 166, 'learning_rate': 0.0480296011982658, 'depth': 14, 'l2_leaf_reg': 3.4999022206739474e-07, 'random_strength': 7.687041963464717}. Best is trial 4 with value: 0.7914937487529139.\n",
            "[I 2023-06-20 20:45:53,271] Trial 17 finished with value: 0.7354849688031765 and parameters: {'iterations': 182, 'learning_rate': 0.06916850789241928, 'depth': 11, 'l2_leaf_reg': 0.01157886291121488, 'random_strength': 5.736667467692043}. Best is trial 4 with value: 0.7914937487529139.\n",
            "[I 2023-06-20 20:45:56,431] Trial 18 finished with value: 0.7411141792680254 and parameters: {'iterations': 200, 'learning_rate': 0.09367489883369333, 'depth': 13, 'l2_leaf_reg': 3.890194539761784e-05, 'random_strength': 4.330560773401073}. Best is trial 4 with value: 0.7914937487529139.\n",
            "[I 2023-06-20 20:45:57,891] Trial 19 finished with value: 0.7257995986098195 and parameters: {'iterations': 162, 'learning_rate': 0.07804561421749129, 'depth': 12, 'l2_leaf_reg': 0.0017063077547342276, 'random_strength': 1.655265391781165}. Best is trial 4 with value: 0.7914937487529139.\n",
            "[I 2023-06-20 20:46:02,432] Trial 20 finished with value: 0.7826693646297046 and parameters: {'iterations': 177, 'learning_rate': 0.09972544652414128, 'depth': 13, 'l2_leaf_reg': 1.0146258899733041e-08, 'random_strength': 3.3770837782921856}. Best is trial 4 with value: 0.7914937487529139.\n",
            "[I 2023-06-20 20:46:06,945] Trial 21 finished with value: 0.7826693646297046 and parameters: {'iterations': 177, 'learning_rate': 0.09937274371801051, 'depth': 13, 'l2_leaf_reg': 1.2691168273340263e-08, 'random_strength': 3.358611994707925}. Best is trial 4 with value: 0.7914937487529139.\n",
            "[I 2023-06-20 20:46:13,330] Trial 22 finished with value: 0.7712839140591584 and parameters: {'iterations': 188, 'learning_rate': 0.09160672436289995, 'depth': 13, 'l2_leaf_reg': 1.044924427090708e-08, 'random_strength': 3.6077396264300865}. Best is trial 4 with value: 0.7914937487529139.\n",
            "[I 2023-06-20 20:46:21,989] Trial 23 finished with value: 0.7611893526920751 and parameters: {'iterations': 177, 'learning_rate': 0.0975834430508247, 'depth': 14, 'l2_leaf_reg': 1.2170192845815656e-07, 'random_strength': 3.400935398493374}. Best is trial 4 with value: 0.7914937487529139.\n",
            "[I 2023-06-20 20:46:28,782] Trial 24 finished with value: 0.783017199017199 and parameters: {'iterations': 163, 'learning_rate': 0.09996996290867548, 'depth': 13, 'l2_leaf_reg': 1.4110956189294846e-08, 'random_strength': 2.0673727002844045}. Best is trial 4 with value: 0.7914937487529139.\n",
            "[I 2023-06-20 20:46:52,041] Trial 25 finished with value: 0.7696361624782677 and parameters: {'iterations': 162, 'learning_rate': 0.08825008173031747, 'depth': 15, 'l2_leaf_reg': 1.1435428645586972e-06, 'random_strength': 1.949150061478335}. Best is trial 4 with value: 0.7914937487529139.\n",
            "[I 2023-06-20 20:47:00,006] Trial 26 finished with value: 0.7326300093196645 and parameters: {'iterations': 148, 'learning_rate': 0.0904042321946654, 'depth': 14, 'l2_leaf_reg': 7.544491432381231e-08, 'random_strength': 1.4113261070373495}. Best is trial 4 with value: 0.7914937487529139.\n",
            "[I 2023-06-20 20:47:04,194] Trial 27 finished with value: 0.767127444274089 and parameters: {'iterations': 140, 'learning_rate': 0.09994150566717246, 'depth': 13, 'l2_leaf_reg': 8.918787350195535e-07, 'random_strength': 2.473105704625997}. Best is trial 4 with value: 0.7914937487529139.\n",
            "[I 2023-06-20 20:47:44,848] Trial 28 finished with value: 0.7605028571428573 and parameters: {'iterations': 153, 'learning_rate': 0.08005183725746497, 'depth': 16, 'l2_leaf_reg': 4.5676538255488196e-08, 'random_strength': 9.96016889950068}. Best is trial 4 with value: 0.7914937487529139.\n",
            "[I 2023-06-20 20:47:50,917] Trial 29 finished with value: 0.7459159488432459 and parameters: {'iterations': 162, 'learning_rate': 0.0888309827090645, 'depth': 14, 'l2_leaf_reg': 3.51496781306817e-06, 'random_strength': 4.231884685123307}. Best is trial 4 with value: 0.7914937487529139.\n",
            "[I 2023-06-20 20:47:57,620] Trial 30 finished with value: 0.7759542857142856 and parameters: {'iterations': 170, 'learning_rate': 0.07472361945403075, 'depth': 13, 'l2_leaf_reg': 3.1327709109313735e-07, 'random_strength': 5.392087538388411}. Best is trial 4 with value: 0.7914937487529139.\n",
            "[I 2023-06-20 20:48:02,131] Trial 31 finished with value: 0.7879624852776524 and parameters: {'iterations': 179, 'learning_rate': 0.09344358983915228, 'depth': 13, 'l2_leaf_reg': 1.0524765489369918e-08, 'random_strength': 3.2507141005336306}. Best is trial 4 with value: 0.7914937487529139.\n",
            "[I 2023-06-20 20:48:06,524] Trial 32 finished with value: 0.7879624852776524 and parameters: {'iterations': 157, 'learning_rate': 0.09335972574655317, 'depth': 13, 'l2_leaf_reg': 1.138161941414364e-08, 'random_strength': 2.7372833174478135}. Best is trial 4 with value: 0.7914937487529139.\n",
            "[I 2023-06-20 20:48:08,274] Trial 33 finished with value: 0.7257995986098195 and parameters: {'iterations': 159, 'learning_rate': 0.08519356666363806, 'depth': 12, 'l2_leaf_reg': 5.466481035240917e-08, 'random_strength': 2.425764407186214}. Best is trial 4 with value: 0.7914937487529139.\n",
            "[I 2023-06-20 20:48:16,213] Trial 34 finished with value: 0.7272426850258178 and parameters: {'iterations': 155, 'learning_rate': 0.09437346702212254, 'depth': 14, 'l2_leaf_reg': 4.447369163680983e-08, 'random_strength': 1.164675557395495}. Best is trial 4 with value: 0.7914937487529139.\n",
            "[I 2023-06-20 20:48:22,928] Trial 35 finished with value: 0.7794853438880284 and parameters: {'iterations': 146, 'learning_rate': 0.09229568063269356, 'depth': 13, 'l2_leaf_reg': 1.2081663626277923e-07, 'random_strength': 2.1330676200105305}. Best is trial 4 with value: 0.7914937487529139.\n",
            "[I 2023-06-20 20:48:23,834] Trial 36 finished with value: 0.7354849688031765 and parameters: {'iterations': 157, 'learning_rate': 0.08602885418398695, 'depth': 11, 'l2_leaf_reg': 2.6192966447012503e-08, 'random_strength': 2.9314846983339033}. Best is trial 4 with value: 0.7914937487529139.\n",
            "[I 2023-06-20 20:48:49,089] Trial 37 finished with value: 0.7745357170497639 and parameters: {'iterations': 166, 'learning_rate': 0.09339426834777212, 'depth': 15, 'l2_leaf_reg': 3.1209357350366424e-07, 'random_strength': 6.2371641714496455}. Best is trial 4 with value: 0.7914937487529139.\n",
            "[I 2023-06-20 20:48:50,645] Trial 38 finished with value: 0.7257995986098195 and parameters: {'iterations': 145, 'learning_rate': 0.0815975100550087, 'depth': 12, 'l2_leaf_reg': 1.0334458967101119e-08, 'random_strength': 2.758161011328077}. Best is trial 4 with value: 0.7914937487529139.\n",
            "[I 2023-06-20 20:48:57,642] Trial 39 finished with value: 0.7769013957167882 and parameters: {'iterations': 128, 'learning_rate': 0.07391209157596539, 'depth': 13, 'l2_leaf_reg': 3.802959742729648e-08, 'random_strength': 1.7548786983175615}. Best is trial 4 with value: 0.7914937487529139.\n",
            "[I 2023-06-20 20:49:03,255] Trial 40 finished with value: 0.7730548680567327 and parameters: {'iterations': 171, 'learning_rate': 0.08847337171121605, 'depth': 13, 'l2_leaf_reg': 1.228363816524194e-07, 'random_strength': 1.0966297382267933}. Best is trial 4 with value: 0.7914937487529139.\n",
            "[I 2023-06-20 20:49:07,594] Trial 41 finished with value: 0.7897278290432249 and parameters: {'iterations': 181, 'learning_rate': 0.09576559514770681, 'depth': 13, 'l2_leaf_reg': 1.3464042545104891e-08, 'random_strength': 3.201082536860073}. Best is trial 4 with value: 0.7914937487529139.\n",
            "[I 2023-06-20 20:49:19,416] Trial 42 finished with value: 0.7682285714285714 and parameters: {'iterations': 184, 'learning_rate': 0.09580768489782737, 'depth': 14, 'l2_leaf_reg': 2.6506504690478886e-08, 'random_strength': 3.8752438145779475}. Best is trial 4 with value: 0.7914937487529139.\n",
            "[I 2023-06-20 20:49:20,914] Trial 43 finished with value: 0.7257995986098195 and parameters: {'iterations': 192, 'learning_rate': 0.09465661209874413, 'depth': 12, 'l2_leaf_reg': 2.6937966338895035e-08, 'random_strength': 2.9856550802164907}. Best is trial 4 with value: 0.7914937487529139.\n",
            "[I 2023-06-20 20:49:27,130] Trial 44 finished with value: 0.769512799339389 and parameters: {'iterations': 181, 'learning_rate': 0.0836816395439534, 'depth': 13, 'l2_leaf_reg': 7.507482888997617e-07, 'random_strength': 4.830302718291655}. Best is trial 4 with value: 0.7914937487529139.\n",
            "[I 2023-06-20 20:49:33,107] Trial 45 finished with value: 0.7459159488432459 and parameters: {'iterations': 165, 'learning_rate': 0.08992284538146686, 'depth': 14, 'l2_leaf_reg': 1.1196270028581383e-07, 'random_strength': 2.296086969866888}. Best is trial 4 with value: 0.7914937487529139.\n",
            "[I 2023-06-20 20:49:37,551] Trial 46 finished with value: 0.7914937487529139 and parameters: {'iterations': 190, 'learning_rate': 0.09607473105656739, 'depth': 13, 'l2_leaf_reg': 1.0496619113407698e-08, 'random_strength': 3.8206813215770303}. Best is trial 4 with value: 0.7914937487529139.\n",
            "[I 2023-06-20 20:49:39,116] Trial 47 finished with value: 0.7257995986098195 and parameters: {'iterations': 193, 'learning_rate': 0.0773482797323525, 'depth': 12, 'l2_leaf_reg': 1.675977039582961e-07, 'random_strength': 3.8677400268025184}. Best is trial 4 with value: 0.7914937487529139.\n",
            "[I 2023-06-20 20:49:40,642] Trial 48 finished with value: 0.7257995986098195 and parameters: {'iterations': 199, 'learning_rate': 0.08259896405332885, 'depth': 12, 'l2_leaf_reg': 2.2594915961369785e-06, 'random_strength': 4.66614636961808}. Best is trial 4 with value: 0.7914937487529139.\n",
            "[I 2023-06-20 20:49:47,264] Trial 49 finished with value: 0.7541469859620149 and parameters: {'iterations': 187, 'learning_rate': 0.08706776540937614, 'depth': 14, 'l2_leaf_reg': 5.7778728567562695e-08, 'random_strength': 5.421584323086561}. Best is trial 4 with value: 0.7914937487529139.\n"
          ]
        }
      ],
      "source": [
        "study = optuna.create_study(direction='maximize', study_name='classifier_CatBoost')\n",
        "study.optimize(objective, n_trials=50)"
      ]
    },
    {
      "cell_type": "code",
      "execution_count": 53,
      "metadata": {
        "id": "gPHaEZxNdP8W",
        "outputId": "24df5814-575f-42dc-9115-6d9cb3fbd670"
      },
      "outputs": [
        {
          "data": {
            "text/plain": [
              "{'iterations': 162,\n",
              " 'learning_rate': 0.09812763680653458,\n",
              " 'depth': 13,\n",
              " 'l2_leaf_reg': 7.213176387976182e-08,\n",
              " 'random_strength': 9.672568169605986}"
            ]
          },
          "execution_count": 53,
          "metadata": {},
          "output_type": "execute_result"
        }
      ],
      "source": [
        "study.best_params"
      ]
    },
    {
      "cell_type": "code",
      "execution_count": 54,
      "metadata": {
        "id": "kouo0z76dP8W"
      },
      "outputs": [],
      "source": [
        "params = {'iterations': 96,\n",
        " 'learning_rate': 0.09975268746932525,\n",
        " 'depth': 15,\n",
        " 'l2_leaf_reg': 0.5908593533847338,\n",
        " 'random_strength': 4.264579397542064}"
      ]
    },
    {
      "cell_type": "code",
      "execution_count": 55,
      "metadata": {
        "id": "zg6YZkqGdP8X"
      },
      "outputs": [],
      "source": [
        "model = CatBoostClassifier(**params,\n",
        "                           random_state = 42, \n",
        "                           thread_count=-1,\n",
        "                           class_weights=(cl_train_1, cl_train_0),\n",
        "                           eval_metric = 'F1',\n",
        "                           custom_metric='F1')"
      ]
    },
    {
      "cell_type": "code",
      "execution_count": 56,
      "metadata": {
        "id": "wNtHJVZIdP8i",
        "outputId": "615db9a9-083e-4070-f562-32bc0f82f208"
      },
      "outputs": [
        {
          "name": "stdout",
          "output_type": "stream",
          "text": [
            "0:\tlearn: 0.7078092\ttest: 0.7196890\tbest: 0.7196890 (0)\ttotal: 188ms\tremaining: 30.3s\n",
            "1:\tlearn: 0.7411950\ttest: 0.6815451\tbest: 0.7196890 (0)\ttotal: 238ms\tremaining: 19.1s\n",
            "2:\tlearn: 0.7470125\ttest: 0.6675680\tbest: 0.7196890 (0)\ttotal: 387ms\tremaining: 20.5s\n",
            "3:\tlearn: 0.7670803\ttest: 0.7065047\tbest: 0.7196890 (0)\ttotal: 557ms\tremaining: 22s\n",
            "4:\tlearn: 0.7657437\ttest: 0.7021637\tbest: 0.7196890 (0)\ttotal: 728ms\tremaining: 22.9s\n",
            "5:\tlearn: 0.7734812\ttest: 0.7105555\tbest: 0.7196890 (0)\ttotal: 812ms\tremaining: 21.1s\n",
            "6:\tlearn: 0.7511467\ttest: 0.7137131\tbest: 0.7196890 (0)\ttotal: 824ms\tremaining: 18.2s\n",
            "7:\tlearn: 0.7520013\ttest: 0.7189526\tbest: 0.7196890 (0)\ttotal: 865ms\tremaining: 16.7s\n",
            "8:\tlearn: 0.7677871\ttest: 0.7137277\tbest: 0.7196890 (0)\ttotal: 1.02s\tremaining: 17.3s\n",
            "9:\tlearn: 0.7820985\ttest: 0.7147607\tbest: 0.7196890 (0)\ttotal: 1.18s\tremaining: 18s\n",
            "10:\tlearn: 0.7859875\ttest: 0.7248874\tbest: 0.7248874 (10)\ttotal: 1.34s\tremaining: 18.4s\n",
            "11:\tlearn: 0.7833661\ttest: 0.7248874\tbest: 0.7248874 (10)\ttotal: 1.34s\tremaining: 16.8s\n",
            "12:\tlearn: 0.8009013\ttest: 0.7229272\tbest: 0.7248874 (10)\ttotal: 1.48s\tremaining: 17s\n",
            "13:\tlearn: 0.7925893\ttest: 0.7260369\tbest: 0.7260369 (13)\ttotal: 1.63s\tremaining: 17.3s\n",
            "14:\tlearn: 0.8109560\ttest: 0.7376716\tbest: 0.7376716 (14)\ttotal: 1.77s\tremaining: 17.4s\n",
            "15:\tlearn: 0.8147209\ttest: 0.7251098\tbest: 0.7376716 (14)\ttotal: 1.93s\tremaining: 17.6s\n",
            "16:\tlearn: 0.8229869\ttest: 0.7279798\tbest: 0.7376716 (14)\ttotal: 2.07s\tremaining: 17.6s\n",
            "17:\tlearn: 0.8309100\ttest: 0.7178661\tbest: 0.7376716 (14)\ttotal: 2.22s\tremaining: 17.7s\n",
            "18:\tlearn: 0.8398605\ttest: 0.7126743\tbest: 0.7376716 (14)\ttotal: 2.36s\tremaining: 17.8s\n",
            "19:\tlearn: 0.8393286\ttest: 0.7209344\tbest: 0.7376716 (14)\ttotal: 2.52s\tremaining: 17.9s\n",
            "20:\tlearn: 0.8453703\ttest: 0.7147607\tbest: 0.7376716 (14)\ttotal: 2.54s\tremaining: 17.1s\n",
            "21:\tlearn: 0.8436959\ttest: 0.7259153\tbest: 0.7376716 (14)\ttotal: 2.69s\tremaining: 17.1s\n",
            "22:\tlearn: 0.8490061\ttest: 0.7188222\tbest: 0.7376716 (14)\ttotal: 2.85s\tremaining: 17.2s\n",
            "23:\tlearn: 0.8456008\ttest: 0.7188222\tbest: 0.7376716 (14)\ttotal: 2.99s\tremaining: 17.2s\n",
            "24:\tlearn: 0.8516243\ttest: 0.7198441\tbest: 0.7376716 (14)\ttotal: 3.15s\tremaining: 17.2s\n",
            "25:\tlearn: 0.8505390\ttest: 0.7319559\tbest: 0.7376716 (14)\ttotal: 3.29s\tremaining: 17.2s\n",
            "26:\tlearn: 0.8527075\ttest: 0.7309220\tbest: 0.7376716 (14)\ttotal: 3.44s\tremaining: 17.2s\n",
            "27:\tlearn: 0.8508280\ttest: 0.7269461\tbest: 0.7376716 (14)\ttotal: 3.45s\tremaining: 16.5s\n",
            "28:\tlearn: 0.8532861\ttest: 0.7279798\tbest: 0.7376716 (14)\ttotal: 3.6s\tremaining: 16.5s\n",
            "29:\tlearn: 0.8558995\ttest: 0.7218966\tbest: 0.7376716 (14)\ttotal: 3.77s\tremaining: 16.6s\n",
            "30:\tlearn: 0.8601987\ttest: 0.7116764\tbest: 0.7376716 (14)\ttotal: 3.95s\tremaining: 16.7s\n",
            "31:\tlearn: 0.8644199\ttest: 0.7106059\tbest: 0.7376716 (14)\ttotal: 4.12s\tremaining: 16.8s\n",
            "32:\tlearn: 0.8657929\ttest: 0.7291734\tbest: 0.7376716 (14)\ttotal: 4.26s\tremaining: 16.7s\n",
            "33:\tlearn: 0.8668687\ttest: 0.7302250\tbest: 0.7376716 (14)\ttotal: 4.3s\tremaining: 16.2s\n",
            "34:\tlearn: 0.8748417\ttest: 0.7199533\tbest: 0.7376716 (14)\ttotal: 4.44s\tremaining: 16.1s\n",
            "35:\tlearn: 0.8798668\ttest: 0.7126743\tbest: 0.7376716 (14)\ttotal: 4.58s\tremaining: 16s\n",
            "36:\tlearn: 0.8789701\ttest: 0.7147549\tbest: 0.7376716 (14)\ttotal: 4.72s\tremaining: 15.9s\n",
            "37:\tlearn: 0.8780752\ttest: 0.7021637\tbest: 0.7376716 (14)\ttotal: 4.85s\tremaining: 15.8s\n",
            "38:\tlearn: 0.8825948\ttest: 0.7095141\tbest: 0.7376716 (14)\ttotal: 5s\tremaining: 15.8s\n",
            "39:\tlearn: 0.8845418\ttest: 0.7084757\tbest: 0.7376716 (14)\ttotal: 5.14s\tremaining: 15.7s\n",
            "40:\tlearn: 0.8869417\ttest: 0.7147549\tbest: 0.7376716 (14)\ttotal: 5.29s\tremaining: 15.6s\n",
            "41:\tlearn: 0.8876902\ttest: 0.7052683\tbest: 0.7376716 (14)\ttotal: 5.43s\tremaining: 15.5s\n",
            "42:\tlearn: 0.8923328\ttest: 0.7042304\tbest: 0.7376716 (14)\ttotal: 5.58s\tremaining: 15.4s\n",
            "43:\tlearn: 0.8923328\ttest: 0.7095141\tbest: 0.7376716 (14)\ttotal: 5.58s\tremaining: 15s\n",
            "44:\tlearn: 0.8921956\ttest: 0.7042304\tbest: 0.7376716 (14)\ttotal: 5.72s\tremaining: 14.9s\n",
            "45:\tlearn: 0.8937103\ttest: 0.7011349\tbest: 0.7376716 (14)\ttotal: 5.87s\tremaining: 14.8s\n",
            "46:\tlearn: 0.8987873\ttest: 0.7031955\tbest: 0.7376716 (14)\ttotal: 6.02s\tremaining: 14.7s\n",
            "47:\tlearn: 0.8976220\ttest: 0.7052683\tbest: 0.7376716 (14)\ttotal: 6.16s\tremaining: 14.6s\n",
            "48:\tlearn: 0.8995783\ttest: 0.7063092\tbest: 0.7376716 (14)\ttotal: 6.2s\tremaining: 14.3s\n",
            "49:\tlearn: 0.9027614\ttest: 0.7009748\tbest: 0.7376716 (14)\ttotal: 6.34s\tremaining: 14.2s\n",
            "50:\tlearn: 0.9026440\ttest: 0.6987158\tbest: 0.7376716 (14)\ttotal: 6.41s\tremaining: 14s\n",
            "51:\tlearn: 0.9025261\ttest: 0.7018634\tbest: 0.7376716 (14)\ttotal: 6.56s\tremaining: 13.9s\n",
            "52:\tlearn: 0.9019102\ttest: 0.7018634\tbest: 0.7376716 (14)\ttotal: 6.56s\tremaining: 13.5s\n",
            "53:\tlearn: 0.9038761\ttest: 0.6987158\tbest: 0.7376716 (14)\ttotal: 6.71s\tremaining: 13.4s\n",
            "54:\tlearn: 0.9032596\ttest: 0.6966330\tbest: 0.7376716 (14)\ttotal: 6.84s\tremaining: 13.3s\n",
            "55:\tlearn: 0.9034516\ttest: 0.6966330\tbest: 0.7376716 (14)\ttotal: 6.99s\tremaining: 13.2s\n",
            "56:\tlearn: 0.9051116\ttest: 0.6987158\tbest: 0.7376716 (14)\ttotal: 7.07s\tremaining: 13s\n",
            "57:\tlearn: 0.9078089\ttest: 0.6943234\tbest: 0.7376716 (14)\ttotal: 7.22s\tremaining: 12.9s\n",
            "58:\tlearn: 0.9074991\ttest: 0.6822744\tbest: 0.7376716 (14)\ttotal: 7.36s\tremaining: 12.9s\n",
            "59:\tlearn: 0.9090500\ttest: 0.6976728\tbest: 0.7376716 (14)\ttotal: 7.38s\tremaining: 12.5s\n",
            "60:\tlearn: 0.9087394\ttest: 0.6922420\tbest: 0.7376716 (14)\ttotal: 7.53s\tremaining: 12.5s\n",
            "61:\tlearn: 0.9091550\ttest: 0.6943234\tbest: 0.7376716 (14)\ttotal: 7.54s\tremaining: 12.2s\n",
            "62:\tlearn: 0.9104996\ttest: 0.6932811\tbest: 0.7376716 (14)\ttotal: 7.61s\tremaining: 12s\n",
            "63:\tlearn: 0.9097757\ttest: 0.6932811\tbest: 0.7376716 (14)\ttotal: 7.74s\tremaining: 11.9s\n",
            "64:\tlearn: 0.9097757\ttest: 0.6943234\tbest: 0.7376716 (14)\ttotal: 7.89s\tremaining: 11.8s\n",
            "65:\tlearn: 0.9131837\ttest: 0.6932811\tbest: 0.7376716 (14)\ttotal: 8.04s\tremaining: 11.7s\n",
            "66:\tlearn: 0.9133984\ttest: 0.6932811\tbest: 0.7376716 (14)\ttotal: 8.18s\tremaining: 11.6s\n",
            "67:\tlearn: 0.9144291\ttest: 0.6943234\tbest: 0.7376716 (14)\ttotal: 8.18s\tremaining: 11.3s\n",
            "68:\tlearn: 0.9146469\ttest: 0.6987158\tbest: 0.7376716 (14)\ttotal: 8.32s\tremaining: 11.2s\n",
            "69:\tlearn: 0.9167069\ttest: 0.6932811\tbest: 0.7376716 (14)\ttotal: 8.46s\tremaining: 11.1s\n",
            "70:\tlearn: 0.9159906\ttest: 0.6964173\tbest: 0.7376716 (14)\ttotal: 8.61s\tremaining: 11s\n",
            "71:\tlearn: 0.9185868\ttest: 0.6909254\tbest: 0.7376716 (14)\ttotal: 8.75s\tremaining: 10.9s\n",
            "72:\tlearn: 0.9195296\ttest: 0.7039775\tbest: 0.7376716 (14)\ttotal: 8.89s\tremaining: 10.8s\n",
            "73:\tlearn: 0.9211054\ttest: 0.7039775\tbest: 0.7376716 (14)\ttotal: 9.03s\tremaining: 10.7s\n",
            "74:\tlearn: 0.9223698\ttest: 0.7039775\tbest: 0.7376716 (14)\ttotal: 9.18s\tremaining: 10.6s\n",
            "75:\tlearn: 0.9244238\ttest: 0.7039775\tbest: 0.7376716 (14)\ttotal: 9.32s\tremaining: 10.5s\n",
            "76:\tlearn: 0.9250576\ttest: 0.7050394\tbest: 0.7376716 (14)\ttotal: 9.46s\tremaining: 10.4s\n",
            "77:\tlearn: 0.9256922\ttest: 0.6995820\tbest: 0.7376716 (14)\ttotal: 9.59s\tremaining: 10.3s\n",
            "78:\tlearn: 0.9256922\ttest: 0.7093857\tbest: 0.7376716 (14)\ttotal: 9.73s\tremaining: 10.2s\n",
            "79:\tlearn: 0.9276012\ttest: 0.7039775\tbest: 0.7376716 (14)\ttotal: 9.88s\tremaining: 10.1s\n",
            "80:\tlearn: 0.9266457\ttest: 0.7029189\tbest: 0.7376716 (14)\ttotal: 10s\tremaining: 10s\n",
            "81:\tlearn: 0.9310501\ttest: 0.7083233\tbest: 0.7376716 (14)\ttotal: 10.2s\tremaining: 9.91s\n",
            "82:\tlearn: 0.9363820\ttest: 0.7093857\tbest: 0.7376716 (14)\ttotal: 10.3s\tremaining: 9.82s\n",
            "83:\tlearn: 0.9377109\ttest: 0.7083233\tbest: 0.7376716 (14)\ttotal: 10.5s\tremaining: 9.71s\n",
            "84:\tlearn: 0.9363820\ttest: 0.7083233\tbest: 0.7376716 (14)\ttotal: 10.6s\tremaining: 9.61s\n",
            "85:\tlearn: 0.9380309\ttest: 0.7083233\tbest: 0.7376716 (14)\ttotal: 10.6s\tremaining: 9.38s\n",
            "86:\tlearn: 0.9386715\ttest: 0.6930242\tbest: 0.7376716 (14)\ttotal: 10.8s\tremaining: 9.27s\n",
            "87:\tlearn: 0.9403205\ttest: 0.6940784\tbest: 0.7376716 (14)\ttotal: 10.9s\tremaining: 9.17s\n",
            "88:\tlearn: 0.9406416\ttest: 0.6919732\tbest: 0.7376716 (14)\ttotal: 11s\tremaining: 9.05s\n",
            "89:\tlearn: 0.9436158\ttest: 0.6930242\tbest: 0.7376716 (14)\ttotal: 11.2s\tremaining: 8.95s\n",
            "90:\tlearn: 0.9449398\ttest: 0.6874778\tbest: 0.7376716 (14)\ttotal: 11.3s\tremaining: 8.84s\n",
            "91:\tlearn: 0.9449054\ttest: 0.7006433\tbest: 0.7376716 (14)\ttotal: 11.5s\tremaining: 8.73s\n",
            "92:\tlearn: 0.9455516\ttest: 0.6995820\tbest: 0.7376716 (14)\ttotal: 11.6s\tremaining: 8.61s\n",
            "93:\tlearn: 0.9475539\ttest: 0.7006433\tbest: 0.7376716 (14)\ttotal: 11.8s\tremaining: 8.5s\n",
            "94:\tlearn: 0.9482010\ttest: 0.7006433\tbest: 0.7376716 (14)\ttotal: 11.8s\tremaining: 8.3s\n",
            "95:\tlearn: 0.9478774\ttest: 0.7006433\tbest: 0.7376716 (14)\ttotal: 11.9s\tremaining: 8.19s\n",
            "96:\tlearn: 0.9488757\ttest: 0.6961965\tbest: 0.7376716 (14)\ttotal: 12.1s\tremaining: 8.08s\n",
            "97:\tlearn: 0.9478774\ttest: 0.7006433\tbest: 0.7376716 (14)\ttotal: 12.1s\tremaining: 7.92s\n",
            "98:\tlearn: 0.9491994\ttest: 0.7017078\tbest: 0.7376716 (14)\ttotal: 12.3s\tremaining: 7.8s\n",
            "99:\tlearn: 0.9491994\ttest: 0.7017078\tbest: 0.7376716 (14)\ttotal: 12.3s\tremaining: 7.61s\n",
            "100:\tlearn: 0.9501959\ttest: 0.6995820\tbest: 0.7376716 (14)\ttotal: 12.4s\tremaining: 7.49s\n",
            "101:\tlearn: 0.9518387\ttest: 0.6783296\tbest: 0.7376716 (14)\ttotal: 12.6s\tremaining: 7.39s\n",
            "102:\tlearn: 0.9508441\ttest: 0.6839796\tbest: 0.7376716 (14)\ttotal: 12.8s\tremaining: 7.31s\n",
            "103:\tlearn: 0.9534632\ttest: 0.6983275\tbest: 0.7376716 (14)\ttotal: 12.9s\tremaining: 7.2s\n",
            "104:\tlearn: 0.9541308\ttest: 0.6916980\tbest: 0.7376716 (14)\ttotal: 13.1s\tremaining: 7.09s\n",
            "105:\tlearn: 0.9544561\ttest: 0.6895814\tbest: 0.7376716 (14)\ttotal: 13.2s\tremaining: 7s\n",
            "106:\tlearn: 0.9544561\ttest: 0.6860879\tbest: 0.7376716 (14)\ttotal: 13.4s\tremaining: 6.89s\n",
            "107:\tlearn: 0.9564363\ttest: 0.6860879\tbest: 0.7376716 (14)\ttotal: 13.6s\tremaining: 6.78s\n",
            "108:\tlearn: 0.9567620\ttest: 0.6871470\tbest: 0.7376716 (14)\ttotal: 13.7s\tremaining: 6.67s\n",
            "109:\tlearn: 0.9567620\ttest: 0.6892749\tbest: 0.7376716 (14)\ttotal: 13.9s\tremaining: 6.55s\n",
            "110:\tlearn: 0.9580752\ttest: 0.6871470\tbest: 0.7376716 (14)\ttotal: 14s\tremaining: 6.44s\n",
            "111:\tlearn: 0.9597132\ttest: 0.6814844\tbest: 0.7376716 (14)\ttotal: 14.2s\tremaining: 6.32s\n",
            "112:\tlearn: 0.9603666\ttest: 0.6825425\tbest: 0.7376716 (14)\ttotal: 14.3s\tremaining: 6.2s\n",
            "113:\tlearn: 0.9587205\ttest: 0.6871470\tbest: 0.7376716 (14)\ttotal: 14.4s\tremaining: 6.05s\n",
            "114:\tlearn: 0.9613483\ttest: 0.6747222\tbest: 0.7376716 (14)\ttotal: 14.5s\tremaining: 5.94s\n",
            "115:\tlearn: 0.9593752\ttest: 0.6825425\tbest: 0.7376716 (14)\ttotal: 14.7s\tremaining: 5.81s\n",
            "116:\tlearn: 0.9603627\ttest: 0.6814844\tbest: 0.7376716 (14)\ttotal: 14.8s\tremaining: 5.7s\n",
            "117:\tlearn: 0.9606904\ttest: 0.6757727\tbest: 0.7376716 (14)\ttotal: 14.9s\tremaining: 5.57s\n",
            "118:\tlearn: 0.9606904\ttest: 0.6757727\tbest: 0.7376716 (14)\ttotal: 15.1s\tremaining: 5.45s\n",
            "119:\tlearn: 0.9613464\ttest: 0.6757727\tbest: 0.7376716 (14)\ttotal: 15.2s\tremaining: 5.33s\n",
            "120:\tlearn: 0.9613464\ttest: 0.6689653\tbest: 0.7376716 (14)\ttotal: 15.4s\tremaining: 5.21s\n",
            "121:\tlearn: 0.9672425\ttest: 0.6652445\tbest: 0.7376716 (14)\ttotal: 15.5s\tremaining: 5.09s\n",
            "122:\tlearn: 0.9675613\ttest: 0.6662927\tbest: 0.7376716 (14)\ttotal: 15.7s\tremaining: 4.96s\n",
            "123:\tlearn: 0.9691936\ttest: 0.6742288\tbest: 0.7376716 (14)\ttotal: 15.8s\tremaining: 4.84s\n",
            "124:\tlearn: 0.9711374\ttest: 0.6710608\tbest: 0.7376716 (14)\ttotal: 15.9s\tremaining: 4.71s\n",
            "125:\tlearn: 0.9750279\ttest: 0.6731695\tbest: 0.7376716 (14)\ttotal: 16.1s\tremaining: 4.59s\n",
            "126:\tlearn: 0.9756880\ttest: 0.6673441\tbest: 0.7376716 (14)\ttotal: 16.2s\tremaining: 4.47s\n",
            "127:\tlearn: 0.9763765\ttest: 0.6555386\tbest: 0.7376716 (14)\ttotal: 16.3s\tremaining: 4.34s\n",
            "128:\tlearn: 0.9799313\ttest: 0.6544966\tbest: 0.7376716 (14)\ttotal: 16.5s\tremaining: 4.22s\n",
            "129:\tlearn: 0.9828467\ttest: 0.6555386\tbest: 0.7376716 (14)\ttotal: 16.6s\tremaining: 4.09s\n",
            "130:\tlearn: 0.9841361\ttest: 0.6555386\tbest: 0.7376716 (14)\ttotal: 16.8s\tremaining: 3.97s\n",
            "131:\tlearn: 0.9860904\ttest: 0.6604206\tbest: 0.7376716 (14)\ttotal: 16.9s\tremaining: 3.84s\n",
            "132:\tlearn: 0.9889964\ttest: 0.6516411\tbest: 0.7376716 (14)\ttotal: 17.1s\tremaining: 3.72s\n",
            "133:\tlearn: 0.9896652\ttest: 0.6586845\tbest: 0.7376716 (14)\ttotal: 17.2s\tremaining: 3.59s\n",
            "134:\tlearn: 0.9922324\ttest: 0.6607986\tbest: 0.7376716 (14)\ttotal: 17.3s\tremaining: 3.47s\n",
            "135:\tlearn: 0.9945836\ttest: 0.6597399\tbest: 0.7376716 (14)\ttotal: 17.5s\tremaining: 3.34s\n",
            "136:\tlearn: 0.9949204\ttest: 0.6558497\tbest: 0.7376716 (14)\ttotal: 17.6s\tremaining: 3.21s\n",
            "137:\tlearn: 0.9952575\ttest: 0.6569103\tbest: 0.7376716 (14)\ttotal: 17.8s\tremaining: 3.09s\n",
            "138:\tlearn: 0.9962699\ttest: 0.6601130\tbest: 0.7376716 (14)\ttotal: 17.9s\tremaining: 2.96s\n",
            "139:\tlearn: 0.9966079\ttest: 0.6550968\tbest: 0.7376716 (14)\ttotal: 18s\tremaining: 2.83s\n",
            "140:\tlearn: 0.9976231\ttest: 0.6601130\tbest: 0.7376716 (14)\ttotal: 18.2s\tremaining: 2.71s\n",
            "141:\tlearn: 0.9983011\ttest: 0.6590420\tbest: 0.7376716 (14)\ttotal: 18.3s\tremaining: 2.58s\n",
            "142:\tlearn: 0.9983011\ttest: 0.6601130\tbest: 0.7376716 (14)\ttotal: 18.5s\tremaining: 2.45s\n",
            "143:\tlearn: 0.9986404\ttest: 0.6529614\tbest: 0.7376716 (14)\ttotal: 18.6s\tremaining: 2.32s\n",
            "144:\tlearn: 0.9986404\ttest: 0.6590420\tbest: 0.7376716 (14)\ttotal: 18.7s\tremaining: 2.2s\n",
            "145:\tlearn: 0.9986404\ttest: 0.6550968\tbest: 0.7376716 (14)\ttotal: 18.9s\tremaining: 2.07s\n",
            "146:\tlearn: 0.9986404\ttest: 0.6540274\tbest: 0.7376716 (14)\ttotal: 19s\tremaining: 1.94s\n",
            "147:\tlearn: 0.9986404\ttest: 0.6540274\tbest: 0.7376716 (14)\ttotal: 19.2s\tremaining: 1.81s\n",
            "148:\tlearn: 0.9986404\ttest: 0.6518990\tbest: 0.7376716 (14)\ttotal: 19.3s\tremaining: 1.69s\n",
            "149:\tlearn: 0.9986404\ttest: 0.6590420\tbest: 0.7376716 (14)\ttotal: 19.5s\tremaining: 1.56s\n",
            "150:\tlearn: 0.9993197\ttest: 0.6550968\tbest: 0.7376716 (14)\ttotal: 19.6s\tremaining: 1.43s\n",
            "151:\tlearn: 1.0000000\ttest: 0.6489505\tbest: 0.7376716 (14)\ttotal: 19.7s\tremaining: 1.3s\n",
            "152:\tlearn: 1.0000000\ttest: 0.6500182\tbest: 0.7376716 (14)\ttotal: 19.9s\tremaining: 1.17s\n",
            "153:\tlearn: 1.0000000\ttest: 0.6500182\tbest: 0.7376716 (14)\ttotal: 20s\tremaining: 1.04s\n",
            "154:\tlearn: 1.0000000\ttest: 0.6693925\tbest: 0.7376716 (14)\ttotal: 20.2s\tremaining: 911ms\n",
            "155:\tlearn: 1.0000000\ttest: 0.6622654\tbest: 0.7376716 (14)\ttotal: 20.3s\tremaining: 781ms\n",
            "156:\tlearn: 1.0000000\ttest: 0.6622654\tbest: 0.7376716 (14)\ttotal: 20.5s\tremaining: 651ms\n",
            "157:\tlearn: 1.0000000\ttest: 0.6644320\tbest: 0.7376716 (14)\ttotal: 20.6s\tremaining: 521ms\n",
            "158:\tlearn: 1.0000000\ttest: 0.6715760\tbest: 0.7376716 (14)\ttotal: 20.8s\tremaining: 392ms\n",
            "159:\tlearn: 1.0000000\ttest: 0.6715760\tbest: 0.7376716 (14)\ttotal: 21s\tremaining: 262ms\n",
            "160:\tlearn: 1.0000000\ttest: 0.6683061\tbest: 0.7376716 (14)\ttotal: 21.1s\tremaining: 131ms\n",
            "161:\tlearn: 1.0000000\ttest: 0.6683061\tbest: 0.7376716 (14)\ttotal: 21.4s\tremaining: 0us\n",
            "\n",
            "bestTest = 0.7376715825\n",
            "bestIteration = 14\n",
            "\n",
            "Shrink model to first 15 iterations.\n"
          ]
        },
        {
          "data": {
            "text/plain": [
              "<catboost.core.CatBoostClassifier at 0x7ff76cd37e20>"
            ]
          },
          "execution_count": 56,
          "metadata": {},
          "output_type": "execute_result"
        }
      ],
      "source": [
        "model.fit(X_train_l, Y_train, eval_set=(X_valid_l, Y_valid))"
      ]
    },
    {
      "cell_type": "code",
      "execution_count": 57,
      "metadata": {},
      "outputs": [
        {
          "data": {
            "text/plain": [
              "['f1',\n",
              " 'f3',\n",
              " 'f5',\n",
              " 'f6',\n",
              " 'f7',\n",
              " 'f8',\n",
              " 'text_len',\n",
              " 'words_count',\n",
              " 'sentence_count',\n",
              " 'number_percentage',\n",
              " 'caps_percentage',\n",
              " 'is_empty',\n",
              " 'text_0',\n",
              " 'text_1',\n",
              " 'falls_count']"
            ]
          },
          "execution_count": 57,
          "metadata": {},
          "output_type": "execute_result"
        }
      ],
      "source": [
        "model.feature_names_"
      ]
    },
    {
      "cell_type": "code",
      "execution_count": 58,
      "metadata": {
        "id": "lQloeCCgdP8j",
        "outputId": "394f2474-ce23-461f-a18a-855a7d8fcb7c"
      },
      "outputs": [
        {
          "data": {
            "text/plain": [
              "{'learn': {'F1:use_weights=false': 1.0,\n",
              "  'Logloss': 0.04265871348330875,\n",
              "  'F1': 1.0,\n",
              "  'F1:use_weights=true': 1.0},\n",
              " 'validation': {'F1:use_weights=false': 0.629757785467128,\n",
              "  'Logloss': 0.5545722292482602,\n",
              "  'F1': 0.7376715824906535,\n",
              "  'F1:use_weights=true': 0.7376715824906535}}"
            ]
          },
          "execution_count": 58,
          "metadata": {},
          "output_type": "execute_result"
        }
      ],
      "source": [
        "model.best_score_"
      ]
    },
    {
      "cell_type": "code",
      "execution_count": 59,
      "metadata": {
        "id": "tNhCgf6rdP8k"
      },
      "outputs": [],
      "source": [
        "data_test = pd.read_csv('./unbalanced_data/test_data.csv')\n",
        "Y_test = data_test['label']\n",
        "X_test = data_test.drop(['label', 'id1', 'id2', 'id3', 'text'], axis=1)"
      ]
    },
    {
      "cell_type": "code",
      "execution_count": 60,
      "metadata": {
        "id": "xIWbVHCBdP8k",
        "outputId": "a0f3cf71-4949-4ba1-856b-2f4a7038365b"
      },
      "outputs": [
        {
          "data": {
            "text/plain": [
              "0.829744616925388"
            ]
          },
          "execution_count": 60,
          "metadata": {},
          "output_type": "execute_result"
        }
      ],
      "source": [
        "model.score(X_train_l, Y_train)"
      ]
    },
    {
      "cell_type": "code",
      "execution_count": 61,
      "metadata": {
        "id": "5PnVOZR5dP8l",
        "outputId": "5ad3b515-d8fd-48c8-bcce-7f8ec6427614"
      },
      "outputs": [
        {
          "data": {
            "text/plain": [
              "0.786"
            ]
          },
          "execution_count": 61,
          "metadata": {},
          "output_type": "execute_result"
        }
      ],
      "source": [
        "model.score(X_valid_l, Y_valid)"
      ]
    },
    {
      "cell_type": "code",
      "execution_count": 62,
      "metadata": {
        "id": "vd7U6gtQdP8m",
        "outputId": "3d552505-13df-4d03-df8b-d1023945e267"
      },
      "outputs": [
        {
          "data": {
            "text/plain": [
              "0.7648"
            ]
          },
          "execution_count": 62,
          "metadata": {},
          "output_type": "execute_result"
        }
      ],
      "source": [
        "model.score(X_test_l, Y_test)"
      ]
    },
    {
      "cell_type": "code",
      "execution_count": 63,
      "metadata": {},
      "outputs": [
        {
          "data": {
            "text/plain": [
              "0.7736400061614853"
            ]
          },
          "execution_count": 63,
          "metadata": {},
          "output_type": "execute_result"
        }
      ],
      "source": [
        "f1_score(Y_test, model.predict(X_test_l), average='weighted')"
      ]
    },
    {
      "cell_type": "code",
      "execution_count": 64,
      "metadata": {},
      "outputs": [
        {
          "data": {
            "text/plain": [
              "0.6683060881967796"
            ]
          },
          "execution_count": 64,
          "metadata": {},
          "output_type": "execute_result"
        }
      ],
      "source": [
        "model.get_evals_result()['validation']['F1'][-1]"
      ]
    },
    {
      "cell_type": "code",
      "execution_count": 65,
      "metadata": {
        "id": "naD1ZYlkdP8m",
        "outputId": "2e3ab36b-3051-410a-c86f-08028e1afef6"
      },
      "outputs": [
        {
          "data": {
            "text/plain": [
              "(array([0, 0, 0, 0, 0, 1, 0, 0, 0, 0, 1, 0, 0, 0, 0, 0]),\n",
              " array([0, 0, 0, 0, 0, 0, 0, 0, 0, 0, 1, 0, 0, 1, 0, 1]))"
            ]
          },
          "execution_count": 65,
          "metadata": {},
          "output_type": "execute_result"
        }
      ],
      "source": [
        "model.predict(X_test.loc[30:45]), Y_test.loc[30:45].to_numpy()"
      ]
    },
    {
      "cell_type": "code",
      "execution_count": 66,
      "metadata": {},
      "outputs": [
        {
          "data": {
            "text/plain": [
              "array([0, 0, 1, 1, 1, 1, 1, 1, 0, 0, 1, 1, 1, 1, 0, 0, 1, 1, 0, 0])"
            ]
          },
          "execution_count": 66,
          "metadata": {},
          "output_type": "execute_result"
        }
      ],
      "source": [
        "# рассмотрим конкретно малочисленный класс\n",
        "mask = Y_test==1\n",
        "model.predict(X_test.loc[mask])[:20]"
      ]
    },
    {
      "cell_type": "code",
      "execution_count": 67,
      "metadata": {
        "id": "xwpXDaWXdP8n"
      },
      "outputs": [],
      "source": [
        "model.save_model(\"../model/catboost_with_text_text-class_tuned.model\")"
      ]
    },
    {
      "cell_type": "code",
      "execution_count": 72,
      "metadata": {},
      "outputs": [
        {
          "data": {
            "text/plain": [
              "['f1',\n",
              " 'f3',\n",
              " 'f5',\n",
              " 'f6',\n",
              " 'f7',\n",
              " 'f8',\n",
              " 'text_len',\n",
              " 'words_count',\n",
              " 'sentence_count',\n",
              " 'number_percentage',\n",
              " 'caps_percentage',\n",
              " 'is_empty',\n",
              " 'text_0',\n",
              " 'text_1',\n",
              " 'falls_count']"
            ]
          },
          "execution_count": 72,
          "metadata": {},
          "output_type": "execute_result"
        }
      ],
      "source": [
        "model.feature_names_"
      ]
    },
    {
      "cell_type": "code",
      "execution_count": 74,
      "metadata": {
        "id": "vrIp3IyMdP8o"
      },
      "outputs": [],
      "source": [
        "feature_importance = {}\n",
        "for name, val in zip(model.feature_names_, model.get_feature_importance()):\n",
        "    feature_importance[name] = val"
      ]
    },
    {
      "cell_type": "code",
      "execution_count": 75,
      "metadata": {
        "id": "DT2cFrDLdP8p",
        "outputId": "60999c1c-08d1-42c8-b5a5-dd8c32d1d24b"
      },
      "outputs": [
        {
          "data": {
            "image/png": "[encoded data removed]",
            "text/plain": [
              "<Figure size 640x480 with 1 Axes>"
            ]
          },
          "metadata": {},
          "output_type": "display_data"
        }
      ],
      "source": [
        "import matplotlib.pyplot as plt\n",
        "\n",
        "plt.bar(feature_importance.keys(), feature_importance.values())\n",
        "plt.xticks(rotation=90)\n",
        "plt.show()"
      ]
    },
    {
      "cell_type": "code",
      "execution_count": null,
      "metadata": {},
      "outputs": [],
      "source": []
    }
  ],
  "metadata": {
    "colab": {
      "provenance": []
    },
    "kernelspec": {
      "display_name": "Python 3",
      "language": "python",
      "name": "python3"
    },
    "language_info": {
      "codemirror_mode": {
        "name": "ipython",
        "version": 3
      },
      "file_extension": ".py",
      "mimetype": "text/x-python",
      "name": "python",
      "nbconvert_exporter": "python",
      "pygments_lexer": "ipython3",
      "version": "3.10.6"
    },
    "orig_nbformat": 4
  },
  "nbformat": 4,
  "nbformat_minor": 0
}
