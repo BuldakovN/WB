{
 "cells": [
  {
   "attachments": {},
   "cell_type": "markdown",
   "metadata": {},
   "source": [
    "# Модель"
   ]
  },
  {
   "cell_type": "code",
   "execution_count": 1,
   "metadata": {},
   "outputs": [],
   "source": [
    "from catboost import CatBoostClassifier\n",
    "from data_preprocessing import get_features\n",
    "import pandas as pd"
   ]
  },
  {
   "cell_type": "code",
   "execution_count": 37,
   "metadata": {},
   "outputs": [],
   "source": [
    "class Model:\n",
    "    def __init__(self, id_mode='with_id'):\n",
    "        self.id_mode = id_mode\n",
    "        assert id_mode in ['without_id', 'with_id'], KeyError()\n",
    "        self.catboost_model = CatBoostClassifier().load_model(f'./catboost_{id_mode}.model')\n",
    "\n",
    "    def get_features(self, data: pd.Series):\n",
    "        return get_features(data)\n",
    "\n",
    "    def preproccess(self, data: pd.Series, get_features):\n",
    "        data = data.drop(['f2', 'f4'])\n",
    "        if get_features:\n",
    "             data = self.get_features(data)\n",
    "        data = data.drop(['id1', 'id2', 'id3', 'text', 'label'], errors='ignore')   \n",
    "        if self.id_mode == 'without_id':\n",
    "            data = data.drop(['id1_pred', 'id1_in_database', 'id2_pred', 'id2_in_database',], errors='ignore')  \n",
    "        return data\n",
    "        \n",
    "    def predict(self, data: pd.Series, \n",
    "                get_features=True, \n",
    "                threshold = 0.5):\n",
    "        data = self.preproccess(data, get_features)\n",
    "        # если пользователь оставляет очень много фейков или наоборот – честных отзывов\n",
    "        self.catboost_model.set_probability_threshold(threshold)\n",
    "        predict = self.catboost_model.predict(data, )\n",
    "        return predict"
   ]
  },
  {
   "cell_type": "code",
   "execution_count": 38,
   "metadata": {},
   "outputs": [],
   "source": [
    "data = \"../data/wb_school_task_2.csv.gzip\"\n",
    "data = pd.read_csv(data, compression='gzip')\n",
    "data = data.drop_duplicates(ignore_index=True)"
   ]
  },
  {
   "cell_type": "code",
   "execution_count": 39,
   "metadata": {},
   "outputs": [],
   "source": [
    "model = Model(id_mode='with_id')"
   ]
  },
  {
   "cell_type": "code",
   "execution_count": 40,
   "metadata": {},
   "outputs": [],
   "source": [
    "X = data.drop('label', axis=1)\n",
    "Y = data['label']"
   ]
  },
  {
   "cell_type": "code",
   "execution_count": 41,
   "metadata": {},
   "outputs": [
    {
     "data": {
      "text/html": [
       "<div>\n",
       "<style scoped>\n",
       "    .dataframe tbody tr th:only-of-type {\n",
       "        vertical-align: middle;\n",
       "    }\n",
       "\n",
       "    .dataframe tbody tr th {\n",
       "        vertical-align: top;\n",
       "    }\n",
       "\n",
       "    .dataframe thead th {\n",
       "        text-align: right;\n",
       "    }\n",
       "</style>\n",
       "<table border=\"1\" class=\"dataframe\">\n",
       "  <thead>\n",
       "    <tr style=\"text-align: right;\">\n",
       "      <th></th>\n",
       "      <th>id1</th>\n",
       "      <th>id2</th>\n",
       "      <th>id3</th>\n",
       "      <th>text</th>\n",
       "      <th>f1</th>\n",
       "      <th>f2</th>\n",
       "      <th>f3</th>\n",
       "      <th>f4</th>\n",
       "      <th>f5</th>\n",
       "      <th>f6</th>\n",
       "      <th>f7</th>\n",
       "      <th>f8</th>\n",
       "    </tr>\n",
       "  </thead>\n",
       "  <tbody>\n",
       "    <tr>\n",
       "      <th>0</th>\n",
       "      <td>7596126584852021591</td>\n",
       "      <td>173777575861152844</td>\n",
       "      <td>18254136755182295358</td>\n",
       "      <td>Хотела купить на замену старых,по итогу эти  у...</td>\n",
       "      <td>1</td>\n",
       "      <td>1</td>\n",
       "      <td>1.0</td>\n",
       "      <td>11</td>\n",
       "      <td>13</td>\n",
       "      <td>4.272727</td>\n",
       "      <td>18</td>\n",
       "      <td>36</td>\n",
       "    </tr>\n",
       "    <tr>\n",
       "      <th>1</th>\n",
       "      <td>5327406586753254371</td>\n",
       "      <td>14366783259208998381</td>\n",
       "      <td>2324030737335224220</td>\n",
       "      <td>Запах по сравнению с обычным DOVE никакой. Оно...</td>\n",
       "      <td>10</td>\n",
       "      <td>6</td>\n",
       "      <td>2.7</td>\n",
       "      <td>46</td>\n",
       "      <td>4</td>\n",
       "      <td>4.434783</td>\n",
       "      <td>90</td>\n",
       "      <td>109</td>\n",
       "    </tr>\n",
       "    <tr>\n",
       "      <th>2</th>\n",
       "      <td>2636757786779776109</td>\n",
       "      <td>16985421652518589249</td>\n",
       "      <td>4904562693381133981</td>\n",
       "      <td>Кабель подошёл, хорошо работает.</td>\n",
       "      <td>4</td>\n",
       "      <td>4</td>\n",
       "      <td>4.0</td>\n",
       "      <td>14</td>\n",
       "      <td>0</td>\n",
       "      <td>4.500000</td>\n",
       "      <td>4</td>\n",
       "      <td>6</td>\n",
       "    </tr>\n",
       "    <tr>\n",
       "      <th>3</th>\n",
       "      <td>15432976385014516263</td>\n",
       "      <td>2629180387521298831</td>\n",
       "      <td>13541353053200353836</td>\n",
       "      <td>Восторг! Очень приятный аромат, держится долго...</td>\n",
       "      <td>6</td>\n",
       "      <td>6</td>\n",
       "      <td>5.0</td>\n",
       "      <td>374</td>\n",
       "      <td>30</td>\n",
       "      <td>4.772727</td>\n",
       "      <td>14</td>\n",
       "      <td>15</td>\n",
       "    </tr>\n",
       "    <tr>\n",
       "      <th>4</th>\n",
       "      <td>11933982800034911890</td>\n",
       "      <td>14531191561111600318</td>\n",
       "      <td>9121890650636487522</td>\n",
       "      <td>Визуально все хорошо. Не пробовали. Купили в п...</td>\n",
       "      <td>19</td>\n",
       "      <td>18</td>\n",
       "      <td>5.0</td>\n",
       "      <td>6</td>\n",
       "      <td>4</td>\n",
       "      <td>5.000000</td>\n",
       "      <td>26</td>\n",
       "      <td>33</td>\n",
       "    </tr>\n",
       "  </tbody>\n",
       "</table>\n",
       "</div>"
      ],
      "text/plain": [
       "                    id1                   id2                   id3  \\\n",
       "0   7596126584852021591    173777575861152844  18254136755182295358   \n",
       "1   5327406586753254371  14366783259208998381   2324030737335224220   \n",
       "2   2636757786779776109  16985421652518589249   4904562693381133981   \n",
       "3  15432976385014516263   2629180387521298831  13541353053200353836   \n",
       "4  11933982800034911890  14531191561111600318   9121890650636487522   \n",
       "\n",
       "                                                text  f1  f2   f3   f4  f5  \\\n",
       "0  Хотела купить на замену старых,по итогу эти  у...   1   1  1.0   11  13   \n",
       "1  Запах по сравнению с обычным DOVE никакой. Оно...  10   6  2.7   46   4   \n",
       "2                   Кабель подошёл, хорошо работает.   4   4  4.0   14   0   \n",
       "3  Восторг! Очень приятный аромат, держится долго...   6   6  5.0  374  30   \n",
       "4  Визуально все хорошо. Не пробовали. Купили в п...  19  18  5.0    6   4   \n",
       "\n",
       "         f6  f7   f8  \n",
       "0  4.272727  18   36  \n",
       "1  4.434783  90  109  \n",
       "2  4.500000   4    6  \n",
       "3  4.772727  14   15  \n",
       "4  5.000000  26   33  "
      ]
     },
     "execution_count": 41,
     "metadata": {},
     "output_type": "execute_result"
    }
   ],
   "source": [
    "X.head()"
   ]
  },
  {
   "cell_type": "code",
   "execution_count": 42,
   "metadata": {},
   "outputs": [],
   "source": [
    "pred = X.apply(lambda x: model.predict(x, get_features=True), axis=1)"
   ]
  },
  {
   "cell_type": "code",
   "execution_count": 43,
   "metadata": {},
   "outputs": [
    {
     "data": {
      "text/plain": [
       "0       1\n",
       "1       1\n",
       "2       0\n",
       "3       0\n",
       "4       0\n",
       "       ..\n",
       "3117    1\n",
       "3118    0\n",
       "3119    0\n",
       "3120    0\n",
       "3121    0\n",
       "Length: 3122, dtype: int64"
      ]
     },
     "execution_count": 43,
     "metadata": {},
     "output_type": "execute_result"
    }
   ],
   "source": [
    "pred"
   ]
  },
  {
   "cell_type": "code",
   "execution_count": 44,
   "metadata": {},
   "outputs": [
    {
     "data": {
      "text/plain": [
       "(array([[1818,  479],\n",
       "        [ 205,  620]], dtype=int64),\n",
       " 0.6444906444906444)"
      ]
     },
     "execution_count": 44,
     "metadata": {},
     "output_type": "execute_result"
    }
   ],
   "source": [
    "from sklearn.metrics import confusion_matrix, f1_score, classification_report\n",
    "\n",
    "confusion_matrix(Y, pred), f1_score(Y, pred)"
   ]
  },
  {
   "cell_type": "code",
   "execution_count": 45,
   "metadata": {},
   "outputs": [
    {
     "name": "stdout",
     "output_type": "stream",
     "text": [
      "              precision    recall  f1-score   support\n",
      "\n",
      "           0       0.90      0.79      0.84      2297\n",
      "           1       0.56      0.75      0.64       825\n",
      "\n",
      "    accuracy                           0.78      3122\n",
      "   macro avg       0.73      0.77      0.74      3122\n",
      "weighted avg       0.81      0.78      0.79      3122\n",
      "\n"
     ]
    }
   ],
   "source": [
    "print(classification_report(Y, pred))"
   ]
  },
  {
   "cell_type": "code",
   "execution_count": null,
   "metadata": {},
   "outputs": [],
   "source": []
  }
 ],
 "metadata": {
  "kernelspec": {
   "display_name": "base",
   "language": "python",
   "name": "python3"
  },
  "language_info": {
   "codemirror_mode": {
    "name": "ipython",
    "version": 3
   },
   "file_extension": ".py",
   "mimetype": "text/x-python",
   "name": "python",
   "nbconvert_exporter": "python",
   "pygments_lexer": "ipython3",
   "version": "3.9.12"
  },
  "orig_nbformat": 4
 },
 "nbformat": 4,
 "nbformat_minor": 2
}
